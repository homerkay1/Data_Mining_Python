{
 "cells": [
  {
   "cell_type": "markdown",
   "metadata": {},
   "source": [
    "# Hmwk 1 Part 3 - Homer Kay"
   ]
  },
  {
   "cell_type": "code",
   "execution_count": 1,
   "metadata": {},
   "outputs": [],
   "source": [
    "#Add packages\n",
    "%matplotlib inline \n",
    "import numpy as np\n",
    "import matplotlib.pyplot as plt\n",
    "import pandas as pd\n",
    "#From Scikit Learn\n",
    "from sklearn import preprocessing\n",
    "from sklearn.model_selection  import train_test_split, cross_val_score, KFold\n",
    "from sklearn.model_selection import GridSearchCV\n",
    "from sklearn.metrics import accuracy_score, precision_score, recall_score, f1_score\n",
    "from sklearn.metrics import roc_curve, auc, confusion_matrix, classification_report"
   ]
  },
  {
   "cell_type": "code",
   "execution_count": 2,
   "metadata": {},
   "outputs": [
    {
     "data": {
      "text/plain": [
       "'/Users/homerkay/Desktop/6303 Predictive Models/HMWK 1/Notebooks'"
      ]
     },
     "execution_count": 2,
     "metadata": {},
     "output_type": "execute_result"
    }
   ],
   "source": [
    "# Checking Current Directory\n",
    "%pwd"
   ]
  },
  {
   "cell_type": "code",
   "execution_count": 3,
   "metadata": {},
   "outputs": [
    {
     "name": "stdout",
     "output_type": "stream",
     "text": [
      "/Users/homerkay/Desktop/6303 Predictive Models/HMWK 1\n"
     ]
    }
   ],
   "source": [
    "# Change Directory\n",
    "%cd /Users/homerkay/Desktop/6303 Predictive Models/HMWK 1"
   ]
  },
  {
   "cell_type": "markdown",
   "metadata": {},
   "source": [
    "## Reading in Dataset from URL"
   ]
  },
  {
   "cell_type": "code",
   "execution_count": 27,
   "metadata": {},
   "outputs": [
    {
     "data": {
      "text/html": [
       "<div>\n",
       "<style scoped>\n",
       "    .dataframe tbody tr th:only-of-type {\n",
       "        vertical-align: middle;\n",
       "    }\n",
       "\n",
       "    .dataframe tbody tr th {\n",
       "        vertical-align: top;\n",
       "    }\n",
       "\n",
       "    .dataframe thead th {\n",
       "        text-align: right;\n",
       "    }\n",
       "</style>\n",
       "<table border=\"1\" class=\"dataframe\">\n",
       "  <thead>\n",
       "    <tr style=\"text-align: right;\">\n",
       "      <th></th>\n",
       "      <th>0</th>\n",
       "      <th>1</th>\n",
       "      <th>2</th>\n",
       "      <th>3</th>\n",
       "      <th>4</th>\n",
       "      <th>5</th>\n",
       "      <th>6</th>\n",
       "      <th>7</th>\n",
       "      <th>8</th>\n",
       "      <th>9</th>\n",
       "      <th>...</th>\n",
       "      <th>118</th>\n",
       "      <th>119</th>\n",
       "      <th>120</th>\n",
       "      <th>121</th>\n",
       "      <th>122</th>\n",
       "      <th>123</th>\n",
       "      <th>124</th>\n",
       "      <th>125</th>\n",
       "      <th>126</th>\n",
       "      <th>127</th>\n",
       "    </tr>\n",
       "  </thead>\n",
       "  <tbody>\n",
       "    <tr>\n",
       "      <th>0</th>\n",
       "      <td>8</td>\n",
       "      <td>NaN</td>\n",
       "      <td>NaN</td>\n",
       "      <td>Lakewoodcity</td>\n",
       "      <td>1</td>\n",
       "      <td>0.19</td>\n",
       "      <td>0.33</td>\n",
       "      <td>0.02</td>\n",
       "      <td>0.90</td>\n",
       "      <td>0.12</td>\n",
       "      <td>...</td>\n",
       "      <td>0.12</td>\n",
       "      <td>0.26</td>\n",
       "      <td>0.20</td>\n",
       "      <td>0.06</td>\n",
       "      <td>0.04</td>\n",
       "      <td>0.9</td>\n",
       "      <td>0.5</td>\n",
       "      <td>0.32</td>\n",
       "      <td>0.14</td>\n",
       "      <td>0.20</td>\n",
       "    </tr>\n",
       "    <tr>\n",
       "      <th>1</th>\n",
       "      <td>53</td>\n",
       "      <td>NaN</td>\n",
       "      <td>NaN</td>\n",
       "      <td>Tukwilacity</td>\n",
       "      <td>1</td>\n",
       "      <td>0.00</td>\n",
       "      <td>0.16</td>\n",
       "      <td>0.12</td>\n",
       "      <td>0.74</td>\n",
       "      <td>0.45</td>\n",
       "      <td>...</td>\n",
       "      <td>0.02</td>\n",
       "      <td>0.12</td>\n",
       "      <td>0.45</td>\n",
       "      <td>NaN</td>\n",
       "      <td>NaN</td>\n",
       "      <td>NaN</td>\n",
       "      <td>NaN</td>\n",
       "      <td>0.00</td>\n",
       "      <td>NaN</td>\n",
       "      <td>0.67</td>\n",
       "    </tr>\n",
       "    <tr>\n",
       "      <th>2</th>\n",
       "      <td>24</td>\n",
       "      <td>NaN</td>\n",
       "      <td>NaN</td>\n",
       "      <td>Aberdeentown</td>\n",
       "      <td>1</td>\n",
       "      <td>0.00</td>\n",
       "      <td>0.42</td>\n",
       "      <td>0.49</td>\n",
       "      <td>0.56</td>\n",
       "      <td>0.17</td>\n",
       "      <td>...</td>\n",
       "      <td>0.01</td>\n",
       "      <td>0.21</td>\n",
       "      <td>0.02</td>\n",
       "      <td>NaN</td>\n",
       "      <td>NaN</td>\n",
       "      <td>NaN</td>\n",
       "      <td>NaN</td>\n",
       "      <td>0.00</td>\n",
       "      <td>NaN</td>\n",
       "      <td>0.43</td>\n",
       "    </tr>\n",
       "    <tr>\n",
       "      <th>3</th>\n",
       "      <td>34</td>\n",
       "      <td>5.0</td>\n",
       "      <td>81440.0</td>\n",
       "      <td>Willingborotownship</td>\n",
       "      <td>1</td>\n",
       "      <td>0.04</td>\n",
       "      <td>0.77</td>\n",
       "      <td>1.00</td>\n",
       "      <td>0.08</td>\n",
       "      <td>0.12</td>\n",
       "      <td>...</td>\n",
       "      <td>0.02</td>\n",
       "      <td>0.39</td>\n",
       "      <td>0.28</td>\n",
       "      <td>NaN</td>\n",
       "      <td>NaN</td>\n",
       "      <td>NaN</td>\n",
       "      <td>NaN</td>\n",
       "      <td>0.00</td>\n",
       "      <td>NaN</td>\n",
       "      <td>0.12</td>\n",
       "    </tr>\n",
       "    <tr>\n",
       "      <th>4</th>\n",
       "      <td>42</td>\n",
       "      <td>95.0</td>\n",
       "      <td>6096.0</td>\n",
       "      <td>Bethlehemtownship</td>\n",
       "      <td>1</td>\n",
       "      <td>0.01</td>\n",
       "      <td>0.55</td>\n",
       "      <td>0.02</td>\n",
       "      <td>0.95</td>\n",
       "      <td>0.09</td>\n",
       "      <td>...</td>\n",
       "      <td>0.04</td>\n",
       "      <td>0.09</td>\n",
       "      <td>0.02</td>\n",
       "      <td>NaN</td>\n",
       "      <td>NaN</td>\n",
       "      <td>NaN</td>\n",
       "      <td>NaN</td>\n",
       "      <td>0.00</td>\n",
       "      <td>NaN</td>\n",
       "      <td>0.03</td>\n",
       "    </tr>\n",
       "    <tr>\n",
       "      <th>5</th>\n",
       "      <td>6</td>\n",
       "      <td>NaN</td>\n",
       "      <td>NaN</td>\n",
       "      <td>SouthPasadenacity</td>\n",
       "      <td>1</td>\n",
       "      <td>0.02</td>\n",
       "      <td>0.28</td>\n",
       "      <td>0.06</td>\n",
       "      <td>0.54</td>\n",
       "      <td>1.00</td>\n",
       "      <td>...</td>\n",
       "      <td>0.01</td>\n",
       "      <td>0.58</td>\n",
       "      <td>0.10</td>\n",
       "      <td>NaN</td>\n",
       "      <td>NaN</td>\n",
       "      <td>NaN</td>\n",
       "      <td>NaN</td>\n",
       "      <td>0.00</td>\n",
       "      <td>NaN</td>\n",
       "      <td>0.14</td>\n",
       "    </tr>\n",
       "    <tr>\n",
       "      <th>6</th>\n",
       "      <td>44</td>\n",
       "      <td>7.0</td>\n",
       "      <td>41500.0</td>\n",
       "      <td>Lincolntown</td>\n",
       "      <td>1</td>\n",
       "      <td>0.01</td>\n",
       "      <td>0.39</td>\n",
       "      <td>0.00</td>\n",
       "      <td>0.98</td>\n",
       "      <td>0.06</td>\n",
       "      <td>...</td>\n",
       "      <td>0.05</td>\n",
       "      <td>0.08</td>\n",
       "      <td>0.06</td>\n",
       "      <td>NaN</td>\n",
       "      <td>NaN</td>\n",
       "      <td>NaN</td>\n",
       "      <td>NaN</td>\n",
       "      <td>0.00</td>\n",
       "      <td>NaN</td>\n",
       "      <td>0.03</td>\n",
       "    </tr>\n",
       "    <tr>\n",
       "      <th>7</th>\n",
       "      <td>6</td>\n",
       "      <td>NaN</td>\n",
       "      <td>NaN</td>\n",
       "      <td>Selmacity</td>\n",
       "      <td>1</td>\n",
       "      <td>0.01</td>\n",
       "      <td>0.74</td>\n",
       "      <td>0.03</td>\n",
       "      <td>0.46</td>\n",
       "      <td>0.20</td>\n",
       "      <td>...</td>\n",
       "      <td>0.01</td>\n",
       "      <td>0.33</td>\n",
       "      <td>0.00</td>\n",
       "      <td>NaN</td>\n",
       "      <td>NaN</td>\n",
       "      <td>NaN</td>\n",
       "      <td>NaN</td>\n",
       "      <td>0.00</td>\n",
       "      <td>NaN</td>\n",
       "      <td>0.55</td>\n",
       "    </tr>\n",
       "    <tr>\n",
       "      <th>8</th>\n",
       "      <td>21</td>\n",
       "      <td>NaN</td>\n",
       "      <td>NaN</td>\n",
       "      <td>Hendersoncity</td>\n",
       "      <td>1</td>\n",
       "      <td>0.03</td>\n",
       "      <td>0.34</td>\n",
       "      <td>0.20</td>\n",
       "      <td>0.84</td>\n",
       "      <td>0.02</td>\n",
       "      <td>...</td>\n",
       "      <td>0.04</td>\n",
       "      <td>0.17</td>\n",
       "      <td>0.04</td>\n",
       "      <td>NaN</td>\n",
       "      <td>NaN</td>\n",
       "      <td>NaN</td>\n",
       "      <td>NaN</td>\n",
       "      <td>0.00</td>\n",
       "      <td>NaN</td>\n",
       "      <td>0.53</td>\n",
       "    </tr>\n",
       "    <tr>\n",
       "      <th>9</th>\n",
       "      <td>29</td>\n",
       "      <td>NaN</td>\n",
       "      <td>NaN</td>\n",
       "      <td>Claytoncity</td>\n",
       "      <td>1</td>\n",
       "      <td>0.01</td>\n",
       "      <td>0.40</td>\n",
       "      <td>0.06</td>\n",
       "      <td>0.87</td>\n",
       "      <td>0.30</td>\n",
       "      <td>...</td>\n",
       "      <td>0.00</td>\n",
       "      <td>0.47</td>\n",
       "      <td>0.11</td>\n",
       "      <td>NaN</td>\n",
       "      <td>NaN</td>\n",
       "      <td>NaN</td>\n",
       "      <td>NaN</td>\n",
       "      <td>0.00</td>\n",
       "      <td>NaN</td>\n",
       "      <td>0.15</td>\n",
       "    </tr>\n",
       "  </tbody>\n",
       "</table>\n",
       "<p>10 rows × 128 columns</p>\n",
       "</div>"
      ],
      "text/plain": [
       "   0     1        2                    3    4     5     6     7     8     9    \\\n",
       "0    8   NaN      NaN         Lakewoodcity    1  0.19  0.33  0.02  0.90  0.12   \n",
       "1   53   NaN      NaN          Tukwilacity    1  0.00  0.16  0.12  0.74  0.45   \n",
       "2   24   NaN      NaN         Aberdeentown    1  0.00  0.42  0.49  0.56  0.17   \n",
       "3   34   5.0  81440.0  Willingborotownship    1  0.04  0.77  1.00  0.08  0.12   \n",
       "4   42  95.0   6096.0    Bethlehemtownship    1  0.01  0.55  0.02  0.95  0.09   \n",
       "5    6   NaN      NaN    SouthPasadenacity    1  0.02  0.28  0.06  0.54  1.00   \n",
       "6   44   7.0  41500.0          Lincolntown    1  0.01  0.39  0.00  0.98  0.06   \n",
       "7    6   NaN      NaN            Selmacity    1  0.01  0.74  0.03  0.46  0.20   \n",
       "8   21   NaN      NaN        Hendersoncity    1  0.03  0.34  0.20  0.84  0.02   \n",
       "9   29   NaN      NaN          Claytoncity    1  0.01  0.40  0.06  0.87  0.30   \n",
       "\n",
       "   ...    118   119   120   121   122  123  124   125   126   127  \n",
       "0  ...   0.12  0.26  0.20  0.06  0.04  0.9  0.5  0.32  0.14  0.20  \n",
       "1  ...   0.02  0.12  0.45   NaN   NaN  NaN  NaN  0.00   NaN  0.67  \n",
       "2  ...   0.01  0.21  0.02   NaN   NaN  NaN  NaN  0.00   NaN  0.43  \n",
       "3  ...   0.02  0.39  0.28   NaN   NaN  NaN  NaN  0.00   NaN  0.12  \n",
       "4  ...   0.04  0.09  0.02   NaN   NaN  NaN  NaN  0.00   NaN  0.03  \n",
       "5  ...   0.01  0.58  0.10   NaN   NaN  NaN  NaN  0.00   NaN  0.14  \n",
       "6  ...   0.05  0.08  0.06   NaN   NaN  NaN  NaN  0.00   NaN  0.03  \n",
       "7  ...   0.01  0.33  0.00   NaN   NaN  NaN  NaN  0.00   NaN  0.55  \n",
       "8  ...   0.04  0.17  0.04   NaN   NaN  NaN  NaN  0.00   NaN  0.53  \n",
       "9  ...   0.00  0.47  0.11   NaN   NaN  NaN  NaN  0.00   NaN  0.15  \n",
       "\n",
       "[10 rows x 128 columns]"
      ]
     },
     "execution_count": 27,
     "metadata": {},
     "output_type": "execute_result"
    }
   ],
   "source": [
    "\n",
    "import pandas as pd\n",
    "url = 'http://archive.ics.uci.edu/ml/machine-learning-databases/communities/communities.data'\n",
    "crime = pd.read_csv(url, header=None, na_values=['?'])\n",
    "crime.head(10)\n",
    "\n",
    "#https://archive.ics.uci.edu/ml/datasets/Communities+and+Crime\n"
   ]
  },
  {
   "cell_type": "markdown",
   "metadata": {},
   "source": [
    "## Crime Target Variable"
   ]
  },
  {
   "cell_type": "code",
   "execution_count": 28,
   "metadata": {},
   "outputs": [
    {
     "data": {
      "text/html": [
       "<div>\n",
       "<style scoped>\n",
       "    .dataframe tbody tr th:only-of-type {\n",
       "        vertical-align: middle;\n",
       "    }\n",
       "\n",
       "    .dataframe tbody tr th {\n",
       "        vertical-align: top;\n",
       "    }\n",
       "\n",
       "    .dataframe thead th {\n",
       "        text-align: right;\n",
       "    }\n",
       "</style>\n",
       "<table border=\"1\" class=\"dataframe\">\n",
       "  <thead>\n",
       "    <tr style=\"text-align: right;\">\n",
       "      <th></th>\n",
       "      <th>127</th>\n",
       "      <th>0</th>\n",
       "      <th>1</th>\n",
       "      <th>2</th>\n",
       "      <th>3</th>\n",
       "      <th>4</th>\n",
       "      <th>5</th>\n",
       "      <th>6</th>\n",
       "      <th>7</th>\n",
       "      <th>8</th>\n",
       "      <th>...</th>\n",
       "      <th>117</th>\n",
       "      <th>118</th>\n",
       "      <th>119</th>\n",
       "      <th>120</th>\n",
       "      <th>121</th>\n",
       "      <th>122</th>\n",
       "      <th>123</th>\n",
       "      <th>124</th>\n",
       "      <th>125</th>\n",
       "      <th>126</th>\n",
       "    </tr>\n",
       "  </thead>\n",
       "  <tbody>\n",
       "    <tr>\n",
       "      <th>0</th>\n",
       "      <td>0.20</td>\n",
       "      <td>8</td>\n",
       "      <td>NaN</td>\n",
       "      <td>NaN</td>\n",
       "      <td>Lakewoodcity</td>\n",
       "      <td>1</td>\n",
       "      <td>0.19</td>\n",
       "      <td>0.33</td>\n",
       "      <td>0.02</td>\n",
       "      <td>0.90</td>\n",
       "      <td>...</td>\n",
       "      <td>0.29</td>\n",
       "      <td>0.12</td>\n",
       "      <td>0.26</td>\n",
       "      <td>0.20</td>\n",
       "      <td>0.06</td>\n",
       "      <td>0.04</td>\n",
       "      <td>0.9</td>\n",
       "      <td>0.5</td>\n",
       "      <td>0.32</td>\n",
       "      <td>0.14</td>\n",
       "    </tr>\n",
       "    <tr>\n",
       "      <th>1</th>\n",
       "      <td>0.67</td>\n",
       "      <td>53</td>\n",
       "      <td>NaN</td>\n",
       "      <td>NaN</td>\n",
       "      <td>Tukwilacity</td>\n",
       "      <td>1</td>\n",
       "      <td>0.00</td>\n",
       "      <td>0.16</td>\n",
       "      <td>0.12</td>\n",
       "      <td>0.74</td>\n",
       "      <td>...</td>\n",
       "      <td>NaN</td>\n",
       "      <td>0.02</td>\n",
       "      <td>0.12</td>\n",
       "      <td>0.45</td>\n",
       "      <td>NaN</td>\n",
       "      <td>NaN</td>\n",
       "      <td>NaN</td>\n",
       "      <td>NaN</td>\n",
       "      <td>0.00</td>\n",
       "      <td>NaN</td>\n",
       "    </tr>\n",
       "    <tr>\n",
       "      <th>2</th>\n",
       "      <td>0.43</td>\n",
       "      <td>24</td>\n",
       "      <td>NaN</td>\n",
       "      <td>NaN</td>\n",
       "      <td>Aberdeentown</td>\n",
       "      <td>1</td>\n",
       "      <td>0.00</td>\n",
       "      <td>0.42</td>\n",
       "      <td>0.49</td>\n",
       "      <td>0.56</td>\n",
       "      <td>...</td>\n",
       "      <td>NaN</td>\n",
       "      <td>0.01</td>\n",
       "      <td>0.21</td>\n",
       "      <td>0.02</td>\n",
       "      <td>NaN</td>\n",
       "      <td>NaN</td>\n",
       "      <td>NaN</td>\n",
       "      <td>NaN</td>\n",
       "      <td>0.00</td>\n",
       "      <td>NaN</td>\n",
       "    </tr>\n",
       "    <tr>\n",
       "      <th>3</th>\n",
       "      <td>0.12</td>\n",
       "      <td>34</td>\n",
       "      <td>5.0</td>\n",
       "      <td>81440.0</td>\n",
       "      <td>Willingborotownship</td>\n",
       "      <td>1</td>\n",
       "      <td>0.04</td>\n",
       "      <td>0.77</td>\n",
       "      <td>1.00</td>\n",
       "      <td>0.08</td>\n",
       "      <td>...</td>\n",
       "      <td>NaN</td>\n",
       "      <td>0.02</td>\n",
       "      <td>0.39</td>\n",
       "      <td>0.28</td>\n",
       "      <td>NaN</td>\n",
       "      <td>NaN</td>\n",
       "      <td>NaN</td>\n",
       "      <td>NaN</td>\n",
       "      <td>0.00</td>\n",
       "      <td>NaN</td>\n",
       "    </tr>\n",
       "    <tr>\n",
       "      <th>4</th>\n",
       "      <td>0.03</td>\n",
       "      <td>42</td>\n",
       "      <td>95.0</td>\n",
       "      <td>6096.0</td>\n",
       "      <td>Bethlehemtownship</td>\n",
       "      <td>1</td>\n",
       "      <td>0.01</td>\n",
       "      <td>0.55</td>\n",
       "      <td>0.02</td>\n",
       "      <td>0.95</td>\n",
       "      <td>...</td>\n",
       "      <td>NaN</td>\n",
       "      <td>0.04</td>\n",
       "      <td>0.09</td>\n",
       "      <td>0.02</td>\n",
       "      <td>NaN</td>\n",
       "      <td>NaN</td>\n",
       "      <td>NaN</td>\n",
       "      <td>NaN</td>\n",
       "      <td>0.00</td>\n",
       "      <td>NaN</td>\n",
       "    </tr>\n",
       "    <tr>\n",
       "      <th>5</th>\n",
       "      <td>0.14</td>\n",
       "      <td>6</td>\n",
       "      <td>NaN</td>\n",
       "      <td>NaN</td>\n",
       "      <td>SouthPasadenacity</td>\n",
       "      <td>1</td>\n",
       "      <td>0.02</td>\n",
       "      <td>0.28</td>\n",
       "      <td>0.06</td>\n",
       "      <td>0.54</td>\n",
       "      <td>...</td>\n",
       "      <td>NaN</td>\n",
       "      <td>0.01</td>\n",
       "      <td>0.58</td>\n",
       "      <td>0.10</td>\n",
       "      <td>NaN</td>\n",
       "      <td>NaN</td>\n",
       "      <td>NaN</td>\n",
       "      <td>NaN</td>\n",
       "      <td>0.00</td>\n",
       "      <td>NaN</td>\n",
       "    </tr>\n",
       "    <tr>\n",
       "      <th>6</th>\n",
       "      <td>0.03</td>\n",
       "      <td>44</td>\n",
       "      <td>7.0</td>\n",
       "      <td>41500.0</td>\n",
       "      <td>Lincolntown</td>\n",
       "      <td>1</td>\n",
       "      <td>0.01</td>\n",
       "      <td>0.39</td>\n",
       "      <td>0.00</td>\n",
       "      <td>0.98</td>\n",
       "      <td>...</td>\n",
       "      <td>NaN</td>\n",
       "      <td>0.05</td>\n",
       "      <td>0.08</td>\n",
       "      <td>0.06</td>\n",
       "      <td>NaN</td>\n",
       "      <td>NaN</td>\n",
       "      <td>NaN</td>\n",
       "      <td>NaN</td>\n",
       "      <td>0.00</td>\n",
       "      <td>NaN</td>\n",
       "    </tr>\n",
       "    <tr>\n",
       "      <th>7</th>\n",
       "      <td>0.55</td>\n",
       "      <td>6</td>\n",
       "      <td>NaN</td>\n",
       "      <td>NaN</td>\n",
       "      <td>Selmacity</td>\n",
       "      <td>1</td>\n",
       "      <td>0.01</td>\n",
       "      <td>0.74</td>\n",
       "      <td>0.03</td>\n",
       "      <td>0.46</td>\n",
       "      <td>...</td>\n",
       "      <td>NaN</td>\n",
       "      <td>0.01</td>\n",
       "      <td>0.33</td>\n",
       "      <td>0.00</td>\n",
       "      <td>NaN</td>\n",
       "      <td>NaN</td>\n",
       "      <td>NaN</td>\n",
       "      <td>NaN</td>\n",
       "      <td>0.00</td>\n",
       "      <td>NaN</td>\n",
       "    </tr>\n",
       "    <tr>\n",
       "      <th>8</th>\n",
       "      <td>0.53</td>\n",
       "      <td>21</td>\n",
       "      <td>NaN</td>\n",
       "      <td>NaN</td>\n",
       "      <td>Hendersoncity</td>\n",
       "      <td>1</td>\n",
       "      <td>0.03</td>\n",
       "      <td>0.34</td>\n",
       "      <td>0.20</td>\n",
       "      <td>0.84</td>\n",
       "      <td>...</td>\n",
       "      <td>NaN</td>\n",
       "      <td>0.04</td>\n",
       "      <td>0.17</td>\n",
       "      <td>0.04</td>\n",
       "      <td>NaN</td>\n",
       "      <td>NaN</td>\n",
       "      <td>NaN</td>\n",
       "      <td>NaN</td>\n",
       "      <td>0.00</td>\n",
       "      <td>NaN</td>\n",
       "    </tr>\n",
       "    <tr>\n",
       "      <th>9</th>\n",
       "      <td>0.15</td>\n",
       "      <td>29</td>\n",
       "      <td>NaN</td>\n",
       "      <td>NaN</td>\n",
       "      <td>Claytoncity</td>\n",
       "      <td>1</td>\n",
       "      <td>0.01</td>\n",
       "      <td>0.40</td>\n",
       "      <td>0.06</td>\n",
       "      <td>0.87</td>\n",
       "      <td>...</td>\n",
       "      <td>NaN</td>\n",
       "      <td>0.00</td>\n",
       "      <td>0.47</td>\n",
       "      <td>0.11</td>\n",
       "      <td>NaN</td>\n",
       "      <td>NaN</td>\n",
       "      <td>NaN</td>\n",
       "      <td>NaN</td>\n",
       "      <td>0.00</td>\n",
       "      <td>NaN</td>\n",
       "    </tr>\n",
       "  </tbody>\n",
       "</table>\n",
       "<p>10 rows × 128 columns</p>\n",
       "</div>"
      ],
      "text/plain": [
       "    127  0     1        2                    3    4     5     6     7     8    \\\n",
       "0  0.20    8   NaN      NaN         Lakewoodcity    1  0.19  0.33  0.02  0.90   \n",
       "1  0.67   53   NaN      NaN          Tukwilacity    1  0.00  0.16  0.12  0.74   \n",
       "2  0.43   24   NaN      NaN         Aberdeentown    1  0.00  0.42  0.49  0.56   \n",
       "3  0.12   34   5.0  81440.0  Willingborotownship    1  0.04  0.77  1.00  0.08   \n",
       "4  0.03   42  95.0   6096.0    Bethlehemtownship    1  0.01  0.55  0.02  0.95   \n",
       "5  0.14    6   NaN      NaN    SouthPasadenacity    1  0.02  0.28  0.06  0.54   \n",
       "6  0.03   44   7.0  41500.0          Lincolntown    1  0.01  0.39  0.00  0.98   \n",
       "7  0.55    6   NaN      NaN            Selmacity    1  0.01  0.74  0.03  0.46   \n",
       "8  0.53   21   NaN      NaN        Hendersoncity    1  0.03  0.34  0.20  0.84   \n",
       "9  0.15   29   NaN      NaN          Claytoncity    1  0.01  0.40  0.06  0.87   \n",
       "\n",
       "   ...    117   118   119   120   121   122  123  124   125   126  \n",
       "0  ...   0.29  0.12  0.26  0.20  0.06  0.04  0.9  0.5  0.32  0.14  \n",
       "1  ...    NaN  0.02  0.12  0.45   NaN   NaN  NaN  NaN  0.00   NaN  \n",
       "2  ...    NaN  0.01  0.21  0.02   NaN   NaN  NaN  NaN  0.00   NaN  \n",
       "3  ...    NaN  0.02  0.39  0.28   NaN   NaN  NaN  NaN  0.00   NaN  \n",
       "4  ...    NaN  0.04  0.09  0.02   NaN   NaN  NaN  NaN  0.00   NaN  \n",
       "5  ...    NaN  0.01  0.58  0.10   NaN   NaN  NaN  NaN  0.00   NaN  \n",
       "6  ...    NaN  0.05  0.08  0.06   NaN   NaN  NaN  NaN  0.00   NaN  \n",
       "7  ...    NaN  0.01  0.33  0.00   NaN   NaN  NaN  NaN  0.00   NaN  \n",
       "8  ...    NaN  0.04  0.17  0.04   NaN   NaN  NaN  NaN  0.00   NaN  \n",
       "9  ...    NaN  0.00  0.47  0.11   NaN   NaN  NaN  NaN  0.00   NaN  \n",
       "\n",
       "[10 rows x 128 columns]"
      ]
     },
     "execution_count": 28,
     "metadata": {},
     "output_type": "execute_result"
    }
   ],
   "source": [
    "# Move Crime column (127).\n",
    "# designate target variable name\n",
    "targetName = 127\n",
    "targetSeries = crime[targetName]\n",
    "#remove target from current location and insert in collum 0\n",
    "del crime[targetName]\n",
    "crime.insert(0, targetName, targetSeries)\n",
    "#reprint dataframe and see target is in position 0\n",
    "crime.head(10)"
   ]
  },
  {
   "cell_type": "markdown",
   "metadata": {},
   "source": [
    "## EDA"
   ]
  },
  {
   "cell_type": "code",
   "execution_count": 34,
   "metadata": {
    "scrolled": true
   },
   "outputs": [
    {
     "name": "stdout",
     "output_type": "stream",
     "text": [
      "(1994, 128)\n",
      "127    float64\n",
      "0        int64\n",
      "1      float64\n",
      "2      float64\n",
      "3       object\n",
      "4        int64\n",
      "5      float64\n",
      "6      float64\n",
      "7      float64\n",
      "8      float64\n",
      "9      float64\n",
      "10     float64\n",
      "11     float64\n",
      "12     float64\n",
      "13     float64\n",
      "14     float64\n",
      "15     float64\n",
      "16     float64\n",
      "17     float64\n",
      "18     float64\n",
      "19     float64\n",
      "20     float64\n",
      "21     float64\n",
      "22     float64\n",
      "23     float64\n",
      "24     float64\n",
      "25     float64\n",
      "26     float64\n",
      "27     float64\n",
      "28     float64\n",
      "        ...   \n",
      "97     float64\n",
      "98     float64\n",
      "99     float64\n",
      "100    float64\n",
      "101    float64\n",
      "102    float64\n",
      "103    float64\n",
      "104    float64\n",
      "105    float64\n",
      "106    float64\n",
      "107    float64\n",
      "108    float64\n",
      "109    float64\n",
      "110    float64\n",
      "111    float64\n",
      "112    float64\n",
      "113    float64\n",
      "114    float64\n",
      "115    float64\n",
      "116    float64\n",
      "117    float64\n",
      "118    float64\n",
      "119    float64\n",
      "120    float64\n",
      "121    float64\n",
      "122    float64\n",
      "123    float64\n",
      "124    float64\n",
      "125    float64\n",
      "126    float64\n",
      "Length: 128, dtype: object\n",
      "127        0.237979\n",
      "0         28.683551\n",
      "1         58.826829\n",
      "2      46188.336597\n",
      "4          5.493982\n",
      "5          0.057593\n",
      "6          0.463395\n",
      "7          0.179629\n",
      "8          0.753716\n",
      "9          0.153681\n",
      "10         0.144022\n",
      "11         0.424218\n",
      "12         0.493867\n",
      "13         0.336264\n",
      "14         0.423164\n",
      "15         0.064072\n",
      "16         0.696269\n",
      "17         0.361123\n",
      "18         0.558154\n",
      "19         0.291570\n",
      "20         0.495687\n",
      "21         0.471133\n",
      "22         0.317778\n",
      "23         0.479248\n",
      "24         0.375677\n",
      "25         0.350251\n",
      "26         0.368049\n",
      "27         0.291098\n",
      "28         0.203506\n",
      "29         0.322357\n",
      "           ...     \n",
      "97         0.608892\n",
      "98         0.535050\n",
      "99         0.626424\n",
      "100        0.651530\n",
      "101        0.069655\n",
      "102        0.217461\n",
      "103        0.924734\n",
      "104        0.246332\n",
      "105        0.097994\n",
      "106        0.215204\n",
      "107        0.343636\n",
      "108        0.217492\n",
      "109        0.689404\n",
      "110        0.726959\n",
      "111        0.220470\n",
      "112        0.134859\n",
      "113        0.114859\n",
      "114        0.259185\n",
      "115        0.075549\n",
      "116        0.556050\n",
      "117        0.305987\n",
      "118        0.065231\n",
      "119        0.232854\n",
      "120        0.161685\n",
      "121        0.163103\n",
      "122        0.076708\n",
      "123        0.698589\n",
      "124        0.440439\n",
      "125        0.094052\n",
      "126        0.195078\n",
      "Length: 127, dtype: float64\n",
      "\n",
      "127        0.232985\n",
      "0         16.397553\n",
      "1        126.420560\n",
      "2      25299.726569\n",
      "4          2.873694\n",
      "5          0.126906\n",
      "6          0.163717\n",
      "7          0.253442\n",
      "8          0.244039\n",
      "9          0.208877\n",
      "10         0.232492\n",
      "11         0.155196\n",
      "12         0.143564\n",
      "13         0.166505\n",
      "14         0.179185\n",
      "15         0.128256\n",
      "16         0.444811\n",
      "17         0.209362\n",
      "18         0.182913\n",
      "19         0.204108\n",
      "20         0.178071\n",
      "21         0.173619\n",
      "22         0.222137\n",
      "23         0.167564\n",
      "24         0.198257\n",
      "25         0.191109\n",
      "26         0.186804\n",
      "27         0.171593\n",
      "28         0.164775\n",
      "29         0.195411\n",
      "           ...     \n",
      "97         0.204329\n",
      "98         0.181352\n",
      "99         0.200521\n",
      "100        0.198221\n",
      "101        0.138238\n",
      "102        0.159928\n",
      "103        0.132249\n",
      "104        0.155045\n",
      "105        0.161927\n",
      "106        0.164622\n",
      "107        0.197181\n",
      "108        0.159941\n",
      "109        0.226811\n",
      "110        0.221409\n",
      "111        0.236271\n",
      "112        0.196188\n",
      "113        0.227348\n",
      "114        0.225655\n",
      "115        0.120153\n",
      "116        0.203178\n",
      "117        0.226884\n",
      "118        0.109459\n",
      "119        0.203092\n",
      "120        0.229055\n",
      "121        0.214778\n",
      "122        0.140207\n",
      "123        0.213944\n",
      "124        0.405808\n",
      "125        0.240328\n",
      "126        0.164718\n",
      "Length: 127, dtype: float64\n"
     ]
    }
   ],
   "source": [
    "print(crime.shape)\n",
    "print(crime.dtypes)\n",
    "print(crime.mean())\n",
    "print()\n",
    "print(crime.std())\n",
    "\n",
    "crime_community=pd.DataFrame(crime.groupby(3).size())\n",
    "# Since there are few communicy names that are duplicated we can drop this categorical variable.  \n"
   ]
  },
  {
   "cell_type": "code",
   "execution_count": 30,
   "metadata": {},
   "outputs": [
    {
     "data": {
      "text/plain": [
       "(1994, 127)"
      ]
     },
     "execution_count": 30,
     "metadata": {},
     "output_type": "execute_result"
    }
   ],
   "source": [
    "## Removing categorical community name.  \n",
    "crime2=crime.drop(columns=[3])\n",
    "crime2.head(10)\n",
    "crime2.shape"
   ]
  },
  {
   "cell_type": "code",
   "execution_count": 45,
   "metadata": {},
   "outputs": [
    {
     "data": {
      "text/plain": [
       "(1994, 103)"
      ]
     },
     "execution_count": 45,
     "metadata": {},
     "output_type": "execute_result"
    }
   ],
   "source": [
    "# Data is full of missing values in columns: 1, 2, 101:117, 121:124 ,126\n",
    "# Because the majority of data is incomplete from these columns it is not worth implementing a mean/median.  \n",
    "## Adding this in would likely just make the data less accurate overall.  \n",
    "crime3=crime2.drop(columns=[1,2,101,102,103,104,105,106,107,108,109,110,111,112,113,114,115,116,117,121,122,123,124,126])\n",
    "crime3.shape"
   ]
  },
  {
   "cell_type": "code",
   "execution_count": 64,
   "metadata": {},
   "outputs": [],
   "source": [
    "#Removing last NA in dataset\n",
    "crime4 = crime3.dropna()\n",
    "crime4.shape"
   ]
  },
  {
   "cell_type": "markdown",
   "metadata": {},
   "source": [
    "## Test/Train 70/30"
   ]
  },
  {
   "cell_type": "code",
   "execution_count": 66,
   "metadata": {},
   "outputs": [],
   "source": [
    "features_train, features_test, target_train, target_test = train_test_split(\n",
    "    crime4.iloc[:,1:].values, crime4.iloc[:,0].values, test_size=0.30, random_state=0)"
   ]
  },
  {
   "cell_type": "code",
   "execution_count": 90,
   "metadata": {},
   "outputs": [
    {
     "name": "stdout",
     "output_type": "stream",
     "text": [
      "(598, 102)\n",
      "(1395, 102)\n",
      "(598,)\n",
      "(1395,)\n"
     ]
    }
   ],
   "source": [
    "print(features_test.shape)\n",
    "print(features_train.shape)\n",
    "print(target_test.shape)\n",
    "print(target_train.shape)"
   ]
  },
  {
   "cell_type": "markdown",
   "metadata": {},
   "source": [
    "## Ridge"
   ]
  },
  {
   "cell_type": "code",
   "execution_count": 70,
   "metadata": {},
   "outputs": [],
   "source": [
    "from sklearn.linear_model import Ridge\n",
    "ridge_reg = Ridge(alpha=0, normalize=True)\n",
    "ridge_reg.fit(features_train, target_train)\n",
    "target_predicted_ridge = ridge_reg.predict(features_test)\n"
   ]
  },
  {
   "cell_type": "markdown",
   "metadata": {},
   "source": [
    "## Print Coefficients/Metrics"
   ]
  },
  {
   "cell_type": "code",
   "execution_count": 81,
   "metadata": {
    "scrolled": false
   },
   "outputs": [
    {
     "name": "stdout",
     "output_type": "stream",
     "text": [
      "[-0.00120101 -0.00122226 -0.14885853 -0.0183277   0.19325857 -0.0122058\n",
      " -0.00662831  0.06644441  0.16996948 -0.37812796 -0.15824475 -0.11775627\n",
      "  0.05824389  0.04317562 -0.41819672 -0.16482448  0.05426248 -0.15287171\n",
      "  0.20750527 -0.0374141  -0.10568712  0.30453586  0.05998656 -0.22447831\n",
      " -0.00211392 -0.0347317   0.00318169  0.0474694   0.05016545 -0.0074569\n",
      " -0.16654445 -0.09420076  0.03954075  0.07970864  0.03302132  0.211794\n",
      " -0.05756007 -0.04571954  0.04489486  0.09794207  0.52540464  0.23553379\n",
      "  0.08531321 -0.57377329 -0.07866041 -0.05631369 -0.28709949 -0.02070768\n",
      "  0.03893017  0.03614124 -0.16786376 -0.10603024  0.14611987 -0.0913311\n",
      "  0.07531689 -0.07225578  0.01584703  0.01138706 -0.0785271   0.02838397\n",
      " -0.08226601  0.20081308 -0.02352697 -0.15978351 -0.28409524  0.12764193\n",
      "  0.7903841  -0.27025235 -0.29437171 -0.51621912  0.19547768  0.04164927\n",
      "  0.01628799  0.19518775 -0.04248437  0.29686165  0.06560693 -0.05855956\n",
      " -0.01018869  0.00816236 -0.00812833 -0.22996698  0.19408959 -0.065096\n",
      " -0.16978708  0.01853974 -0.06048358  0.34704862  0.0177264  -0.04897004\n",
      " -0.07408483  0.10341547  0.19818206  0.06822188  0.03904734 -0.02218631\n",
      "  0.03186882  0.02326681  0.00604408 -0.00782025 -0.02186809  0.04213733]\n",
      "mse\n",
      "0.019247549520377504\n",
      "explained variance score\n",
      "0.6628640629162261\n",
      "mean absolute error\n",
      "0.09568999077880652\n"
     ]
    }
   ],
   "source": [
    "print(ridge_reg.coef_)\n",
    "mse = np.mean((target_predicted_ridge-target_test)**2)\n",
    "print('mse')\n",
    "print(mse)\n",
    "## Explained Variance Score\n",
    "from sklearn.metrics import explained_variance_score\n",
    "print('explained variance score')\n",
    "print(explained_variance_score(target_test, target_predicted_ridge))  \n",
    "\n",
    "from sklearn.metrics import mean_absolute_error\n",
    "print('mean absolute error')\n",
    "print(mean_absolute_error(target_test, target_predicted_ridge))\n"
   ]
  },
  {
   "cell_type": "markdown",
   "metadata": {},
   "source": [
    "## LASSO Regression"
   ]
  },
  {
   "cell_type": "code",
   "execution_count": 85,
   "metadata": {},
   "outputs": [],
   "source": [
    "from sklearn.linear_model import Lasso\n",
    "lassoreg = Lasso(alpha=0.1)\n",
    "lassoreg.fit(features_train, target_train)\n",
    "target_predicted_lasso = lassoreg.predict(features_test)\n"
   ]
  },
  {
   "cell_type": "code",
   "execution_count": 87,
   "metadata": {},
   "outputs": [
    {
     "name": "stdout",
     "output_type": "stream",
     "text": [
      "[-0.00272227 -0.          0.         -0.          0.         -0.\n",
      " -0.          0.          0.          0.          0.          0.\n",
      "  0.          0.         -0.         -0.         -0.         -0.\n",
      "  0.          0.         -0.         -0.         -0.         -0.\n",
      " -0.         -0.         -0.         -0.         -0.          0.\n",
      "  0.          0.          0.         -0.          0.         -0.\n",
      " -0.         -0.          0.         -0.          0.          0.\n",
      "  0.          0.          0.         -0.         -0.         -0.\n",
      " -0.         -0.         -0.          0.          0.          0.\n",
      "  0.          0.          0.          0.          0.          0.\n",
      "  0.          0.         -0.          0.          0.          0.\n",
      " -0.         -0.          0.         -0.          0.          0.\n",
      " -0.          0.         -0.         -0.          0.          0.\n",
      " -0.          0.          0.         -0.         -0.         -0.\n",
      " -0.         -0.         -0.         -0.          0.         -0.\n",
      "  0.          0.          0.          0.         -0.         -0.\n",
      "  0.         -0.          0.          0.          0.          0.        ]\n",
      "mse\n",
      "0.05475633311574271\n",
      "explained variance score\n",
      "0.0362148329107026\n",
      "mean absolute error\n",
      "0.1759530067827017\n"
     ]
    }
   ],
   "source": [
    "print(lassoreg.coef_)\n",
    "mse = np.mean((target_predicted_lasso-target_test)**2)\n",
    "print('mse')\n",
    "print(mse)\n",
    "## Explained Variance Score\n",
    "from sklearn.metrics import explained_variance_score\n",
    "print('explained variance score')\n",
    "print(explained_variance_score(target_test, target_predicted_lasso))  \n",
    "\n",
    "from sklearn.metrics import mean_absolute_error\n",
    "print('mean absolute error')\n",
    "print(mean_absolute_error(target_test, target_predicted_lasso))"
   ]
  },
  {
   "cell_type": "markdown",
   "metadata": {},
   "source": [
    "## Elastic Net Regression"
   ]
  },
  {
   "cell_type": "code",
   "execution_count": 95,
   "metadata": {},
   "outputs": [
    {
     "name": "stdout",
     "output_type": "stream",
     "text": [
      "ElasticNet(alpha=0.1, copy_X=True, fit_intercept=True, l1_ratio=0.5,\n",
      "      max_iter=1000, normalize=False, positive=False, precompute=False,\n",
      "      random_state=None, selection='cyclic', tol=0.0001, warm_start=False)\n"
     ]
    }
   ],
   "source": [
    "from sklearn.linear_model import ElasticNet\n",
    "en = ElasticNet(alpha=0.1)\n",
    "en.fit(features_train, target_train)\n",
    "print(en)\n",
    "target_predicted_en = en.predict(features_test)\n"
   ]
  },
  {
   "cell_type": "code",
   "execution_count": 96,
   "metadata": {},
   "outputs": [
    {
     "name": "stdout",
     "output_type": "stream",
     "text": [
      "[-0.00290628 -0.          0.         -0.          0.         -0.\n",
      " -0.          0.          0.          0.          0.          0.\n",
      "  0.          0.         -0.         -0.         -0.         -0.\n",
      "  0.          0.         -0.         -0.         -0.         -0.\n",
      " -0.         -0.         -0.         -0.         -0.          0.\n",
      "  0.          0.          0.         -0.          0.         -0.\n",
      " -0.         -0.          0.         -0.          0.          0.\n",
      "  0.          0.          0.         -0.         -0.         -0.\n",
      " -0.         -0.         -0.          0.          0.          0.\n",
      "  0.          0.          0.          0.          0.          0.\n",
      "  0.          0.         -0.          0.          0.          0.\n",
      " -0.         -0.          0.         -0.          0.          0.\n",
      " -0.          0.         -0.         -0.          0.          0.\n",
      " -0.          0.          0.         -0.         -0.         -0.\n",
      " -0.         -0.         -0.         -0.          0.         -0.\n",
      "  0.          0.          0.          0.         -0.         -0.\n",
      "  0.         -0.          0.          0.          0.          0.        ]\n",
      "mse\n",
      "0.05475821695746386\n",
      "explained variance score\n",
      "0.036175172582640025\n",
      "mean absolute error\n",
      "0.17583522956704747\n"
     ]
    }
   ],
   "source": [
    "print(en.coef_)\n",
    "mse = np.mean((target_predicted_en-target_test)**2)\n",
    "print('mse')\n",
    "print(mse)\n",
    "## Explained Variance Score\n",
    "from sklearn.metrics import explained_variance_score\n",
    "print('explained variance score')\n",
    "print(explained_variance_score(target_test, target_predicted_en))  \n",
    "\n",
    "from sklearn.metrics import mean_absolute_error\n",
    "print('mean absolute error')\n",
    "print(mean_absolute_error(target_test, target_predicted_en))"
   ]
  },
  {
   "cell_type": "markdown",
   "metadata": {},
   "source": [
    "## Ordinary Least Squares"
   ]
  },
  {
   "cell_type": "code",
   "execution_count": 113,
   "metadata": {},
   "outputs": [],
   "source": [
    "from sklearn import linear_model\n",
    "reg = linear_model.LinearRegression()\n",
    "ols = reg.fit (features_train, target_train)\n",
    "target_predicted_reg = reg.predict(features_test)"
   ]
  },
  {
   "cell_type": "code",
   "execution_count": 114,
   "metadata": {},
   "outputs": [
    {
     "name": "stdout",
     "output_type": "stream",
     "text": [
      "[-0.00120101 -0.00122226 -0.14885853 -0.0183277   0.19325857 -0.0122058\n",
      " -0.00662831  0.06644441  0.16996948 -0.37812796 -0.15824475 -0.11775627\n",
      "  0.05824389  0.04317562 -0.41819672 -0.16482448  0.05426248 -0.15287171\n",
      "  0.20750527 -0.0374141  -0.10568712  0.30453586  0.05998656 -0.22447831\n",
      " -0.00211392 -0.0347317   0.00318169  0.0474694   0.05016545 -0.0074569\n",
      " -0.16654445 -0.09420076  0.03954075  0.07970864  0.03302132  0.211794\n",
      " -0.05756007 -0.04571954  0.04489486  0.09794207  0.52540464  0.23553379\n",
      "  0.08531321 -0.57377329 -0.07866041 -0.05631369 -0.28709949 -0.02070768\n",
      "  0.03893017  0.03614124 -0.16786376 -0.10603024  0.14611987 -0.0913311\n",
      "  0.07531689 -0.07225578  0.01584703  0.01138706 -0.0785271   0.02838397\n",
      " -0.08226601  0.20081308 -0.02352697 -0.15978351 -0.28409524  0.12764193\n",
      "  0.7903841  -0.27025235 -0.29437171 -0.51621912  0.19547768  0.04164927\n",
      "  0.01628799  0.19518775 -0.04248437  0.29686165  0.06560693 -0.05855956\n",
      " -0.01018869  0.00816236 -0.00812833 -0.22996698  0.19408959 -0.065096\n",
      " -0.16978708  0.01853974 -0.06048358  0.34704862  0.0177264  -0.04897004\n",
      " -0.07408483  0.10341547  0.19818206  0.06822188  0.03904734 -0.02218631\n",
      "  0.03186882  0.02326681  0.00604408 -0.00782025 -0.02186809  0.04213733]\n",
      "mse\n",
      "0.019247549520377414\n",
      "explained variance score\n",
      "0.6628640629162277\n",
      "mean absolute error\n",
      "0.09568999077880586\n"
     ]
    }
   ],
   "source": [
    "print(reg.coef_)\n",
    "mse = np.mean((target_predicted_reg-target_test)**2)\n",
    "print('mse')\n",
    "print(mse)\n",
    "## Explained Variance Score\n",
    "from sklearn.metrics import explained_variance_score\n",
    "print('explained variance score')\n",
    "print(explained_variance_score(target_test, target_predicted_reg))  \n",
    "\n",
    "from sklearn.metrics import mean_absolute_error\n",
    "print('mean absolute error')\n",
    "print(mean_absolute_error(target_test, target_predicted_reg))"
   ]
  },
  {
   "cell_type": "markdown",
   "metadata": {},
   "source": [
    "## Part B - Grid Search"
   ]
  },
  {
   "cell_type": "code",
   "execution_count": 101,
   "metadata": {},
   "outputs": [
    {
     "name": "stdout",
     "output_type": "stream",
     "text": [
      "Grid Scores {'mean_fit_time': array([0.01211562, 0.0050005 , 0.00435753]), 'std_fit_time': array([0.0032142 , 0.00076641, 0.00087521]), 'mean_score_time': array([0.00108976, 0.00057673, 0.00048251]), 'std_score_time': array([4.17865420e-04, 1.04912302e-04, 5.62977706e-05]), 'param_alpha': masked_array(data=[0.01, 1, 0.05],\n",
      "             mask=[False, False, False],\n",
      "       fill_value='?',\n",
      "            dtype=object), 'params': [{'alpha': 0.01}, {'alpha': 1}, {'alpha': 0.05}], 'split0_test_score': array([0.65801934, 0.63362382, 0.65457334]), 'split1_test_score': array([0.57585792, 0.57941544, 0.5828878 ]), 'split2_test_score': array([0.71404975, 0.68572192, 0.71377524]), 'split3_test_score': array([0.63750359, 0.64130553, 0.65111674]), 'split4_test_score': array([0.65858524, 0.64310757, 0.66006382]), 'mean_test_score': array([0.64880317, 0.63663486, 0.65248339]), 'std_test_score': array([0.04446669, 0.03393046, 0.04162676]), 'rank_test_score': array([2, 3, 1], dtype=int32), 'split0_train_score': array([0.70550261, 0.6572742 , 0.69773684]), 'split1_train_score': array([0.72048292, 0.66896879, 0.71181419]), 'split2_train_score': array([0.69048555, 0.63935681, 0.68145895]), 'split3_train_score': array([0.70641959, 0.65373688, 0.69615787]), 'split4_train_score': array([0.70352743, 0.65370464, 0.6957185 ]), 'mean_train_score': array([0.70528362, 0.65460827, 0.69657727]), 'std_train_score': array([0.00953335, 0.0094606 , 0.00962274])}\n",
      "Best {'alpha': 0.05}\n"
     ]
    }
   ],
   "source": [
    "# use a full grid over several parameters and cross validate 5 times\n",
    "from sklearn.model_selection import GridSearchCV\n",
    "#param_grid = {\"alpha\": [.01,.1, .5, 1, 2]}\n",
    "#param_grid={\"alpha\": [1,10,1]} this does a range 1 through 10 changes by a factor of 1. \n",
    "param_grid={\"alpha\": [.01,1,.05]} #this does a range 1 through 1 changes by a factor of .05\n",
    "\n",
    "# run grid search\n",
    "grid_search = GridSearchCV(ridge_reg, param_grid=param_grid,n_jobs=-1,cv=5)\n",
    "grid_search.fit(features_train, target_train)\n",
    "print(\"Grid Scores\", grid_search.cv_results_)\n",
    "print(\"Best\", grid_search.best_params_)    "
   ]
  },
  {
   "cell_type": "code",
   "execution_count": 103,
   "metadata": {},
   "outputs": [
    {
     "name": "stdout",
     "output_type": "stream",
     "text": [
      "Grid Scores {'mean_fit_time': array([0.01457019, 0.00629325, 0.0038475 ]), 'std_fit_time': array([0.00120691, 0.00162928, 0.00089793]), 'mean_score_time': array([0.0024497 , 0.00065751, 0.00054522]), 'std_score_time': array([1.15877276e-03, 9.55242298e-05, 5.47730870e-05]), 'param_alpha': masked_array(data=[0.01, 1, 0.05],\n",
      "             mask=[False, False, False],\n",
      "       fill_value='?',\n",
      "            dtype=object), 'params': [{'alpha': 0.01}, {'alpha': 1}, {'alpha': 0.05}], 'split0_test_score': array([ 0.55927174, -0.00083497,  0.06484973]), 'split1_test_score': array([ 0.53330187, -0.00120038,  0.05673995]), 'split2_test_score': array([ 0.57733858, -0.00415995,  0.03653142]), 'split3_test_score': array([ 0.57782429, -0.00122184,  0.02708167]), 'split4_test_score': array([ 0.53485568, -0.00096124,  0.04832709]), 'mean_test_score': array([ 0.55651843, -0.00167568,  0.04670597]), 'std_test_score': array([0.01951042, 0.00125065, 0.01357306]), 'rank_test_score': array([1, 3, 2], dtype=int32), 'split0_train_score': array([0.56547594, 0.        , 0.043921  ]), 'split1_train_score': array([0.57462738, 0.        , 0.04629097]), 'split2_train_score': array([0.54160856, 0.        , 0.0510073 ]), 'split3_train_score': array([0.55927587, 0.        , 0.05325845]), 'split4_train_score': array([0.56878358, 0.        , 0.04824346]), 'mean_train_score': array([0.56195427, 0.        , 0.04854424]), 'std_train_score': array([0.01132052, 0.        , 0.00331157])}\n",
      "Best {'alpha': 0.01}\n"
     ]
    }
   ],
   "source": [
    "# use a full grid over several parameters and cross validate 5 times\n",
    "from sklearn.model_selection import GridSearchCV\n",
    "#param_grid = {\"alpha\": [.01,.1, .5, 1, 2]}\n",
    "#param_grid={\"alpha\": [1,10,1]} this does a range 1 through 10 changes by a factor of 1. \n",
    "param_grid={\"alpha\": [.01,1,.05]} #this does a range 1 through 1 changes by a factor of .05\n",
    "\n",
    "# run grid search\n",
    "grid_search = GridSearchCV(lassoreg, param_grid=param_grid,n_jobs=-1,cv=5)\n",
    "grid_search.fit(features_train, target_train)\n",
    "print(\"Grid Scores\", grid_search.cv_results_)\n",
    "print(\"Best\", grid_search.best_params_)   "
   ]
  },
  {
   "cell_type": "code",
   "execution_count": 105,
   "metadata": {},
   "outputs": [
    {
     "name": "stdout",
     "output_type": "stream",
     "text": [
      "Grid Scores {'mean_fit_time': array([0.01249485, 0.00475941, 0.00395207]), 'std_fit_time': array([0.00203116, 0.00060102, 0.00073038]), 'mean_score_time': array([0.00132585, 0.00058446, 0.00053363]), 'std_score_time': array([4.30618356e-04, 4.87419015e-05, 4.46008203e-05]), 'param_alpha': masked_array(data=[0.01, 1, 0.05],\n",
      "             mask=[False, False, False],\n",
      "       fill_value='?',\n",
      "            dtype=object), 'params': [{'alpha': 0.01}, {'alpha': 1}, {'alpha': 0.05}], 'split0_test_score': array([0.60546248, 0.03509889, 0.30791149]), 'split1_test_score': array([0.57880124, 0.03397061, 0.30903576]), 'split2_test_score': array([0.64460764, 0.02233251, 0.26252923]), 'split3_test_score': array([0.63137662, 0.02573938, 0.29676883]), 'split4_test_score': array([0.58819165, 0.02990463, 0.28556954]), 'mean_test_score': array([0.60968793, 0.0294092 , 0.29236297]), 'std_test_score': array([0.02499487, 0.00483677, 0.01717762]), 'rank_test_score': array([1, 3, 2], dtype=int32), 'split0_train_score': array([0.62484438, 0.02664474, 0.30316015]), 'split1_train_score': array([0.63305639, 0.02969958, 0.31639279]), 'split2_train_score': array([0.60317455, 0.03321275, 0.26155848]), 'split3_train_score': array([0.62025865, 0.03622053, 0.29785133]), 'split4_train_score': array([0.62139855, 0.03080873, 0.30038218]), 'mean_train_score': array([0.62054651, 0.03131727, 0.29586899]), 'std_train_score': array([0.00977305, 0.00323552, 0.0183079 ])}\n",
      "Best {'alpha': 0.01}\n"
     ]
    }
   ],
   "source": [
    "# use a full grid over several parameters and cross validate 5 times\n",
    "from sklearn.model_selection import GridSearchCV\n",
    "#param_grid = {\"alpha\": [.01,.1, .5, 1, 2]}\n",
    "#param_grid={\"alpha\": [1,10,1]} this does a range 1 through 10 changes by a factor of 1. \n",
    "param_grid={\"alpha\": [.01,1,.05]} #this does a range 1 through 1 changes by a factor of .05\n",
    "\n",
    "# run grid search\n",
    "grid_search = GridSearchCV(en, param_grid=param_grid,n_jobs=-1,cv=5)\n",
    "grid_search.fit(features_train, target_train)\n",
    "print(\"Grid Scores\", grid_search.cv_results_)\n",
    "print(\"Best\", grid_search.best_params_)   "
   ]
  },
  {
   "cell_type": "markdown",
   "metadata": {},
   "source": [
    "## Re-Run Lasso and EN with optimized Alpha"
   ]
  },
  {
   "cell_type": "code",
   "execution_count": 106,
   "metadata": {},
   "outputs": [],
   "source": [
    "from sklearn.linear_model import Lasso\n",
    "lassoreg = Lasso(alpha=0.01)\n",
    "lassoreg.fit(features_train, target_train)\n",
    "target_predicted_lasso = lassoreg.predict(features_test)\n"
   ]
  },
  {
   "cell_type": "code",
   "execution_count": 107,
   "metadata": {},
   "outputs": [
    {
     "name": "stdout",
     "output_type": "stream",
     "text": [
      "[-0.0020639  -0.00054276  0.         -0.          0.         -0.09798879\n",
      "  0.          0.         -0.         -0.         -0.          0.\n",
      "  0.          0.         -0.         -0.         -0.         -0.\n",
      "  0.          0.         -0.         -0.         -0.         -0.\n",
      " -0.         -0.         -0.         -0.         -0.          0.\n",
      "  0.          0.          0.         -0.          0.         -0.\n",
      " -0.         -0.          0.         -0.          0.          0.\n",
      "  0.          0.          0.         -0.         -0.21921124 -0.\n",
      " -0.         -0.         -0.          0.          0.27544601  0.\n",
      "  0.          0.          0.          0.          0.          0.\n",
      "  0.          0.         -0.          0.          0.          0.\n",
      " -0.         -0.          0.         -0.          0.          0.\n",
      " -0.          0.         -0.         -0.          0.          0.\n",
      " -0.          0.          0.         -0.         -0.         -0.\n",
      " -0.         -0.         -0.         -0.          0.          0.\n",
      " -0.          0.          0.          0.         -0.         -0.\n",
      "  0.         -0.          0.          0.          0.          0.        ]\n",
      "mse\n",
      "0.02473942395959123\n",
      "explained variance score\n",
      "0.5642726476983986\n",
      "mean absolute error\n",
      "0.11217076006067658\n"
     ]
    }
   ],
   "source": [
    "print(lassoreg.coef_)\n",
    "mse = np.mean((target_predicted_lasso-target_test)**2)\n",
    "print('mse')\n",
    "print(mse)\n",
    "## Explained Variance Score\n",
    "from sklearn.metrics import explained_variance_score\n",
    "print('explained variance score')\n",
    "print(explained_variance_score(target_test, target_predicted_lasso))  \n",
    "\n",
    "from sklearn.metrics import mean_absolute_error\n",
    "print('mean absolute error')\n",
    "print(mean_absolute_error(target_test, target_predicted_lasso))"
   ]
  },
  {
   "cell_type": "code",
   "execution_count": 108,
   "metadata": {},
   "outputs": [
    {
     "name": "stdout",
     "output_type": "stream",
     "text": [
      "ElasticNet(alpha=0.01, copy_X=True, fit_intercept=True, l1_ratio=0.5,\n",
      "      max_iter=1000, normalize=False, positive=False, precompute=False,\n",
      "      random_state=None, selection='cyclic', tol=0.0001, warm_start=False)\n"
     ]
    }
   ],
   "source": [
    "from sklearn.linear_model import ElasticNet\n",
    "en = ElasticNet(alpha=0.01)\n",
    "en.fit(features_train, target_train)\n",
    "print(en)\n",
    "target_predicted_en = en.predict(features_test)\n"
   ]
  },
  {
   "cell_type": "code",
   "execution_count": 109,
   "metadata": {},
   "outputs": [
    {
     "name": "stdout",
     "output_type": "stream",
     "text": [
      "[-0.00198478 -0.00112982  0.         -0.          0.0397667  -0.1294153\n",
      "  0.          0.         -0.         -0.         -0.          0.\n",
      "  0.          0.02342869 -0.         -0.         -0.         -0.\n",
      "  0.          0.         -0.         -0.         -0.         -0.\n",
      " -0.         -0.         -0.          0.         -0.          0.\n",
      "  0.          0.          0.         -0.          0.         -0.\n",
      " -0.         -0.          0.         -0.          0.03966757  0.\n",
      "  0.          0.01667577  0.         -0.05770051 -0.14274881 -0.05038667\n",
      " -0.         -0.         -0.          0.          0.18720762  0.\n",
      "  0.          0.          0.          0.          0.          0.\n",
      "  0.          0.         -0.          0.          0.          0.\n",
      " -0.         -0.          0.         -0.          0.01463211  0.\n",
      " -0.          0.02443093 -0.00152117 -0.          0.05499071 -0.\n",
      " -0.          0.01425173  0.         -0.         -0.         -0.\n",
      " -0.         -0.         -0.         -0.          0.          0.\n",
      " -0.          0.          0.          0.         -0.         -0.\n",
      "  0.         -0.          0.          0.          0.          0.02757445]\n",
      "mse\n",
      "0.021724317927417986\n",
      "explained variance score\n",
      "0.6176215545847511\n",
      "mean absolute error\n",
      "0.10235685861344611\n"
     ]
    }
   ],
   "source": [
    "print(en.coef_)\n",
    "mse = np.mean((target_predicted_en-target_test)**2)\n",
    "print('mse')\n",
    "print(mse)\n",
    "## Explained Variance Score\n",
    "from sklearn.metrics import explained_variance_score\n",
    "print('explained variance score')\n",
    "print(explained_variance_score(target_test, target_predicted_en))  \n",
    "\n",
    "from sklearn.metrics import mean_absolute_error\n",
    "print('mean absolute error')\n",
    "print(mean_absolute_error(target_test, target_predicted_en))"
   ]
  },
  {
   "cell_type": "markdown",
   "metadata": {},
   "source": [
    "## Results LASSO/EN\n",
    "Both Lasso and Elastic Net had almost identical results throughout.  I believe this is because EN is a function of Ridge and Lasso, and Lasso must dominate that function.  Although the difference between Alpha = 0.1 and (optimized thorugh grid search) Alpha = 0.01 was significant bring the MSE down from 0.05 to 0.02, the MAE from 0.18 to 0.11 and the Explained Variance Score from only 4% to about 56%.  A considerable difference, clearly showing the value of grid search.  "
   ]
  },
  {
   "cell_type": "markdown",
   "metadata": {},
   "source": [
    "## Part C Cross Validation OLS\n",
    "Cross Validation suggests the OLS model is not close to optimized and that the variance is not captured well in the model training.  \n",
    "\n",
    "## Results OLS\n",
    "Since Alpha = 0 for Ridge Regression is equivalent to OLS there is no difference between the initial Ridge model and this OLS model.  The Cross Validation suggests the model is not stable enough across the dataset to be production ready.  "
   ]
  },
  {
   "cell_type": "code",
   "execution_count": 115,
   "metadata": {},
   "outputs": [
    {
     "name": "stdout",
     "output_type": "stream",
     "text": [
      "Cross Validation Score for each K [0.652178   0.65726692 0.69227167 0.44356508 0.63588469 0.77090299\n",
      " 0.60950888 0.62971867 0.61099369 0.70503524]\n"
     ]
    },
    {
     "data": {
      "text/plain": [
       "0.6407325834942149"
      ]
     },
     "execution_count": 115,
     "metadata": {},
     "output_type": "execute_result"
    }
   ],
   "source": [
    "#verify OLS with Cross Validation\n",
    "scores = cross_val_score(ols, features_train, target_train, cv=10)\n",
    "print(\"Cross Validation Score for each K\",scores)\n",
    "scores.mean()   "
   ]
  },
  {
   "cell_type": "markdown",
   "metadata": {},
   "source": [
    "## Cross Validation RIDGE"
   ]
  },
  {
   "cell_type": "code",
   "execution_count": 116,
   "metadata": {},
   "outputs": [
    {
     "name": "stdout",
     "output_type": "stream",
     "text": [
      "Cross Validation Score for each K [0.652178   0.65726692 0.69227167 0.44356508 0.63588469 0.77090299\n",
      " 0.60950888 0.62971867 0.61099369 0.70503524]\n"
     ]
    },
    {
     "data": {
      "text/plain": [
       "0.6407325834942128"
      ]
     },
     "execution_count": 116,
     "metadata": {},
     "output_type": "execute_result"
    }
   ],
   "source": [
    "#verify Ridge with Cross Validation\n",
    "scores = cross_val_score(ridge_reg, features_train, target_train, cv=10)\n",
    "print(\"Cross Validation Score for each K\",scores)\n",
    "scores.mean()   "
   ]
  },
  {
   "cell_type": "markdown",
   "metadata": {},
   "source": [
    "## Optimized RIDGE"
   ]
  },
  {
   "cell_type": "code",
   "execution_count": 119,
   "metadata": {},
   "outputs": [],
   "source": [
    "from sklearn.linear_model import Ridge\n",
    "ridge_reg = Ridge(alpha=0.05, normalize=True)\n",
    "ridge_reg.fit(features_train, target_train)\n",
    "target_predicted_ridge = ridge_reg.predict(features_test)\n"
   ]
  },
  {
   "cell_type": "code",
   "execution_count": 120,
   "metadata": {},
   "outputs": [
    {
     "name": "stdout",
     "output_type": "stream",
     "text": [
      "[-0.001267   -0.00132035 -0.04933722  0.04764059  0.13742705 -0.07322984\n",
      " -0.02210096  0.02328524  0.03413549 -0.18453991 -0.04156441  0.00664928\n",
      " -0.03244781  0.04277883 -0.00097864 -0.06693557  0.03116259 -0.10440764\n",
      "  0.050757   -0.01315657 -0.0941628   0.00469434 -0.02005108 -0.04741583\n",
      " -0.00636212 -0.030836    0.00949226  0.04554592  0.04089317 -0.0133442\n",
      " -0.06911149 -0.04691693  0.01034636  0.01582683 -0.01404344  0.06900133\n",
      " -0.0308182  -0.03545605  0.01908679  0.02264101  0.12454445  0.08719826\n",
      " -0.07039577 -0.00163717  0.03668005 -0.07924686 -0.11091736 -0.05591899\n",
      "  0.00208114 -0.00384911 -0.09724429 -0.03840525  0.15136967 -0.09114554\n",
      "  0.04256771 -0.03627243 -0.01544407  0.01246744 -0.00331183  0.00757354\n",
      "  0.02100546  0.04550414  0.01730584 -0.04390395 -0.04102409 -0.02146219\n",
      "  0.10045115 -0.07743653 -0.01923619 -0.08245864  0.08940299  0.02483394\n",
      "  0.00040034  0.13731275 -0.0618891  -0.02681386  0.06939625 -0.03570318\n",
      "  0.00032867  0.01460538 -0.00800227 -0.03378898 -0.01352342 -0.01602695\n",
      " -0.09133575  0.02521656  0.02706609  0.07714619  0.05101889 -0.03320899\n",
      " -0.06577384  0.08776067  0.20072024  0.02377911  0.01510037  0.01095497\n",
      "  0.03727072  0.01588974  0.00703727  0.00299862 -0.01368879  0.04518121]\n",
      "mse\n",
      "0.018922075077868486\n",
      "explained variance score\n",
      "0.6680188211883146\n",
      "mean absolute error\n",
      "0.09361099310316658\n"
     ]
    }
   ],
   "source": [
    "print(ridge_reg.coef_)\n",
    "mse = np.mean((target_predicted_ridge-target_test)**2)\n",
    "print('mse')\n",
    "print(mse)\n",
    "## Explained Variance Score\n",
    "from sklearn.metrics import explained_variance_score\n",
    "print('explained variance score')\n",
    "print(explained_variance_score(target_test, target_predicted_ridge))  \n",
    "\n",
    "from sklearn.metrics import mean_absolute_error\n",
    "print('mean absolute error')\n",
    "print(mean_absolute_error(target_test, target_predicted_ridge))\n"
   ]
  },
  {
   "cell_type": "code",
   "execution_count": 121,
   "metadata": {},
   "outputs": [
    {
     "name": "stdout",
     "output_type": "stream",
     "text": [
      "Cross Validation Score for each K [0.65208075 0.65637244 0.69501219 0.4635235  0.64090128 0.77307429\n",
      " 0.66490639 0.64537331 0.61338665 0.7106114 ]\n"
     ]
    },
    {
     "data": {
      "text/plain": [
       "0.6515242210817016"
      ]
     },
     "execution_count": 121,
     "metadata": {},
     "output_type": "execute_result"
    }
   ],
   "source": [
    "#verify Ridge with Cross Validation\n",
    "scores = cross_val_score(ridge_reg, features_train, target_train, cv=10)\n",
    "print(\"Cross Validation Score for each K\",scores)\n",
    "scores.mean()   "
   ]
  },
  {
   "cell_type": "markdown",
   "metadata": {},
   "source": [
    "## Results/Conclusions RIDGE (Optimized Model)\n",
    "Initial Results:\n",
    "Ridge Alpha = 0 \n",
    "- MSE - .019\n",
    "- EVS - .6628\n",
    "- MAE - .096\n",
    "Grid Search Results \n",
    "- Alpha = 0.05\n",
    "Ridge Alpha = 0.05\n",
    "- MSE - .0189\n",
    "- EVS - .668\n",
    "- MAE - .094\n",
    "\n",
    "Prior to starting I did not realize that because Alpha=0 for my initial Ridge Regression there would be no difference to OLS.  Of course, after doing both models I realized this and after running a grid search through .1-2 I ran through .01-.05 and found the optimized penalty to be alpha = 0.05.  This is the penalty multiplier that reduces bias and variance the most build the most accurate and stable model.  However during CV I found there were considerable outliers suggesting the full variance of the dataset is not captured during training.  \n",
    "\n",
    "From Alpha = 0 to Alpha = 0.05 the MSE, EVS, and MAE improved very minimally, suggesting that the penalty method may not be necessary in this solution.  The MAE evaluates the absolute difference in error of the means.  It is easily interpretable.  The explained variance score states how well the variance describes the prediction results.  In this case 66% is not great, but not terrible.  This is relatable to the Cross Validation Score.  I'd expect higher CV score variation if the EVS gets lower.  \n"
   ]
  }
 ],
 "metadata": {
  "kernelspec": {
   "display_name": "Python 3",
   "language": "python",
   "name": "python3"
  },
  "language_info": {
   "codemirror_mode": {
    "name": "ipython",
    "version": 3
   },
   "file_extension": ".py",
   "mimetype": "text/x-python",
   "name": "python",
   "nbconvert_exporter": "python",
   "pygments_lexer": "ipython3",
   "version": "3.6.5"
  }
 },
 "nbformat": 4,
 "nbformat_minor": 2
}

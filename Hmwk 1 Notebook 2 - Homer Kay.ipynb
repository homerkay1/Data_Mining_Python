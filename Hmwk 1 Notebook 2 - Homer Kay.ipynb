{
 "cells": [
  {
   "cell_type": "markdown",
   "metadata": {},
   "source": [
    "# H1 Notebook 2 - Homer Kay"
   ]
  },
  {
   "cell_type": "code",
   "execution_count": 1,
   "metadata": {},
   "outputs": [],
   "source": [
    "#Add packages\n",
    "%matplotlib inline \n",
    "import numpy as np\n",
    "import matplotlib.pyplot as plt\n",
    "import pandas as pd\n",
    "#From Scikit Learn\n",
    "from sklearn import preprocessing\n",
    "from sklearn.model_selection  import train_test_split, cross_val_score, KFold\n",
    "from sklearn.model_selection import GridSearchCV\n",
    "from sklearn.metrics import accuracy_score, precision_score, recall_score, f1_score\n",
    "from sklearn.metrics import roc_curve, auc, confusion_matrix, classification_report"
   ]
  },
  {
   "cell_type": "code",
   "execution_count": 2,
   "metadata": {},
   "outputs": [
    {
     "data": {
      "text/plain": [
       "'/Users/homerkay/Desktop/6303 Predictive Models/HMWK 1/Notebooks'"
      ]
     },
     "execution_count": 2,
     "metadata": {},
     "output_type": "execute_result"
    }
   ],
   "source": [
    " # Checking Current Directory\n",
    "%pwd"
   ]
  },
  {
   "cell_type": "code",
   "execution_count": 3,
   "metadata": {},
   "outputs": [
    {
     "name": "stdout",
     "output_type": "stream",
     "text": [
      "/Users/homerkay/Desktop/Pred_Models_git-master/Week 2\n"
     ]
    }
   ],
   "source": [
    "# Change Directory\n",
    "%cd /Users/homerkay/Desktop/Pred_Models_git-master/Week 2"
   ]
  },
  {
   "cell_type": "markdown",
   "metadata": {},
   "source": [
    "## Part A\n",
    "Reading in Churn Calls Dataset"
   ]
  },
  {
   "cell_type": "code",
   "execution_count": 7,
   "metadata": {},
   "outputs": [
    {
     "data": {
      "text/html": [
       "<div>\n",
       "<style scoped>\n",
       "    .dataframe tbody tr th:only-of-type {\n",
       "        vertical-align: middle;\n",
       "    }\n",
       "\n",
       "    .dataframe tbody tr th {\n",
       "        vertical-align: top;\n",
       "    }\n",
       "\n",
       "    .dataframe thead th {\n",
       "        text-align: right;\n",
       "    }\n",
       "</style>\n",
       "<table border=\"1\" class=\"dataframe\">\n",
       "  <thead>\n",
       "    <tr style=\"text-align: right;\">\n",
       "      <th></th>\n",
       "      <th>state</th>\n",
       "      <th>account_length</th>\n",
       "      <th>area_code</th>\n",
       "      <th>international_plan</th>\n",
       "      <th>voice_mail_plan</th>\n",
       "      <th>number_vmail_messages</th>\n",
       "      <th>total_day_minutes</th>\n",
       "      <th>total_day_calls</th>\n",
       "      <th>total_day_charge</th>\n",
       "      <th>total_eve_minutes</th>\n",
       "      <th>total_eve_calls</th>\n",
       "      <th>total_eve_charge</th>\n",
       "      <th>total_night_minutes</th>\n",
       "      <th>total_night_calls</th>\n",
       "      <th>total_night_charge</th>\n",
       "      <th>total_intl_minutes</th>\n",
       "      <th>total_intl_calls</th>\n",
       "      <th>total_intl_charge</th>\n",
       "      <th>number_customer_service_calls</th>\n",
       "      <th>churn</th>\n",
       "    </tr>\n",
       "  </thead>\n",
       "  <tbody>\n",
       "    <tr>\n",
       "      <th>0</th>\n",
       "      <td>AK</td>\n",
       "      <td>1</td>\n",
       "      <td>area_code_408</td>\n",
       "      <td>no</td>\n",
       "      <td>no</td>\n",
       "      <td>0</td>\n",
       "      <td>175.2</td>\n",
       "      <td>74</td>\n",
       "      <td>29.78</td>\n",
       "      <td>151.7</td>\n",
       "      <td>79</td>\n",
       "      <td>12.89</td>\n",
       "      <td>230.5</td>\n",
       "      <td>109</td>\n",
       "      <td>10.37</td>\n",
       "      <td>5.3</td>\n",
       "      <td>3</td>\n",
       "      <td>1.43</td>\n",
       "      <td>1</td>\n",
       "      <td>no</td>\n",
       "    </tr>\n",
       "    <tr>\n",
       "      <th>1</th>\n",
       "      <td>AK</td>\n",
       "      <td>36</td>\n",
       "      <td>area_code_408</td>\n",
       "      <td>no</td>\n",
       "      <td>yes</td>\n",
       "      <td>30</td>\n",
       "      <td>146.3</td>\n",
       "      <td>128</td>\n",
       "      <td>24.87</td>\n",
       "      <td>162.5</td>\n",
       "      <td>80</td>\n",
       "      <td>13.81</td>\n",
       "      <td>129.3</td>\n",
       "      <td>109</td>\n",
       "      <td>5.82</td>\n",
       "      <td>14.5</td>\n",
       "      <td>6</td>\n",
       "      <td>3.92</td>\n",
       "      <td>0</td>\n",
       "      <td>no</td>\n",
       "    </tr>\n",
       "    <tr>\n",
       "      <th>2</th>\n",
       "      <td>AK</td>\n",
       "      <td>36</td>\n",
       "      <td>area_code_415</td>\n",
       "      <td>yes</td>\n",
       "      <td>yes</td>\n",
       "      <td>19</td>\n",
       "      <td>171.9</td>\n",
       "      <td>96</td>\n",
       "      <td>29.22</td>\n",
       "      <td>198.4</td>\n",
       "      <td>111</td>\n",
       "      <td>16.86</td>\n",
       "      <td>321.7</td>\n",
       "      <td>76</td>\n",
       "      <td>14.48</td>\n",
       "      <td>10.5</td>\n",
       "      <td>1</td>\n",
       "      <td>2.84</td>\n",
       "      <td>1</td>\n",
       "      <td>yes</td>\n",
       "    </tr>\n",
       "    <tr>\n",
       "      <th>3</th>\n",
       "      <td>AK</td>\n",
       "      <td>41</td>\n",
       "      <td>area_code_415</td>\n",
       "      <td>no</td>\n",
       "      <td>no</td>\n",
       "      <td>0</td>\n",
       "      <td>159.3</td>\n",
       "      <td>66</td>\n",
       "      <td>27.08</td>\n",
       "      <td>125.9</td>\n",
       "      <td>75</td>\n",
       "      <td>10.70</td>\n",
       "      <td>261.9</td>\n",
       "      <td>76</td>\n",
       "      <td>11.79</td>\n",
       "      <td>11.1</td>\n",
       "      <td>5</td>\n",
       "      <td>3.00</td>\n",
       "      <td>1</td>\n",
       "      <td>no</td>\n",
       "    </tr>\n",
       "    <tr>\n",
       "      <th>4</th>\n",
       "      <td>AK</td>\n",
       "      <td>42</td>\n",
       "      <td>area_code_415</td>\n",
       "      <td>no</td>\n",
       "      <td>no</td>\n",
       "      <td>0</td>\n",
       "      <td>171.0</td>\n",
       "      <td>129</td>\n",
       "      <td>29.07</td>\n",
       "      <td>183.9</td>\n",
       "      <td>96</td>\n",
       "      <td>15.63</td>\n",
       "      <td>130.2</td>\n",
       "      <td>90</td>\n",
       "      <td>5.86</td>\n",
       "      <td>4.6</td>\n",
       "      <td>6</td>\n",
       "      <td>1.24</td>\n",
       "      <td>0</td>\n",
       "      <td>no</td>\n",
       "    </tr>\n",
       "    <tr>\n",
       "      <th>5</th>\n",
       "      <td>AK</td>\n",
       "      <td>48</td>\n",
       "      <td>area_code_415</td>\n",
       "      <td>no</td>\n",
       "      <td>yes</td>\n",
       "      <td>37</td>\n",
       "      <td>211.7</td>\n",
       "      <td>115</td>\n",
       "      <td>35.99</td>\n",
       "      <td>159.9</td>\n",
       "      <td>84</td>\n",
       "      <td>13.59</td>\n",
       "      <td>144.1</td>\n",
       "      <td>80</td>\n",
       "      <td>6.48</td>\n",
       "      <td>12.2</td>\n",
       "      <td>1</td>\n",
       "      <td>3.29</td>\n",
       "      <td>1</td>\n",
       "      <td>no</td>\n",
       "    </tr>\n",
       "    <tr>\n",
       "      <th>6</th>\n",
       "      <td>AK</td>\n",
       "      <td>50</td>\n",
       "      <td>area_code_408</td>\n",
       "      <td>no</td>\n",
       "      <td>no</td>\n",
       "      <td>0</td>\n",
       "      <td>183.6</td>\n",
       "      <td>107</td>\n",
       "      <td>31.21</td>\n",
       "      <td>58.6</td>\n",
       "      <td>118</td>\n",
       "      <td>4.98</td>\n",
       "      <td>202.6</td>\n",
       "      <td>99</td>\n",
       "      <td>9.12</td>\n",
       "      <td>8.7</td>\n",
       "      <td>3</td>\n",
       "      <td>2.35</td>\n",
       "      <td>1</td>\n",
       "      <td>no</td>\n",
       "    </tr>\n",
       "    <tr>\n",
       "      <th>7</th>\n",
       "      <td>AK</td>\n",
       "      <td>51</td>\n",
       "      <td>area_code_510</td>\n",
       "      <td>yes</td>\n",
       "      <td>yes</td>\n",
       "      <td>12</td>\n",
       "      <td>135.8</td>\n",
       "      <td>60</td>\n",
       "      <td>23.09</td>\n",
       "      <td>200.6</td>\n",
       "      <td>134</td>\n",
       "      <td>17.05</td>\n",
       "      <td>192.4</td>\n",
       "      <td>98</td>\n",
       "      <td>8.66</td>\n",
       "      <td>12.3</td>\n",
       "      <td>7</td>\n",
       "      <td>3.32</td>\n",
       "      <td>2</td>\n",
       "      <td>no</td>\n",
       "    </tr>\n",
       "    <tr>\n",
       "      <th>8</th>\n",
       "      <td>AK</td>\n",
       "      <td>52</td>\n",
       "      <td>area_code_408</td>\n",
       "      <td>no</td>\n",
       "      <td>no</td>\n",
       "      <td>0</td>\n",
       "      <td>217.0</td>\n",
       "      <td>104</td>\n",
       "      <td>36.89</td>\n",
       "      <td>152.3</td>\n",
       "      <td>83</td>\n",
       "      <td>12.95</td>\n",
       "      <td>134.3</td>\n",
       "      <td>109</td>\n",
       "      <td>6.04</td>\n",
       "      <td>11.8</td>\n",
       "      <td>4</td>\n",
       "      <td>3.19</td>\n",
       "      <td>2</td>\n",
       "      <td>no</td>\n",
       "    </tr>\n",
       "    <tr>\n",
       "      <th>9</th>\n",
       "      <td>AK</td>\n",
       "      <td>52</td>\n",
       "      <td>area_code_415</td>\n",
       "      <td>no</td>\n",
       "      <td>yes</td>\n",
       "      <td>24</td>\n",
       "      <td>170.9</td>\n",
       "      <td>71</td>\n",
       "      <td>29.05</td>\n",
       "      <td>201.4</td>\n",
       "      <td>80</td>\n",
       "      <td>17.12</td>\n",
       "      <td>159.0</td>\n",
       "      <td>124</td>\n",
       "      <td>7.15</td>\n",
       "      <td>4.1</td>\n",
       "      <td>5</td>\n",
       "      <td>1.11</td>\n",
       "      <td>2</td>\n",
       "      <td>no</td>\n",
       "    </tr>\n",
       "  </tbody>\n",
       "</table>\n",
       "</div>"
      ],
      "text/plain": [
       "  state  account_length      area_code international_plan voice_mail_plan  \\\n",
       "0    AK               1  area_code_408                 no              no   \n",
       "1    AK              36  area_code_408                 no             yes   \n",
       "2    AK              36  area_code_415                yes             yes   \n",
       "3    AK              41  area_code_415                 no              no   \n",
       "4    AK              42  area_code_415                 no              no   \n",
       "5    AK              48  area_code_415                 no             yes   \n",
       "6    AK              50  area_code_408                 no              no   \n",
       "7    AK              51  area_code_510                yes             yes   \n",
       "8    AK              52  area_code_408                 no              no   \n",
       "9    AK              52  area_code_415                 no             yes   \n",
       "\n",
       "   number_vmail_messages  total_day_minutes  total_day_calls  \\\n",
       "0                      0              175.2               74   \n",
       "1                     30              146.3              128   \n",
       "2                     19              171.9               96   \n",
       "3                      0              159.3               66   \n",
       "4                      0              171.0              129   \n",
       "5                     37              211.7              115   \n",
       "6                      0              183.6              107   \n",
       "7                     12              135.8               60   \n",
       "8                      0              217.0              104   \n",
       "9                     24              170.9               71   \n",
       "\n",
       "   total_day_charge  total_eve_minutes  total_eve_calls  total_eve_charge  \\\n",
       "0             29.78              151.7               79             12.89   \n",
       "1             24.87              162.5               80             13.81   \n",
       "2             29.22              198.4              111             16.86   \n",
       "3             27.08              125.9               75             10.70   \n",
       "4             29.07              183.9               96             15.63   \n",
       "5             35.99              159.9               84             13.59   \n",
       "6             31.21               58.6              118              4.98   \n",
       "7             23.09              200.6              134             17.05   \n",
       "8             36.89              152.3               83             12.95   \n",
       "9             29.05              201.4               80             17.12   \n",
       "\n",
       "   total_night_minutes  total_night_calls  total_night_charge  \\\n",
       "0                230.5                109               10.37   \n",
       "1                129.3                109                5.82   \n",
       "2                321.7                 76               14.48   \n",
       "3                261.9                 76               11.79   \n",
       "4                130.2                 90                5.86   \n",
       "5                144.1                 80                6.48   \n",
       "6                202.6                 99                9.12   \n",
       "7                192.4                 98                8.66   \n",
       "8                134.3                109                6.04   \n",
       "9                159.0                124                7.15   \n",
       "\n",
       "   total_intl_minutes  total_intl_calls  total_intl_charge  \\\n",
       "0                 5.3                 3               1.43   \n",
       "1                14.5                 6               3.92   \n",
       "2                10.5                 1               2.84   \n",
       "3                11.1                 5               3.00   \n",
       "4                 4.6                 6               1.24   \n",
       "5                12.2                 1               3.29   \n",
       "6                 8.7                 3               2.35   \n",
       "7                12.3                 7               3.32   \n",
       "8                11.8                 4               3.19   \n",
       "9                 4.1                 5               1.11   \n",
       "\n",
       "   number_customer_service_calls churn  \n",
       "0                              1    no  \n",
       "1                              0    no  \n",
       "2                              1   yes  \n",
       "3                              1    no  \n",
       "4                              0    no  \n",
       "5                              1    no  \n",
       "6                              1    no  \n",
       "7                              2    no  \n",
       "8                              2    no  \n",
       "9                              2    no  "
      ]
     },
     "execution_count": 7,
     "metadata": {},
     "output_type": "execute_result"
    }
   ],
   "source": [
    "## Pt 1\n",
    "Churn=pd.read_csv(\"data/Churn_Calls.csv\", sep=\",\")\n",
    "## Use Enconding argument, Latin-1, iso... etc to read in files properly\n",
    "#Had to remove \"NA\" from dataset native file to get to read properly\n",
    "Churn.head(10)\n"
   ]
  },
  {
   "cell_type": "markdown",
   "metadata": {},
   "source": [
    "## Part B\n",
    "Setting target as Churn.  Moved Churn to front of dataset.  "
   ]
  },
  {
   "cell_type": "code",
   "execution_count": 8,
   "metadata": {},
   "outputs": [
    {
     "data": {
      "text/html": [
       "<div>\n",
       "<style scoped>\n",
       "    .dataframe tbody tr th:only-of-type {\n",
       "        vertical-align: middle;\n",
       "    }\n",
       "\n",
       "    .dataframe tbody tr th {\n",
       "        vertical-align: top;\n",
       "    }\n",
       "\n",
       "    .dataframe thead th {\n",
       "        text-align: right;\n",
       "    }\n",
       "</style>\n",
       "<table border=\"1\" class=\"dataframe\">\n",
       "  <thead>\n",
       "    <tr style=\"text-align: right;\">\n",
       "      <th></th>\n",
       "      <th>churn</th>\n",
       "      <th>state</th>\n",
       "      <th>account_length</th>\n",
       "      <th>area_code</th>\n",
       "      <th>international_plan</th>\n",
       "      <th>voice_mail_plan</th>\n",
       "      <th>number_vmail_messages</th>\n",
       "      <th>total_day_minutes</th>\n",
       "      <th>total_day_calls</th>\n",
       "      <th>total_day_charge</th>\n",
       "      <th>total_eve_minutes</th>\n",
       "      <th>total_eve_calls</th>\n",
       "      <th>total_eve_charge</th>\n",
       "      <th>total_night_minutes</th>\n",
       "      <th>total_night_calls</th>\n",
       "      <th>total_night_charge</th>\n",
       "      <th>total_intl_minutes</th>\n",
       "      <th>total_intl_calls</th>\n",
       "      <th>total_intl_charge</th>\n",
       "      <th>number_customer_service_calls</th>\n",
       "    </tr>\n",
       "  </thead>\n",
       "  <tbody>\n",
       "    <tr>\n",
       "      <th>0</th>\n",
       "      <td>no</td>\n",
       "      <td>AK</td>\n",
       "      <td>1</td>\n",
       "      <td>area_code_408</td>\n",
       "      <td>no</td>\n",
       "      <td>no</td>\n",
       "      <td>0</td>\n",
       "      <td>175.2</td>\n",
       "      <td>74</td>\n",
       "      <td>29.78</td>\n",
       "      <td>151.7</td>\n",
       "      <td>79</td>\n",
       "      <td>12.89</td>\n",
       "      <td>230.5</td>\n",
       "      <td>109</td>\n",
       "      <td>10.37</td>\n",
       "      <td>5.3</td>\n",
       "      <td>3</td>\n",
       "      <td>1.43</td>\n",
       "      <td>1</td>\n",
       "    </tr>\n",
       "    <tr>\n",
       "      <th>1</th>\n",
       "      <td>no</td>\n",
       "      <td>AK</td>\n",
       "      <td>36</td>\n",
       "      <td>area_code_408</td>\n",
       "      <td>no</td>\n",
       "      <td>yes</td>\n",
       "      <td>30</td>\n",
       "      <td>146.3</td>\n",
       "      <td>128</td>\n",
       "      <td>24.87</td>\n",
       "      <td>162.5</td>\n",
       "      <td>80</td>\n",
       "      <td>13.81</td>\n",
       "      <td>129.3</td>\n",
       "      <td>109</td>\n",
       "      <td>5.82</td>\n",
       "      <td>14.5</td>\n",
       "      <td>6</td>\n",
       "      <td>3.92</td>\n",
       "      <td>0</td>\n",
       "    </tr>\n",
       "    <tr>\n",
       "      <th>2</th>\n",
       "      <td>yes</td>\n",
       "      <td>AK</td>\n",
       "      <td>36</td>\n",
       "      <td>area_code_415</td>\n",
       "      <td>yes</td>\n",
       "      <td>yes</td>\n",
       "      <td>19</td>\n",
       "      <td>171.9</td>\n",
       "      <td>96</td>\n",
       "      <td>29.22</td>\n",
       "      <td>198.4</td>\n",
       "      <td>111</td>\n",
       "      <td>16.86</td>\n",
       "      <td>321.7</td>\n",
       "      <td>76</td>\n",
       "      <td>14.48</td>\n",
       "      <td>10.5</td>\n",
       "      <td>1</td>\n",
       "      <td>2.84</td>\n",
       "      <td>1</td>\n",
       "    </tr>\n",
       "    <tr>\n",
       "      <th>3</th>\n",
       "      <td>no</td>\n",
       "      <td>AK</td>\n",
       "      <td>41</td>\n",
       "      <td>area_code_415</td>\n",
       "      <td>no</td>\n",
       "      <td>no</td>\n",
       "      <td>0</td>\n",
       "      <td>159.3</td>\n",
       "      <td>66</td>\n",
       "      <td>27.08</td>\n",
       "      <td>125.9</td>\n",
       "      <td>75</td>\n",
       "      <td>10.70</td>\n",
       "      <td>261.9</td>\n",
       "      <td>76</td>\n",
       "      <td>11.79</td>\n",
       "      <td>11.1</td>\n",
       "      <td>5</td>\n",
       "      <td>3.00</td>\n",
       "      <td>1</td>\n",
       "    </tr>\n",
       "    <tr>\n",
       "      <th>4</th>\n",
       "      <td>no</td>\n",
       "      <td>AK</td>\n",
       "      <td>42</td>\n",
       "      <td>area_code_415</td>\n",
       "      <td>no</td>\n",
       "      <td>no</td>\n",
       "      <td>0</td>\n",
       "      <td>171.0</td>\n",
       "      <td>129</td>\n",
       "      <td>29.07</td>\n",
       "      <td>183.9</td>\n",
       "      <td>96</td>\n",
       "      <td>15.63</td>\n",
       "      <td>130.2</td>\n",
       "      <td>90</td>\n",
       "      <td>5.86</td>\n",
       "      <td>4.6</td>\n",
       "      <td>6</td>\n",
       "      <td>1.24</td>\n",
       "      <td>0</td>\n",
       "    </tr>\n",
       "    <tr>\n",
       "      <th>5</th>\n",
       "      <td>no</td>\n",
       "      <td>AK</td>\n",
       "      <td>48</td>\n",
       "      <td>area_code_415</td>\n",
       "      <td>no</td>\n",
       "      <td>yes</td>\n",
       "      <td>37</td>\n",
       "      <td>211.7</td>\n",
       "      <td>115</td>\n",
       "      <td>35.99</td>\n",
       "      <td>159.9</td>\n",
       "      <td>84</td>\n",
       "      <td>13.59</td>\n",
       "      <td>144.1</td>\n",
       "      <td>80</td>\n",
       "      <td>6.48</td>\n",
       "      <td>12.2</td>\n",
       "      <td>1</td>\n",
       "      <td>3.29</td>\n",
       "      <td>1</td>\n",
       "    </tr>\n",
       "    <tr>\n",
       "      <th>6</th>\n",
       "      <td>no</td>\n",
       "      <td>AK</td>\n",
       "      <td>50</td>\n",
       "      <td>area_code_408</td>\n",
       "      <td>no</td>\n",
       "      <td>no</td>\n",
       "      <td>0</td>\n",
       "      <td>183.6</td>\n",
       "      <td>107</td>\n",
       "      <td>31.21</td>\n",
       "      <td>58.6</td>\n",
       "      <td>118</td>\n",
       "      <td>4.98</td>\n",
       "      <td>202.6</td>\n",
       "      <td>99</td>\n",
       "      <td>9.12</td>\n",
       "      <td>8.7</td>\n",
       "      <td>3</td>\n",
       "      <td>2.35</td>\n",
       "      <td>1</td>\n",
       "    </tr>\n",
       "    <tr>\n",
       "      <th>7</th>\n",
       "      <td>no</td>\n",
       "      <td>AK</td>\n",
       "      <td>51</td>\n",
       "      <td>area_code_510</td>\n",
       "      <td>yes</td>\n",
       "      <td>yes</td>\n",
       "      <td>12</td>\n",
       "      <td>135.8</td>\n",
       "      <td>60</td>\n",
       "      <td>23.09</td>\n",
       "      <td>200.6</td>\n",
       "      <td>134</td>\n",
       "      <td>17.05</td>\n",
       "      <td>192.4</td>\n",
       "      <td>98</td>\n",
       "      <td>8.66</td>\n",
       "      <td>12.3</td>\n",
       "      <td>7</td>\n",
       "      <td>3.32</td>\n",
       "      <td>2</td>\n",
       "    </tr>\n",
       "    <tr>\n",
       "      <th>8</th>\n",
       "      <td>no</td>\n",
       "      <td>AK</td>\n",
       "      <td>52</td>\n",
       "      <td>area_code_408</td>\n",
       "      <td>no</td>\n",
       "      <td>no</td>\n",
       "      <td>0</td>\n",
       "      <td>217.0</td>\n",
       "      <td>104</td>\n",
       "      <td>36.89</td>\n",
       "      <td>152.3</td>\n",
       "      <td>83</td>\n",
       "      <td>12.95</td>\n",
       "      <td>134.3</td>\n",
       "      <td>109</td>\n",
       "      <td>6.04</td>\n",
       "      <td>11.8</td>\n",
       "      <td>4</td>\n",
       "      <td>3.19</td>\n",
       "      <td>2</td>\n",
       "    </tr>\n",
       "    <tr>\n",
       "      <th>9</th>\n",
       "      <td>no</td>\n",
       "      <td>AK</td>\n",
       "      <td>52</td>\n",
       "      <td>area_code_415</td>\n",
       "      <td>no</td>\n",
       "      <td>yes</td>\n",
       "      <td>24</td>\n",
       "      <td>170.9</td>\n",
       "      <td>71</td>\n",
       "      <td>29.05</td>\n",
       "      <td>201.4</td>\n",
       "      <td>80</td>\n",
       "      <td>17.12</td>\n",
       "      <td>159.0</td>\n",
       "      <td>124</td>\n",
       "      <td>7.15</td>\n",
       "      <td>4.1</td>\n",
       "      <td>5</td>\n",
       "      <td>1.11</td>\n",
       "      <td>2</td>\n",
       "    </tr>\n",
       "  </tbody>\n",
       "</table>\n",
       "</div>"
      ],
      "text/plain": [
       "  churn state  account_length      area_code international_plan  \\\n",
       "0    no    AK               1  area_code_408                 no   \n",
       "1    no    AK              36  area_code_408                 no   \n",
       "2   yes    AK              36  area_code_415                yes   \n",
       "3    no    AK              41  area_code_415                 no   \n",
       "4    no    AK              42  area_code_415                 no   \n",
       "5    no    AK              48  area_code_415                 no   \n",
       "6    no    AK              50  area_code_408                 no   \n",
       "7    no    AK              51  area_code_510                yes   \n",
       "8    no    AK              52  area_code_408                 no   \n",
       "9    no    AK              52  area_code_415                 no   \n",
       "\n",
       "  voice_mail_plan  number_vmail_messages  total_day_minutes  total_day_calls  \\\n",
       "0              no                      0              175.2               74   \n",
       "1             yes                     30              146.3              128   \n",
       "2             yes                     19              171.9               96   \n",
       "3              no                      0              159.3               66   \n",
       "4              no                      0              171.0              129   \n",
       "5             yes                     37              211.7              115   \n",
       "6              no                      0              183.6              107   \n",
       "7             yes                     12              135.8               60   \n",
       "8              no                      0              217.0              104   \n",
       "9             yes                     24              170.9               71   \n",
       "\n",
       "   total_day_charge  total_eve_minutes  total_eve_calls  total_eve_charge  \\\n",
       "0             29.78              151.7               79             12.89   \n",
       "1             24.87              162.5               80             13.81   \n",
       "2             29.22              198.4              111             16.86   \n",
       "3             27.08              125.9               75             10.70   \n",
       "4             29.07              183.9               96             15.63   \n",
       "5             35.99              159.9               84             13.59   \n",
       "6             31.21               58.6              118              4.98   \n",
       "7             23.09              200.6              134             17.05   \n",
       "8             36.89              152.3               83             12.95   \n",
       "9             29.05              201.4               80             17.12   \n",
       "\n",
       "   total_night_minutes  total_night_calls  total_night_charge  \\\n",
       "0                230.5                109               10.37   \n",
       "1                129.3                109                5.82   \n",
       "2                321.7                 76               14.48   \n",
       "3                261.9                 76               11.79   \n",
       "4                130.2                 90                5.86   \n",
       "5                144.1                 80                6.48   \n",
       "6                202.6                 99                9.12   \n",
       "7                192.4                 98                8.66   \n",
       "8                134.3                109                6.04   \n",
       "9                159.0                124                7.15   \n",
       "\n",
       "   total_intl_minutes  total_intl_calls  total_intl_charge  \\\n",
       "0                 5.3                 3               1.43   \n",
       "1                14.5                 6               3.92   \n",
       "2                10.5                 1               2.84   \n",
       "3                11.1                 5               3.00   \n",
       "4                 4.6                 6               1.24   \n",
       "5                12.2                 1               3.29   \n",
       "6                 8.7                 3               2.35   \n",
       "7                12.3                 7               3.32   \n",
       "8                11.8                 4               3.19   \n",
       "9                 4.1                 5               1.11   \n",
       "\n",
       "   number_customer_service_calls  \n",
       "0                              1  \n",
       "1                              0  \n",
       "2                              1  \n",
       "3                              1  \n",
       "4                              0  \n",
       "5                              1  \n",
       "6                              1  \n",
       "7                              2  \n",
       "8                              2  \n",
       "9                              2  "
      ]
     },
     "execution_count": 8,
     "metadata": {},
     "output_type": "execute_result"
    }
   ],
   "source": [
    "# Move Chrun column.\n",
    "# designate target variable name\n",
    "targetName = 'churn'\n",
    "targetSeries = Churn[targetName]\n",
    "#remove target from current location and insert in collum 0\n",
    "del Churn[targetName]\n",
    "Churn.insert(0, targetName, targetSeries)\n",
    "#reprint dataframe and see target is in position 0\n",
    "Churn.head(10)"
   ]
  },
  {
   "cell_type": "markdown",
   "metadata": {},
   "source": [
    "## Part C\n",
    "EDA Observations\n",
    "- Area Code - Numeric data stored as object with extra text attached (Only 3 Groups)\n",
    "- Churn, International Plan, Voicemail Plan are binomial\n",
    "- State is categorical\n",
    "- Rest are numerical\n",
    "- Churn Targe Variable is biased \"no\" by 86%\n",
    "- State minimum response - California (52), maximum response West Virginia (158)\n",
    "- Churn is fairly consistent within each state.  \n",
    "- Total international minutes is 99% correlated with Total international charge.  Hence they are measuring the same thing and could introduce multicollinearity.  \n",
    "- Similarly Day Charge/Minutes and Night Charge/Minutes and Even Charge/Minutes are all 99+% correlated.  \n",
    "- It would be wise to remove all the charge columns correlating to this.  \n",
    "- Area Code 415 has the most observations, but the churn rate is consistent between the 3 area codes.  "
   ]
  },
  {
   "cell_type": "code",
   "execution_count": 46,
   "metadata": {},
   "outputs": [
    {
     "name": "stdout",
     "output_type": "stream",
     "text": [
      "Index(['churn', 'state', 'account_length', 'area_code', 'international_plan',\n",
      "       'voice_mail_plan', 'number_vmail_messages', 'total_day_minutes',\n",
      "       'total_day_calls', 'total_day_charge', 'total_eve_minutes',\n",
      "       'total_eve_calls', 'total_eve_charge', 'total_night_minutes',\n",
      "       'total_night_calls', 'total_night_charge', 'total_intl_minutes',\n",
      "       'total_intl_calls', 'total_intl_charge',\n",
      "       'number_customer_service_calls'],\n",
      "      dtype='object')\n",
      "(5000, 20)\n",
      "churn                             object\n",
      "state                             object\n",
      "account_length                     int64\n",
      "area_code                         object\n",
      "international_plan                object\n",
      "voice_mail_plan                   object\n",
      "number_vmail_messages              int64\n",
      "total_day_minutes                float64\n",
      "total_day_calls                    int64\n",
      "total_day_charge                 float64\n",
      "total_eve_minutes                float64\n",
      "total_eve_calls                    int64\n",
      "total_eve_charge                 float64\n",
      "total_night_minutes              float64\n",
      "total_night_calls                  int64\n",
      "total_night_charge               float64\n",
      "total_intl_minutes               float64\n",
      "total_intl_calls                   int64\n",
      "total_intl_charge                float64\n",
      "number_customer_service_calls      int64\n",
      "dtype: object\n",
      "account_length                   100.258600\n",
      "number_vmail_messages              7.755200\n",
      "total_day_minutes                180.288900\n",
      "total_day_calls                  100.029400\n",
      "total_day_charge                  30.649668\n",
      "total_eve_minutes                200.636560\n",
      "total_eve_calls                  100.191000\n",
      "total_eve_charge                  17.054322\n",
      "total_night_minutes              200.391620\n",
      "total_night_calls                 99.919200\n",
      "total_night_charge                 9.017732\n",
      "total_intl_minutes                10.261780\n",
      "total_intl_calls                   4.435200\n",
      "total_intl_charge                  2.771196\n",
      "number_customer_service_calls      1.570400\n",
      "dtype: float64\n",
      "\n",
      "account_length                   39.694560\n",
      "number_vmail_messages            13.546393\n",
      "total_day_minutes                53.894699\n",
      "total_day_calls                  19.831197\n",
      "total_day_charge                  9.162069\n",
      "total_eve_minutes                50.551309\n",
      "total_eve_calls                  19.826496\n",
      "total_eve_charge                  4.296843\n",
      "total_night_minutes              50.527789\n",
      "total_night_calls                19.958686\n",
      "total_night_charge                2.273763\n",
      "total_intl_minutes                2.761396\n",
      "total_intl_calls                  2.456788\n",
      "total_intl_charge                 0.745514\n",
      "number_customer_service_calls     1.306363\n",
      "dtype: float64\n",
      "\n",
      "state\n",
      "AK     72\n",
      "AL    124\n",
      "AR     92\n",
      "AZ     89\n",
      "CA     52\n",
      "CO     96\n",
      "CT     99\n",
      "DC     88\n",
      "DE     94\n",
      "FL     90\n",
      "GA     83\n",
      "HI     86\n",
      "IA     69\n",
      "ID    119\n",
      "IL     88\n",
      "IN     98\n",
      "KS     99\n",
      "KY     99\n",
      "LA     82\n",
      "MA    103\n",
      "MD    102\n",
      "ME    103\n",
      "MI    103\n",
      "MN    125\n",
      "MO     93\n",
      "MS     99\n",
      "MT     99\n",
      "NC     91\n",
      "ND     88\n",
      "NE     88\n",
      "NH     95\n",
      "NJ    112\n",
      "NM     91\n",
      "NV     90\n",
      "NY    114\n",
      "OH    116\n",
      "OK     90\n",
      "OR    114\n",
      "PA     77\n",
      "RI     99\n",
      "SC     91\n",
      "SD     85\n",
      "TN     89\n",
      "TX    116\n",
      "UT    112\n",
      "VA    118\n",
      "VT    101\n",
      "WA     98\n",
      "WI    106\n",
      "WV    158\n",
      "WY    115\n",
      "dtype: int64\n",
      "\n",
      "area_code\n",
      "area_code_408    1259\n",
      "area_code_415    2495\n",
      "area_code_510    1246\n",
      "dtype: int64\n",
      "\n",
      "churn\n",
      "no     4293\n",
      "yes     707\n",
      "dtype: int64\n",
      "\n",
      "international_plan\n",
      "no     4527\n",
      "yes     473\n",
      "dtype: int64\n",
      "\n",
      "voice_mail_plan\n",
      "no     3677\n",
      "yes    1323\n",
      "dtype: int64\n"
     ]
    }
   ],
   "source": [
    "print(Churn.columns)\n",
    "print(Churn.shape)\n",
    "print(Churn.dtypes)\n",
    "#Means, StdDev\n",
    "print(Churn.mean())\n",
    "print() #extra prints add spaces to see info splits easily\n",
    "print(Churn.std())\n",
    "# Distribution drive type and fuel type\n",
    "print()\n",
    "print(Churn.groupby('state').size())\n",
    "print()\n",
    "print(Churn.groupby('area_code').size())\n",
    "print()\n",
    "print(Churn.groupby('churn').size())\n",
    "print()\n",
    "print(Churn.groupby('international_plan').size())\n",
    "print()\n",
    "print(Churn.groupby('voice_mail_plan').size())"
   ]
  },
  {
   "cell_type": "code",
   "execution_count": 26,
   "metadata": {},
   "outputs": [
    {
     "name": "stdout",
     "output_type": "stream",
     "text": [
      "        0\n",
      "state    \n",
      "CA     52\n",
      "IA     69\n",
      "AK     72\n",
      "PA     77\n",
      "LA     82\n",
      "GA     83\n",
      "SD     85\n",
      "HI     86\n",
      "DC     88\n",
      "NE     88\n",
      "         0\n",
      "state     \n",
      "NY     114\n",
      "OR     114\n",
      "WY     115\n",
      "OH     116\n",
      "TX     116\n",
      "VA     118\n",
      "ID     119\n",
      "AL     124\n",
      "MN     125\n",
      "WV     158\n"
     ]
    },
    {
     "data": {
      "text/plain": [
       "Text(0,0.5,'Frequency')"
      ]
     },
     "execution_count": 26,
     "metadata": {},
     "output_type": "execute_result"
    },
    {
     "data": {
      "image/png": "[encoded data removed]",
      "text/plain": [
       "<Figure size 432x288 with 1 Axes>"
      ]
     },
     "metadata": {},
     "output_type": "display_data"
    }
   ],
   "source": [
    "state_churn=pd.DataFrame(Churn.groupby('state').size())\n",
    "state_churn=state_churn.sort_values(by=[0])\n",
    "print(state_churn.head(10))\n",
    "print(state_churn.tail(10))\n",
    "state_churn.plot(kind='bar')\n",
    "plt.ylabel('Frequency')"
   ]
  },
  {
   "cell_type": "code",
   "execution_count": 86,
   "metadata": {},
   "outputs": [
    {
     "data": {
      "text/plain": [
       "Text(0.5,1,'Churn by State')"
      ]
     },
     "execution_count": 86,
     "metadata": {},
     "output_type": "execute_result"
    },
    {
     "data": {
      "image/png": "[encoded data removed]",
      "text/plain": [
       "<Figure size 432x288 with 1 Axes>"
      ]
     },
     "metadata": {},
     "output_type": "display_data"
    }
   ],
   "source": [
    "##Cross Tab States\n",
    "\n",
    "state_churn_cross=pd.crosstab(Churn.state, Churn.churn,colnames=['State'],rownames=['Churn'])\n",
    "\n",
    "state_churn_cross.plot(kind='bar', stacked=True)\n",
    "plt.title('Churn by State')"
   ]
  },
  {
   "cell_type": "code",
   "execution_count": 31,
   "metadata": {},
   "outputs": [
    {
     "name": "stdout",
     "output_type": "stream",
     "text": [
      "                               account_length  number_vmail_messages  \\\n",
      "account_length                       1.000000              -0.014575   \n",
      "number_vmail_messages               -0.014575               1.000000   \n",
      "total_day_minutes                   -0.001017               0.005381   \n",
      "total_day_calls                      0.028240               0.000883   \n",
      "total_day_charge                    -0.001019               0.005377   \n",
      "total_eve_minutes                   -0.009591               0.019490   \n",
      "total_eve_calls                      0.009143              -0.003954   \n",
      "total_eve_charge                    -0.009587               0.019496   \n",
      "total_night_minutes                  0.000668               0.005541   \n",
      "total_night_calls                   -0.007825               0.002676   \n",
      "total_night_charge                   0.000656               0.005535   \n",
      "total_intl_minutes                   0.001291               0.002463   \n",
      "total_intl_calls                     0.014277               0.000124   \n",
      "total_intl_charge                    0.001292               0.002505   \n",
      "number_customer_service_calls       -0.001445              -0.007086   \n",
      "\n",
      "                               total_day_minutes  total_day_calls  \\\n",
      "account_length                         -0.001017         0.028240   \n",
      "number_vmail_messages                   0.005381         0.000883   \n",
      "total_day_minutes                       1.000000         0.001935   \n",
      "total_day_calls                         0.001935         1.000000   \n",
      "total_day_charge                        1.000000         0.001936   \n",
      "total_eve_minutes                      -0.010750        -0.000699   \n",
      "total_eve_calls                         0.008128         0.003754   \n",
      "total_eve_charge                       -0.010760        -0.000695   \n",
      "total_night_minutes                     0.011799         0.002804   \n",
      "total_night_calls                       0.004236        -0.008308   \n",
      "total_night_charge                      0.011783         0.002802   \n",
      "total_intl_minutes                     -0.019486         0.013097   \n",
      "total_intl_calls                       -0.001303         0.010893   \n",
      "total_intl_charge                      -0.019415         0.013161   \n",
      "number_customer_service_calls           0.002733        -0.010739   \n",
      "\n",
      "                               total_day_charge  total_eve_minutes  \\\n",
      "account_length                        -0.001019          -0.009591   \n",
      "number_vmail_messages                  0.005377           0.019490   \n",
      "total_day_minutes                      1.000000          -0.010750   \n",
      "total_day_calls                        0.001936          -0.000699   \n",
      "total_day_charge                       1.000000          -0.010747   \n",
      "total_eve_minutes                     -0.010747           1.000000   \n",
      "total_eve_calls                        0.008129           0.002763   \n",
      "total_eve_charge                      -0.010757           1.000000   \n",
      "total_night_minutes                    0.011801          -0.016639   \n",
      "total_night_calls                      0.004235           0.013420   \n",
      "total_night_charge                     0.011785          -0.016642   \n",
      "total_intl_minutes                    -0.019490           0.000137   \n",
      "total_intl_calls                      -0.001307           0.008388   \n",
      "total_intl_charge                     -0.019419           0.000159   \n",
      "number_customer_service_calls          0.002726          -0.013823   \n",
      "\n",
      "                               total_eve_calls  total_eve_charge  \\\n",
      "account_length                        0.009143         -0.009587   \n",
      "number_vmail_messages                -0.003954          0.019496   \n",
      "total_day_minutes                     0.008128         -0.010760   \n",
      "total_day_calls                       0.003754         -0.000695   \n",
      "total_day_charge                      0.008129         -0.010757   \n",
      "total_eve_minutes                     0.002763          1.000000   \n",
      "total_eve_calls                       1.000000          0.002778   \n",
      "total_eve_charge                      0.002778          1.000000   \n",
      "total_night_minutes                   0.001781         -0.016649   \n",
      "total_night_calls                    -0.013682          0.013422   \n",
      "total_night_charge                    0.001799         -0.016652   \n",
      "total_intl_minutes                   -0.007458          0.000132   \n",
      "total_intl_calls                      0.005574          0.008393   \n",
      "total_intl_charge                    -0.007507          0.000155   \n",
      "number_customer_service_calls         0.006235         -0.013836   \n",
      "\n",
      "                               total_night_minutes  total_night_calls  \\\n",
      "account_length                            0.000668          -0.007825   \n",
      "number_vmail_messages                     0.005541           0.002676   \n",
      "total_day_minutes                         0.011799           0.004236   \n",
      "total_day_calls                           0.002804          -0.008308   \n",
      "total_day_charge                          0.011801           0.004235   \n",
      "total_eve_minutes                        -0.016639           0.013420   \n",
      "total_eve_calls                           0.001781          -0.013682   \n",
      "total_eve_charge                         -0.016649           0.013422   \n",
      "total_night_minutes                       1.000000           0.026972   \n",
      "total_night_calls                         0.026972           1.000000   \n",
      "total_night_charge                        0.999999           0.026949   \n",
      "total_intl_minutes                       -0.006721           0.000391   \n",
      "total_intl_calls                         -0.017214          -0.000156   \n",
      "total_intl_charge                        -0.006655           0.000368   \n",
      "number_customer_service_calls            -0.008533          -0.008283   \n",
      "\n",
      "                               total_night_charge  total_intl_minutes  \\\n",
      "account_length                           0.000656            0.001291   \n",
      "number_vmail_messages                    0.005535            0.002463   \n",
      "total_day_minutes                        0.011783           -0.019486   \n",
      "total_day_calls                          0.002802            0.013097   \n",
      "total_day_charge                         0.011785           -0.019490   \n",
      "total_eve_minutes                       -0.016642            0.000137   \n",
      "total_eve_calls                          0.001799           -0.007458   \n",
      "total_eve_charge                        -0.016652            0.000132   \n",
      "total_night_minutes                      0.999999           -0.006721   \n",
      "total_night_calls                        0.026949            0.000391   \n",
      "total_night_charge                       1.000000           -0.006717   \n",
      "total_intl_minutes                      -0.006717            1.000000   \n",
      "total_intl_calls                        -0.017182            0.016791   \n",
      "total_intl_charge                       -0.006650            0.999993   \n",
      "number_customer_service_calls           -0.008530           -0.012122   \n",
      "\n",
      "                               total_intl_calls  total_intl_charge  \\\n",
      "account_length                         0.014277           0.001292   \n",
      "number_vmail_messages                  0.000124           0.002505   \n",
      "total_day_minutes                     -0.001303          -0.019415   \n",
      "total_day_calls                        0.010893           0.013161   \n",
      "total_day_charge                      -0.001307          -0.019419   \n",
      "total_eve_minutes                      0.008388           0.000159   \n",
      "total_eve_calls                        0.005574          -0.007507   \n",
      "total_eve_charge                       0.008393           0.000155   \n",
      "total_night_minutes                   -0.017214          -0.006655   \n",
      "total_night_calls                     -0.000156           0.000368   \n",
      "total_night_charge                    -0.017182          -0.006650   \n",
      "total_intl_minutes                     0.016791           0.999993   \n",
      "total_intl_calls                       1.000000           0.016900   \n",
      "total_intl_charge                      0.016900           1.000000   \n",
      "number_customer_service_calls         -0.019147          -0.012180   \n",
      "\n",
      "                               number_customer_service_calls  \n",
      "account_length                                     -0.001445  \n",
      "number_vmail_messages                              -0.007086  \n",
      "total_day_minutes                                   0.002733  \n",
      "total_day_calls                                    -0.010739  \n",
      "total_day_charge                                    0.002726  \n",
      "total_eve_minutes                                  -0.013823  \n",
      "total_eve_calls                                     0.006235  \n",
      "total_eve_charge                                   -0.013836  \n",
      "total_night_minutes                                -0.008533  \n",
      "total_night_calls                                  -0.008283  \n",
      "total_night_charge                                 -0.008530  \n",
      "total_intl_minutes                                 -0.012122  \n",
      "total_intl_calls                                   -0.019147  \n",
      "total_intl_charge                                  -0.012180  \n",
      "number_customer_service_calls                       1.000000  \n"
     ]
    },
    {
     "data": {
      "text/plain": [
       "<matplotlib.image.AxesImage at 0x1a20c03b70>"
      ]
     },
     "execution_count": 31,
     "metadata": {},
     "output_type": "execute_result"
    },
    {
     "data": {
      "image/png": "[encoded data removed]",
      "text/plain": [
       "<Figure size 288x288 with 1 Axes>"
      ]
     },
     "metadata": {},
     "output_type": "display_data"
    }
   ],
   "source": [
    "## Corelation\n",
    "# Numerical\n",
    "print(Churn.corr())\n",
    "# Visual\n",
    "plt.matshow(Churn.corr())"
   ]
  },
  {
   "cell_type": "code",
   "execution_count": 43,
   "metadata": {},
   "outputs": [
    {
     "data": {
      "text/plain": [
       "(5000, 16)"
      ]
     },
     "execution_count": 43,
     "metadata": {},
     "output_type": "execute_result"
    }
   ],
   "source": [
    "## Removing highly correlated columns.  \n",
    "Churn2=Churn.drop(columns=['total_day_charge','total_eve_charge','total_intl_charge','total_night_charge'])\n",
    "Churn2.head(10)\n",
    "Churn2.shape"
   ]
  },
  {
   "cell_type": "code",
   "execution_count": 47,
   "metadata": {},
   "outputs": [
    {
     "name": "stdout",
     "output_type": "stream",
     "text": [
      "Area Code        no  yes\n",
      "Churn                   \n",
      "area_code_408  1082  177\n",
      "area_code_415  2149  346\n",
      "area_code_510  1062  184\n"
     ]
    },
    {
     "data": {
      "text/plain": [
       "Text(0.5,1,'Churn by Code')"
      ]
     },
     "execution_count": 47,
     "metadata": {},
     "output_type": "execute_result"
    },
    {
     "data": {
      "image/png": "[encoded data removed]",
      "text/plain": [
       "<Figure size 432x288 with 1 Axes>"
      ]
     },
     "metadata": {},
     "output_type": "display_data"
    }
   ],
   "source": [
    "##Cross Tab States\n",
    "\n",
    "code_churn_cross=pd.crosstab(Churn2.area_code, Churn2.churn,colnames=['Area Code'],rownames=['Churn'])\n",
    "print(code_churn_cross)\n",
    "\n",
    "code_churn_cross.plot(kind='bar', stacked=True)\n",
    "plt.title('Churn by Code')\n"
   ]
  },
  {
   "cell_type": "markdown",
   "metadata": {},
   "source": [
    "## Part D\n",
    "Factors being dummied, missing values fixed."
   ]
  },
  {
   "cell_type": "code",
   "execution_count": 48,
   "metadata": {},
   "outputs": [],
   "source": [
    "for col in Churn2.columns[1:]:\n",
    "\tattName = col\n",
    "\tdType = Churn2[col].dtype\n",
    "\tmissing = pd.isnull(Churn2[col]).any()\n",
    "\tuniqueCount = len(Churn2[attName].value_counts(normalize=False))\n",
    "\t# discretize (create dummies)\n",
    "\tif dType == object:\n",
    "\t\tChurn2 = pd.concat([Churn2, pd.get_dummies(Churn2[col], prefix=col)], axis=1)\n",
    "\t\tdel Churn2[attName]"
   ]
  },
  {
   "cell_type": "markdown",
   "metadata": {},
   "source": [
    "## Part E\n",
    "Train/Test 70/30"
   ]
  },
  {
   "cell_type": "code",
   "execution_count": 50,
   "metadata": {},
   "outputs": [],
   "source": [
    "features_train, features_test, target_train, target_test = train_test_split(\n",
    "    Churn2.iloc[:,1:].values, Churn2.iloc[:,0].values, test_size=0.30, random_state=0)"
   ]
  },
  {
   "cell_type": "code",
   "execution_count": 51,
   "metadata": {},
   "outputs": [
    {
     "name": "stdout",
     "output_type": "stream",
     "text": [
      "(1500, 69)\n",
      "(3500, 69)\n",
      "(1500,)\n",
      "(3500,)\n"
     ]
    }
   ],
   "source": [
    "print(features_test.shape)\n",
    "print(features_train.shape)\n",
    "print(target_test.shape)\n",
    "print(target_train.shape)"
   ]
  },
  {
   "cell_type": "markdown",
   "metadata": {},
   "source": [
    "## Part F\n",
    "Decision Tree \n",
    "Arguments Changed: Maximum Depth = 5, Class Weight = Balanced. \n",
    "\n",
    "Results \n",
    "- The DT correctly classified 93% of the predictions.  \n",
    "- The CV shows that variation between validation is very small, indicating the majority of the variation in the data has been captured.  After furhter tuning this model may be able to be put into production.  "
   ]
  },
  {
   "cell_type": "code",
   "execution_count": 74,
   "metadata": {},
   "outputs": [
    {
     "name": "stdout",
     "output_type": "stream",
     "text": [
      "DecisionTreeClassifier(class_weight='balanced', criterion='gini', max_depth=5,\n",
      "            max_features=None, max_leaf_nodes=None,\n",
      "            min_impurity_decrease=0.0, min_impurity_split=None,\n",
      "            min_samples_leaf=1, min_samples_split=2,\n",
      "            min_weight_fraction_leaf=0.0, presort=False, random_state=None,\n",
      "            splitter='best')\n"
     ]
    }
   ],
   "source": [
    "from sklearn import tree \n",
    "clf_dt = tree.DecisionTreeClassifier(max_depth=5, class_weight=\"balanced\")\n",
    "#Call up the model to see the parameters you can tune (and their default setting)\n",
    "print(clf_dt)\n",
    "#Fit clf to the training data\n",
    "clf_dt = clf_dt.fit(features_train, target_train)\n",
    "#Predict clf DT model again test data\n",
    "target_predicted_dt = clf_dt.predict(features_test)\n"
   ]
  },
  {
   "cell_type": "code",
   "execution_count": 75,
   "metadata": {},
   "outputs": [
    {
     "name": "stdout",
     "output_type": "stream",
     "text": [
      "DT Accuracy Score 0.93\n",
      "Classification Report\n",
      "             precision    recall  f1-score   support\n",
      "\n",
      "         no       0.96      0.95      0.96      1285\n",
      "        yes       0.74      0.79      0.76       215\n",
      "\n",
      "avg / total       0.93      0.93      0.93      1500\n",
      "\n",
      "Confusion Matrix\n",
      "[[1225   60]\n",
      " [  45  170]]\n"
     ]
    }
   ],
   "source": [
    "print(\"DT Accuracy Score\", accuracy_score(target_test, target_predicted_dt))\n",
    "print(\"Classification Report\")\n",
    "print(classification_report(target_test, target_predicted_dt))\n",
    "print(\"Confusion Matrix\")\n",
    "print(confusion_matrix(target_test, target_predicted_dt))\n"
   ]
  },
  {
   "cell_type": "markdown",
   "metadata": {},
   "source": [
    "## Part G\n",
    "Cross Validation - Decision Tree"
   ]
  },
  {
   "cell_type": "code",
   "execution_count": 76,
   "metadata": {},
   "outputs": [
    {
     "name": "stdout",
     "output_type": "stream",
     "text": [
      "Cross Validation Score for each K [0.93009986 0.93295292 0.92571429 0.92846924 0.91702432]\n"
     ]
    },
    {
     "data": {
      "text/plain": [
       "0.9268521259372833"
      ]
     },
     "execution_count": 76,
     "metadata": {},
     "output_type": "execute_result"
    }
   ],
   "source": [
    "#verify DT with Cross Validation\n",
    "scores = cross_val_score(clf_dt, features_train, target_train, cv=5)\n",
    "print(\"Cross Validation Score for each K\",scores)\n",
    "scores.mean()          "
   ]
  },
  {
   "cell_type": "markdown",
   "metadata": {},
   "source": [
    "## Part H\n",
    "KNN=3\n",
    "\n",
    "Results \n",
    "- The KNN correctly classified 87% of the predictions.  \n",
    "- The CV shows that variation between validation is very small, indicating the majority of the variation in the data has been captured.  After furhter tuning this model may be able to be put into production.  "
   ]
  },
  {
   "cell_type": "code",
   "execution_count": 77,
   "metadata": {},
   "outputs": [],
   "source": [
    "from sklearn.neighbors import KNeighborsClassifier\n",
    "neigh = KNeighborsClassifier(n_neighbors=3)\n",
    "neigh_knn = neigh.fit(features_train, target_train) \n",
    "target_predicted_knn = neigh_knn.predict(features_test)\n"
   ]
  },
  {
   "cell_type": "code",
   "execution_count": 78,
   "metadata": {},
   "outputs": [
    {
     "name": "stdout",
     "output_type": "stream",
     "text": [
      "KNN Accuracy Score 0.876\n",
      "Classification Report\n",
      "             precision    recall  f1-score   support\n",
      "\n",
      "         no       0.90      0.96      0.93      1285\n",
      "        yes       0.62      0.35      0.45       215\n",
      "\n",
      "avg / total       0.86      0.88      0.86      1500\n",
      "\n",
      "Confusion Matrix\n",
      "[[1238   47]\n",
      " [ 139   76]]\n"
     ]
    }
   ],
   "source": [
    "print(\"KNN Accuracy Score\", accuracy_score(target_test, target_predicted_knn))\n",
    "print(\"Classification Report\")\n",
    "print(classification_report(target_test, target_predicted_knn))\n",
    "print(\"Confusion Matrix\")\n",
    "print(confusion_matrix(target_test, target_predicted_knn))\n"
   ]
  },
  {
   "cell_type": "markdown",
   "metadata": {},
   "source": [
    "## Part I\n",
    "Cross Validation - KNN"
   ]
  },
  {
   "cell_type": "code",
   "execution_count": 79,
   "metadata": {},
   "outputs": [
    {
     "name": "stdout",
     "output_type": "stream",
     "text": [
      "Cross Validation Score for each K [0.86305278 0.86733238 0.87714286 0.8769671  0.88268956]\n"
     ]
    },
    {
     "data": {
      "text/plain": [
       "0.8734369347109455"
      ]
     },
     "execution_count": 79,
     "metadata": {},
     "output_type": "execute_result"
    }
   ],
   "source": [
    "#verify KNN with Cross Validation\n",
    "scores = cross_val_score(neigh_knn, features_train, target_train, cv=5)\n",
    "print(\"Cross Validation Score for each K\",scores)\n",
    "scores.mean()          "
   ]
  },
  {
   "cell_type": "markdown",
   "metadata": {},
   "source": [
    "## Part J\n",
    "Naive Bayes\n",
    "\n",
    "Results \n",
    "- The NB correctly classified 60% of the predictions.  \n",
    "- The CV indicates not all of the variation in the data has been captured.  This model needs more tuning and validation before deciding whether it is production ready.  "
   ]
  },
  {
   "cell_type": "code",
   "execution_count": 80,
   "metadata": {},
   "outputs": [],
   "source": [
    "import numpy as np\n",
    "from sklearn.naive_bayes import GaussianNB\n",
    "nb = GaussianNB()\n",
    "nb_fit = nb.fit(features_train, target_train)\n",
    "GaussianNB(priors=None)\n",
    "target_predicted_nb = nb_fit.predict(features_test)\n"
   ]
  },
  {
   "cell_type": "code",
   "execution_count": 81,
   "metadata": {
    "scrolled": true
   },
   "outputs": [
    {
     "name": "stdout",
     "output_type": "stream",
     "text": [
      "NB Accuracy Score 0.604\n",
      "Classification Report\n",
      "             precision    recall  f1-score   support\n",
      "\n",
      "         no       0.89      0.61      0.73      1285\n",
      "        yes       0.19      0.54      0.28       215\n",
      "\n",
      "avg / total       0.79      0.60      0.66      1500\n",
      "\n",
      "Confusion Matrix\n",
      "[[789 496]\n",
      " [ 98 117]]\n"
     ]
    }
   ],
   "source": [
    "print(\"NB Accuracy Score\", accuracy_score(target_test, target_predicted_nb))\n",
    "print(\"Classification Report\")\n",
    "print(classification_report(target_test, target_predicted_nb))\n",
    "print(\"Confusion Matrix\")\n",
    "print(confusion_matrix(target_test, target_predicted_nb))"
   ]
  },
  {
   "cell_type": "markdown",
   "metadata": {},
   "source": [
    "## Park K\n",
    "CV on NB\n",
    "This cross validation shows some scores that are far from the mean.  Telling us that no enough of the data variation has been captured in the Naive Bayes analysis.  I.E. it would not be wise to put this model into production without further bootstrapping applied or more data variation captured in the analysis.  "
   ]
  },
  {
   "cell_type": "code",
   "execution_count": 82,
   "metadata": {},
   "outputs": [
    {
     "name": "stdout",
     "output_type": "stream",
     "text": [
      "Cross Validation Score for each K [0.57203994 0.65049929 0.66142857 0.59227468 0.60801144]\n"
     ]
    },
    {
     "data": {
      "text/plain": [
       "0.6168507848266745"
      ]
     },
     "execution_count": 82,
     "metadata": {},
     "output_type": "execute_result"
    }
   ],
   "source": [
    "#verify NB with Cross Validation\n",
    "scores = cross_val_score(nb_fit, features_train, target_train, cv=5)\n",
    "print(\"Cross Validation Score for each K\",scores)\n",
    "scores.mean() "
   ]
  },
  {
   "cell_type": "markdown",
   "metadata": {},
   "source": [
    "## Part L\n",
    "Random Forest\n",
    "\n",
    "Results \n",
    "- The RF correctly classified 86% of the predictions.  \n",
    "- The CV shows that variation between validation is very small, indicating the majority of the variation in the data has been captured.  After furhter tuning this model may be able to be put into production.  "
   ]
  },
  {
   "cell_type": "code",
   "execution_count": 83,
   "metadata": {},
   "outputs": [],
   "source": [
    "from sklearn.ensemble import RandomForestClassifier\n",
    "from sklearn.datasets import make_classification\n",
    "rf = RandomForestClassifier(max_depth=4, random_state=0)\n",
    "rf_fit = rf.fit(features_train, target_train)\n",
    "RandomForestClassifier(bootstrap=True, class_weight=None, criterion='gini',\n",
    "            max_depth=4, max_features='auto', max_leaf_nodes=None,\n",
    "            min_impurity_decrease=0.0, min_impurity_split=None,\n",
    "            min_samples_leaf=1, min_samples_split=2,\n",
    "            min_weight_fraction_leaf=0.0, n_estimators=10, n_jobs=1,\n",
    "            oob_score=False, random_state=0, verbose=0, warm_start=False)\n",
    "\n",
    "target_predicted_rf = rf_fit.predict(features_test)\n",
    "\n"
   ]
  },
  {
   "cell_type": "code",
   "execution_count": 84,
   "metadata": {},
   "outputs": [
    {
     "name": "stdout",
     "output_type": "stream",
     "text": [
      "RF Accuracy Score 0.862\n",
      "Classification Report\n",
      "             precision    recall  f1-score   support\n",
      "\n",
      "         no       0.86      1.00      0.93      1285\n",
      "        yes       1.00      0.04      0.07       215\n",
      "\n",
      "avg / total       0.88      0.86      0.80      1500\n",
      "\n",
      "Confusion Matrix\n",
      "[[1285    0]\n",
      " [ 207    8]]\n"
     ]
    }
   ],
   "source": [
    "print(\"RF Accuracy Score\", accuracy_score(target_test, target_predicted_rf))\n",
    "print(\"Classification Report\")\n",
    "print(classification_report(target_test, target_predicted_rf))\n",
    "print(\"Confusion Matrix\")\n",
    "print(confusion_matrix(target_test, target_predicted_rf))"
   ]
  },
  {
   "cell_type": "code",
   "execution_count": 85,
   "metadata": {},
   "outputs": [
    {
     "name": "stdout",
     "output_type": "stream",
     "text": [
      "Cross Validation Score for each K [0.86162625 0.86590585 0.86857143 0.86409156 0.87410587]\n"
     ]
    },
    {
     "data": {
      "text/plain": [
       "0.8668601900936824"
      ]
     },
     "execution_count": 85,
     "metadata": {},
     "output_type": "execute_result"
    }
   ],
   "source": [
    "#verify RF with Cross Validation\n",
    "scores = cross_val_score(rf_fit, features_train, target_train, cv=5)\n",
    "print(\"Cross Validation Score for each K\",scores)\n",
    "scores.mean() "
   ]
  },
  {
   "cell_type": "markdown",
   "metadata": {},
   "source": [
    "## Results\n",
    "After evaluating 4 models, I would easily pick the decision tree over the other models.  It has superior accuracy and passes the Cross Validation check.  With more tuning it could be put into production.  "
   ]
  }
 ],
 "metadata": {
  "kernelspec": {
   "display_name": "Python 3",
   "language": "python",
   "name": "python3"
  },
  "language_info": {
   "codemirror_mode": {
    "name": "ipython",
    "version": 3
   },
   "file_extension": ".py",
   "mimetype": "text/x-python",
   "name": "python",
   "nbconvert_exporter": "python",
   "pygments_lexer": "ipython3",
   "version": "3.6.5"
  }
 },
 "nbformat": 4,
 "nbformat_minor": 2
}

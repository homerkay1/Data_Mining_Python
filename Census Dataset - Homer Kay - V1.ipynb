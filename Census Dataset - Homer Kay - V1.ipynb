{
 "cells": [
  {
   "cell_type": "markdown",
   "metadata": {},
   "source": [
    "# - Census Dataset - Homer Kay"
   ]
  },
  {
   "cell_type": "code",
   "execution_count": 2,
   "metadata": {},
   "outputs": [],
   "source": [
    "#Add packages\n",
    "%matplotlib inline \n",
    "import numpy as np\n",
    "import matplotlib.pyplot as plt\n",
    "import pandas as pd\n",
    "#From Scikit Learn\n",
    "from sklearn import preprocessing\n",
    "from sklearn.model_selection  import train_test_split, cross_val_score, KFold\n",
    "from sklearn.model_selection import GridSearchCV\n",
    "from sklearn.metrics import accuracy_score, precision_score, recall_score, f1_score\n",
    "from sklearn.metrics import roc_curve, auc, confusion_matrix, classification_report"
   ]
  },
  {
   "cell_type": "code",
   "execution_count": 1,
   "metadata": {},
   "outputs": [],
   "source": [
    "# Checking Current Directory"
   ]
  },
  {
   "cell_type": "code",
   "execution_count": 2,
   "metadata": {},
   "outputs": [],
   "source": [
    "# Change Directory"
   ]
  },
  {
   "cell_type": "code",
   "execution_count": 5,
   "metadata": {},
   "outputs": [
    {
     "data": {
      "text/html": [
       "<div>\n",
       "<style scoped>\n",
       "    .dataframe tbody tr th:only-of-type {\n",
       "        vertical-align: middle;\n",
       "    }\n",
       "\n",
       "    .dataframe tbody tr th {\n",
       "        vertical-align: top;\n",
       "    }\n",
       "\n",
       "    .dataframe thead th {\n",
       "        text-align: right;\n",
       "    }\n",
       "</style>\n",
       "<table border=\"1\" class=\"dataframe\">\n",
       "  <thead>\n",
       "    <tr style=\"text-align: right;\">\n",
       "      <th></th>\n",
       "      <th>0</th>\n",
       "      <th>1</th>\n",
       "      <th>2</th>\n",
       "      <th>3</th>\n",
       "      <th>4</th>\n",
       "      <th>5</th>\n",
       "      <th>6</th>\n",
       "      <th>7</th>\n",
       "      <th>8</th>\n",
       "      <th>9</th>\n",
       "      <th>10</th>\n",
       "      <th>11</th>\n",
       "      <th>12</th>\n",
       "      <th>13</th>\n",
       "      <th>14</th>\n",
       "    </tr>\n",
       "  </thead>\n",
       "  <tbody>\n",
       "    <tr>\n",
       "      <th>0</th>\n",
       "      <td>25</td>\n",
       "      <td>Private</td>\n",
       "      <td>226802</td>\n",
       "      <td>11th</td>\n",
       "      <td>7</td>\n",
       "      <td>Never-married</td>\n",
       "      <td>Machine-op-inspct</td>\n",
       "      <td>Own-child</td>\n",
       "      <td>Black</td>\n",
       "      <td>Male</td>\n",
       "      <td>0</td>\n",
       "      <td>0</td>\n",
       "      <td>40</td>\n",
       "      <td>United-States</td>\n",
       "      <td>&lt;=50K.</td>\n",
       "    </tr>\n",
       "    <tr>\n",
       "      <th>1</th>\n",
       "      <td>38</td>\n",
       "      <td>Private</td>\n",
       "      <td>89814</td>\n",
       "      <td>HS-grad</td>\n",
       "      <td>9</td>\n",
       "      <td>Married-civ-spouse</td>\n",
       "      <td>Farming-fishing</td>\n",
       "      <td>Husband</td>\n",
       "      <td>White</td>\n",
       "      <td>Male</td>\n",
       "      <td>0</td>\n",
       "      <td>0</td>\n",
       "      <td>50</td>\n",
       "      <td>United-States</td>\n",
       "      <td>&lt;=50K.</td>\n",
       "    </tr>\n",
       "    <tr>\n",
       "      <th>2</th>\n",
       "      <td>28</td>\n",
       "      <td>Local-gov</td>\n",
       "      <td>336951</td>\n",
       "      <td>Assoc-acdm</td>\n",
       "      <td>12</td>\n",
       "      <td>Married-civ-spouse</td>\n",
       "      <td>Protective-serv</td>\n",
       "      <td>Husband</td>\n",
       "      <td>White</td>\n",
       "      <td>Male</td>\n",
       "      <td>0</td>\n",
       "      <td>0</td>\n",
       "      <td>40</td>\n",
       "      <td>United-States</td>\n",
       "      <td>&gt;50K.</td>\n",
       "    </tr>\n",
       "    <tr>\n",
       "      <th>3</th>\n",
       "      <td>44</td>\n",
       "      <td>Private</td>\n",
       "      <td>160323</td>\n",
       "      <td>Some-college</td>\n",
       "      <td>10</td>\n",
       "      <td>Married-civ-spouse</td>\n",
       "      <td>Machine-op-inspct</td>\n",
       "      <td>Husband</td>\n",
       "      <td>Black</td>\n",
       "      <td>Male</td>\n",
       "      <td>7688</td>\n",
       "      <td>0</td>\n",
       "      <td>40</td>\n",
       "      <td>United-States</td>\n",
       "      <td>&gt;50K.</td>\n",
       "    </tr>\n",
       "    <tr>\n",
       "      <th>4</th>\n",
       "      <td>18</td>\n",
       "      <td>?</td>\n",
       "      <td>103497</td>\n",
       "      <td>Some-college</td>\n",
       "      <td>10</td>\n",
       "      <td>Never-married</td>\n",
       "      <td>?</td>\n",
       "      <td>Own-child</td>\n",
       "      <td>White</td>\n",
       "      <td>Female</td>\n",
       "      <td>0</td>\n",
       "      <td>0</td>\n",
       "      <td>30</td>\n",
       "      <td>United-States</td>\n",
       "      <td>&lt;=50K.</td>\n",
       "    </tr>\n",
       "    <tr>\n",
       "      <th>5</th>\n",
       "      <td>34</td>\n",
       "      <td>Private</td>\n",
       "      <td>198693</td>\n",
       "      <td>10th</td>\n",
       "      <td>6</td>\n",
       "      <td>Never-married</td>\n",
       "      <td>Other-service</td>\n",
       "      <td>Not-in-family</td>\n",
       "      <td>White</td>\n",
       "      <td>Male</td>\n",
       "      <td>0</td>\n",
       "      <td>0</td>\n",
       "      <td>30</td>\n",
       "      <td>United-States</td>\n",
       "      <td>&lt;=50K.</td>\n",
       "    </tr>\n",
       "    <tr>\n",
       "      <th>6</th>\n",
       "      <td>29</td>\n",
       "      <td>?</td>\n",
       "      <td>227026</td>\n",
       "      <td>HS-grad</td>\n",
       "      <td>9</td>\n",
       "      <td>Never-married</td>\n",
       "      <td>?</td>\n",
       "      <td>Unmarried</td>\n",
       "      <td>Black</td>\n",
       "      <td>Male</td>\n",
       "      <td>0</td>\n",
       "      <td>0</td>\n",
       "      <td>40</td>\n",
       "      <td>United-States</td>\n",
       "      <td>&lt;=50K.</td>\n",
       "    </tr>\n",
       "    <tr>\n",
       "      <th>7</th>\n",
       "      <td>63</td>\n",
       "      <td>Self-emp-not-inc</td>\n",
       "      <td>104626</td>\n",
       "      <td>Prof-school</td>\n",
       "      <td>15</td>\n",
       "      <td>Married-civ-spouse</td>\n",
       "      <td>Prof-specialty</td>\n",
       "      <td>Husband</td>\n",
       "      <td>White</td>\n",
       "      <td>Male</td>\n",
       "      <td>3103</td>\n",
       "      <td>0</td>\n",
       "      <td>32</td>\n",
       "      <td>United-States</td>\n",
       "      <td>&gt;50K.</td>\n",
       "    </tr>\n",
       "    <tr>\n",
       "      <th>8</th>\n",
       "      <td>24</td>\n",
       "      <td>Private</td>\n",
       "      <td>369667</td>\n",
       "      <td>Some-college</td>\n",
       "      <td>10</td>\n",
       "      <td>Never-married</td>\n",
       "      <td>Other-service</td>\n",
       "      <td>Unmarried</td>\n",
       "      <td>White</td>\n",
       "      <td>Female</td>\n",
       "      <td>0</td>\n",
       "      <td>0</td>\n",
       "      <td>40</td>\n",
       "      <td>United-States</td>\n",
       "      <td>&lt;=50K.</td>\n",
       "    </tr>\n",
       "    <tr>\n",
       "      <th>9</th>\n",
       "      <td>55</td>\n",
       "      <td>Private</td>\n",
       "      <td>104996</td>\n",
       "      <td>7th-8th</td>\n",
       "      <td>4</td>\n",
       "      <td>Married-civ-spouse</td>\n",
       "      <td>Craft-repair</td>\n",
       "      <td>Husband</td>\n",
       "      <td>White</td>\n",
       "      <td>Male</td>\n",
       "      <td>0</td>\n",
       "      <td>0</td>\n",
       "      <td>10</td>\n",
       "      <td>United-States</td>\n",
       "      <td>&lt;=50K.</td>\n",
       "    </tr>\n",
       "  </tbody>\n",
       "</table>\n",
       "</div>"
      ],
      "text/plain": [
       "   0                  1       2              3   4                    5   \\\n",
       "0  25            Private  226802           11th   7        Never-married   \n",
       "1  38            Private   89814        HS-grad   9   Married-civ-spouse   \n",
       "2  28          Local-gov  336951     Assoc-acdm  12   Married-civ-spouse   \n",
       "3  44            Private  160323   Some-college  10   Married-civ-spouse   \n",
       "4  18                  ?  103497   Some-college  10        Never-married   \n",
       "5  34            Private  198693           10th   6        Never-married   \n",
       "6  29                  ?  227026        HS-grad   9        Never-married   \n",
       "7  63   Self-emp-not-inc  104626    Prof-school  15   Married-civ-spouse   \n",
       "8  24            Private  369667   Some-college  10        Never-married   \n",
       "9  55            Private  104996        7th-8th   4   Married-civ-spouse   \n",
       "\n",
       "                   6               7       8        9     10  11  12  \\\n",
       "0   Machine-op-inspct       Own-child   Black     Male     0   0  40   \n",
       "1     Farming-fishing         Husband   White     Male     0   0  50   \n",
       "2     Protective-serv         Husband   White     Male     0   0  40   \n",
       "3   Machine-op-inspct         Husband   Black     Male  7688   0  40   \n",
       "4                   ?       Own-child   White   Female     0   0  30   \n",
       "5       Other-service   Not-in-family   White     Male     0   0  30   \n",
       "6                   ?       Unmarried   Black     Male     0   0  40   \n",
       "7      Prof-specialty         Husband   White     Male  3103   0  32   \n",
       "8       Other-service       Unmarried   White   Female     0   0  40   \n",
       "9        Craft-repair         Husband   White     Male     0   0  10   \n",
       "\n",
       "               13       14  \n",
       "0   United-States   <=50K.  \n",
       "1   United-States   <=50K.  \n",
       "2   United-States    >50K.  \n",
       "3   United-States    >50K.  \n",
       "4   United-States   <=50K.  \n",
       "5   United-States   <=50K.  \n",
       "6   United-States   <=50K.  \n",
       "7   United-States    >50K.  \n",
       "8   United-States   <=50K.  \n",
       "9   United-States   <=50K.  "
      ]
     },
     "execution_count": 5,
     "metadata": {},
     "output_type": "execute_result"
    }
   ],
   "source": [
    "# Importing Data\n",
    "import pandas as pd\n",
    "url = 'https://archive.ics.uci.edu/ml/machine-learning-databases/adult/adult.data'\n",
    "adult = pd.read_csv(url, header=None, na_values=['?'])\n",
    "adult.head(10)\n",
    "url2 = 'https://archive.ics.uci.edu/ml/machine-learning-databases/adult/adult.test'\n",
    "# Skip First Row, causes encoding problems.  \n",
    "adult_test = pd.read_csv(url2, header=None, na_values=['?'], skiprows=1)\n",
    "adult_test.head(10)"
   ]
  },
  {
   "cell_type": "markdown",
   "metadata": {},
   "source": [
    "# EDA\n",
    "- Rename Columns\n",
    "- Combine Training/Test Data\n",
    "- Missing Values Columns 10,11?\n",
    "- Designate Target Variable\n",
    "- Dummies"
   ]
  },
  {
   "cell_type": "code",
   "execution_count": 6,
   "metadata": {},
   "outputs": [],
   "source": [
    "# Combining Test/Train From Website\n",
    "# Decided to do this to perform EDA on entire set and train/test my own sets.  \n",
    "frames = [adult, adult_test]\n",
    "adult_comb = pd.concat(frames)"
   ]
  },
  {
   "cell_type": "code",
   "execution_count": 7,
   "metadata": {},
   "outputs": [
    {
     "name": "stdout",
     "output_type": "stream",
     "text": [
      "(48842, 15)\n",
      "0      int64\n",
      "1     object\n",
      "2      int64\n",
      "3     object\n",
      "4      int64\n",
      "5     object\n",
      "6     object\n",
      "7     object\n",
      "8     object\n",
      "9     object\n",
      "10     int64\n",
      "11     int64\n",
      "12     int64\n",
      "13    object\n",
      "14    object\n",
      "dtype: object\n",
      "0         38.643585\n",
      "2     189664.134597\n",
      "4         10.078089\n",
      "10      1079.067626\n",
      "11        87.502314\n",
      "12        40.422382\n",
      "dtype: float64\n",
      "\n",
      "0         13.710510\n",
      "2     105604.025423\n",
      "4          2.570973\n",
      "10      7452.019058\n",
      "11       403.004552\n",
      "12        12.391444\n",
      "dtype: float64\n"
     ]
    }
   ],
   "source": [
    "print(adult_comb.shape)\n",
    "print(adult_comb.dtypes)\n",
    "print(adult_comb.mean())\n",
    "print()\n",
    "print(adult_comb.std())"
   ]
  },
  {
   "cell_type": "code",
   "execution_count": 8,
   "metadata": {},
   "outputs": [
    {
     "name": "stdout",
     "output_type": "stream",
     "text": [
      "CapGain # of Non-Zeros\n",
      "4035\n",
      "CapLoss # of Non-Zeros\n",
      "2282\n",
      "Total # of Columns\n",
      "48842\n"
     ]
    }
   ],
   "source": [
    "# Rename and Count Missing Values in Columns\n",
    "adult_comb.columns = ['age', 'workclass','fnlwgt', 'Education','Education#','Marital Status','Occupation','Relationship','Race','Sex','CapGain','CapLoss','Hours per week','Native Country','50K?']\n",
    "#Check 0's in columns Capital Gains and Capital Losses\n",
    "print('CapGain # of Non-Zeros')\n",
    "print(adult_comb.CapGain.astype(bool).sum(axis=0))\n",
    "print('CapLoss # of Non-Zeros')\n",
    "print(adult_comb.CapLoss.astype(bool).sum(axis=0))\n",
    "print('Total # of Columns')\n",
    "print(adult_comb.CapGain.count())"
   ]
  },
  {
   "cell_type": "markdown",
   "metadata": {},
   "source": [
    "### Considering the fact that CapGain and CapLoss are both zero over 90% of the time; they are missing information, and cannot be imputed."
   ]
  },
  {
   "cell_type": "code",
   "execution_count": 9,
   "metadata": {},
   "outputs": [
    {
     "data": {
      "text/html": [
       "<div>\n",
       "<style scoped>\n",
       "    .dataframe tbody tr th:only-of-type {\n",
       "        vertical-align: middle;\n",
       "    }\n",
       "\n",
       "    .dataframe tbody tr th {\n",
       "        vertical-align: top;\n",
       "    }\n",
       "\n",
       "    .dataframe thead th {\n",
       "        text-align: right;\n",
       "    }\n",
       "</style>\n",
       "<table border=\"1\" class=\"dataframe\">\n",
       "  <thead>\n",
       "    <tr style=\"text-align: right;\">\n",
       "      <th></th>\n",
       "      <th>age</th>\n",
       "      <th>workclass</th>\n",
       "      <th>fnlwgt</th>\n",
       "      <th>Education</th>\n",
       "      <th>Education#</th>\n",
       "      <th>Marital Status</th>\n",
       "      <th>Occupation</th>\n",
       "      <th>Relationship</th>\n",
       "      <th>Race</th>\n",
       "      <th>Sex</th>\n",
       "      <th>Hours per week</th>\n",
       "      <th>Native Country</th>\n",
       "      <th>50K?</th>\n",
       "    </tr>\n",
       "  </thead>\n",
       "  <tbody>\n",
       "    <tr>\n",
       "      <th>0</th>\n",
       "      <td>39</td>\n",
       "      <td>State-gov</td>\n",
       "      <td>77516</td>\n",
       "      <td>Bachelors</td>\n",
       "      <td>13</td>\n",
       "      <td>Never-married</td>\n",
       "      <td>Adm-clerical</td>\n",
       "      <td>Not-in-family</td>\n",
       "      <td>White</td>\n",
       "      <td>Male</td>\n",
       "      <td>40</td>\n",
       "      <td>United-States</td>\n",
       "      <td>&lt;=50K</td>\n",
       "    </tr>\n",
       "    <tr>\n",
       "      <th>1</th>\n",
       "      <td>50</td>\n",
       "      <td>Self-emp-not-inc</td>\n",
       "      <td>83311</td>\n",
       "      <td>Bachelors</td>\n",
       "      <td>13</td>\n",
       "      <td>Married-civ-spouse</td>\n",
       "      <td>Exec-managerial</td>\n",
       "      <td>Husband</td>\n",
       "      <td>White</td>\n",
       "      <td>Male</td>\n",
       "      <td>13</td>\n",
       "      <td>United-States</td>\n",
       "      <td>&lt;=50K</td>\n",
       "    </tr>\n",
       "    <tr>\n",
       "      <th>2</th>\n",
       "      <td>38</td>\n",
       "      <td>Private</td>\n",
       "      <td>215646</td>\n",
       "      <td>HS-grad</td>\n",
       "      <td>9</td>\n",
       "      <td>Divorced</td>\n",
       "      <td>Handlers-cleaners</td>\n",
       "      <td>Not-in-family</td>\n",
       "      <td>White</td>\n",
       "      <td>Male</td>\n",
       "      <td>40</td>\n",
       "      <td>United-States</td>\n",
       "      <td>&lt;=50K</td>\n",
       "    </tr>\n",
       "    <tr>\n",
       "      <th>3</th>\n",
       "      <td>53</td>\n",
       "      <td>Private</td>\n",
       "      <td>234721</td>\n",
       "      <td>11th</td>\n",
       "      <td>7</td>\n",
       "      <td>Married-civ-spouse</td>\n",
       "      <td>Handlers-cleaners</td>\n",
       "      <td>Husband</td>\n",
       "      <td>Black</td>\n",
       "      <td>Male</td>\n",
       "      <td>40</td>\n",
       "      <td>United-States</td>\n",
       "      <td>&lt;=50K</td>\n",
       "    </tr>\n",
       "    <tr>\n",
       "      <th>4</th>\n",
       "      <td>28</td>\n",
       "      <td>Private</td>\n",
       "      <td>338409</td>\n",
       "      <td>Bachelors</td>\n",
       "      <td>13</td>\n",
       "      <td>Married-civ-spouse</td>\n",
       "      <td>Prof-specialty</td>\n",
       "      <td>Wife</td>\n",
       "      <td>Black</td>\n",
       "      <td>Female</td>\n",
       "      <td>40</td>\n",
       "      <td>Cuba</td>\n",
       "      <td>&lt;=50K</td>\n",
       "    </tr>\n",
       "    <tr>\n",
       "      <th>5</th>\n",
       "      <td>37</td>\n",
       "      <td>Private</td>\n",
       "      <td>284582</td>\n",
       "      <td>Masters</td>\n",
       "      <td>14</td>\n",
       "      <td>Married-civ-spouse</td>\n",
       "      <td>Exec-managerial</td>\n",
       "      <td>Wife</td>\n",
       "      <td>White</td>\n",
       "      <td>Female</td>\n",
       "      <td>40</td>\n",
       "      <td>United-States</td>\n",
       "      <td>&lt;=50K</td>\n",
       "    </tr>\n",
       "    <tr>\n",
       "      <th>6</th>\n",
       "      <td>49</td>\n",
       "      <td>Private</td>\n",
       "      <td>160187</td>\n",
       "      <td>9th</td>\n",
       "      <td>5</td>\n",
       "      <td>Married-spouse-absent</td>\n",
       "      <td>Other-service</td>\n",
       "      <td>Not-in-family</td>\n",
       "      <td>Black</td>\n",
       "      <td>Female</td>\n",
       "      <td>16</td>\n",
       "      <td>Jamaica</td>\n",
       "      <td>&lt;=50K</td>\n",
       "    </tr>\n",
       "    <tr>\n",
       "      <th>7</th>\n",
       "      <td>52</td>\n",
       "      <td>Self-emp-not-inc</td>\n",
       "      <td>209642</td>\n",
       "      <td>HS-grad</td>\n",
       "      <td>9</td>\n",
       "      <td>Married-civ-spouse</td>\n",
       "      <td>Exec-managerial</td>\n",
       "      <td>Husband</td>\n",
       "      <td>White</td>\n",
       "      <td>Male</td>\n",
       "      <td>45</td>\n",
       "      <td>United-States</td>\n",
       "      <td>&gt;50K</td>\n",
       "    </tr>\n",
       "    <tr>\n",
       "      <th>8</th>\n",
       "      <td>31</td>\n",
       "      <td>Private</td>\n",
       "      <td>45781</td>\n",
       "      <td>Masters</td>\n",
       "      <td>14</td>\n",
       "      <td>Never-married</td>\n",
       "      <td>Prof-specialty</td>\n",
       "      <td>Not-in-family</td>\n",
       "      <td>White</td>\n",
       "      <td>Female</td>\n",
       "      <td>50</td>\n",
       "      <td>United-States</td>\n",
       "      <td>&gt;50K</td>\n",
       "    </tr>\n",
       "    <tr>\n",
       "      <th>9</th>\n",
       "      <td>42</td>\n",
       "      <td>Private</td>\n",
       "      <td>159449</td>\n",
       "      <td>Bachelors</td>\n",
       "      <td>13</td>\n",
       "      <td>Married-civ-spouse</td>\n",
       "      <td>Exec-managerial</td>\n",
       "      <td>Husband</td>\n",
       "      <td>White</td>\n",
       "      <td>Male</td>\n",
       "      <td>40</td>\n",
       "      <td>United-States</td>\n",
       "      <td>&gt;50K</td>\n",
       "    </tr>\n",
       "  </tbody>\n",
       "</table>\n",
       "</div>"
      ],
      "text/plain": [
       "   age          workclass  fnlwgt   Education  Education#  \\\n",
       "0   39          State-gov   77516   Bachelors          13   \n",
       "1   50   Self-emp-not-inc   83311   Bachelors          13   \n",
       "2   38            Private  215646     HS-grad           9   \n",
       "3   53            Private  234721        11th           7   \n",
       "4   28            Private  338409   Bachelors          13   \n",
       "5   37            Private  284582     Masters          14   \n",
       "6   49            Private  160187         9th           5   \n",
       "7   52   Self-emp-not-inc  209642     HS-grad           9   \n",
       "8   31            Private   45781     Masters          14   \n",
       "9   42            Private  159449   Bachelors          13   \n",
       "\n",
       "           Marital Status          Occupation    Relationship    Race  \\\n",
       "0           Never-married        Adm-clerical   Not-in-family   White   \n",
       "1      Married-civ-spouse     Exec-managerial         Husband   White   \n",
       "2                Divorced   Handlers-cleaners   Not-in-family   White   \n",
       "3      Married-civ-spouse   Handlers-cleaners         Husband   Black   \n",
       "4      Married-civ-spouse      Prof-specialty            Wife   Black   \n",
       "5      Married-civ-spouse     Exec-managerial            Wife   White   \n",
       "6   Married-spouse-absent       Other-service   Not-in-family   Black   \n",
       "7      Married-civ-spouse     Exec-managerial         Husband   White   \n",
       "8           Never-married      Prof-specialty   Not-in-family   White   \n",
       "9      Married-civ-spouse     Exec-managerial         Husband   White   \n",
       "\n",
       "       Sex  Hours per week  Native Country    50K?  \n",
       "0     Male              40   United-States   <=50K  \n",
       "1     Male              13   United-States   <=50K  \n",
       "2     Male              40   United-States   <=50K  \n",
       "3     Male              40   United-States   <=50K  \n",
       "4   Female              40            Cuba   <=50K  \n",
       "5   Female              40   United-States   <=50K  \n",
       "6   Female              16         Jamaica   <=50K  \n",
       "7     Male              45   United-States    >50K  \n",
       "8   Female              50   United-States    >50K  \n",
       "9     Male              40   United-States    >50K  "
      ]
     },
     "execution_count": 9,
     "metadata": {},
     "output_type": "execute_result"
    }
   ],
   "source": [
    "#Remove Columns CapGain, CapLoss\n",
    "adult_c_red = adult_comb.drop(columns=['CapGain','CapLoss'])\n",
    "adult_c_red.head(10)"
   ]
  },
  {
   "cell_type": "code",
   "execution_count": 10,
   "metadata": {},
   "outputs": [
    {
     "data": {
      "text/html": [
       "<div>\n",
       "<style scoped>\n",
       "    .dataframe tbody tr th:only-of-type {\n",
       "        vertical-align: middle;\n",
       "    }\n",
       "\n",
       "    .dataframe tbody tr th {\n",
       "        vertical-align: top;\n",
       "    }\n",
       "\n",
       "    .dataframe thead th {\n",
       "        text-align: right;\n",
       "    }\n",
       "</style>\n",
       "<table border=\"1\" class=\"dataframe\">\n",
       "  <thead>\n",
       "    <tr style=\"text-align: right;\">\n",
       "      <th></th>\n",
       "      <th>50K?</th>\n",
       "      <th>age</th>\n",
       "      <th>workclass</th>\n",
       "      <th>fnlwgt</th>\n",
       "      <th>Education</th>\n",
       "      <th>Education#</th>\n",
       "      <th>Marital Status</th>\n",
       "      <th>Occupation</th>\n",
       "      <th>Relationship</th>\n",
       "      <th>Race</th>\n",
       "      <th>Sex</th>\n",
       "      <th>Hours per week</th>\n",
       "      <th>Native Country</th>\n",
       "    </tr>\n",
       "  </thead>\n",
       "  <tbody>\n",
       "    <tr>\n",
       "      <th>0</th>\n",
       "      <td>&lt;=50K</td>\n",
       "      <td>39</td>\n",
       "      <td>State-gov</td>\n",
       "      <td>77516</td>\n",
       "      <td>Bachelors</td>\n",
       "      <td>13</td>\n",
       "      <td>Never-married</td>\n",
       "      <td>Adm-clerical</td>\n",
       "      <td>Not-in-family</td>\n",
       "      <td>White</td>\n",
       "      <td>Male</td>\n",
       "      <td>40</td>\n",
       "      <td>United-States</td>\n",
       "    </tr>\n",
       "    <tr>\n",
       "      <th>1</th>\n",
       "      <td>&lt;=50K</td>\n",
       "      <td>50</td>\n",
       "      <td>Self-emp-not-inc</td>\n",
       "      <td>83311</td>\n",
       "      <td>Bachelors</td>\n",
       "      <td>13</td>\n",
       "      <td>Married-civ-spouse</td>\n",
       "      <td>Exec-managerial</td>\n",
       "      <td>Husband</td>\n",
       "      <td>White</td>\n",
       "      <td>Male</td>\n",
       "      <td>13</td>\n",
       "      <td>United-States</td>\n",
       "    </tr>\n",
       "    <tr>\n",
       "      <th>2</th>\n",
       "      <td>&lt;=50K</td>\n",
       "      <td>38</td>\n",
       "      <td>Private</td>\n",
       "      <td>215646</td>\n",
       "      <td>HS-grad</td>\n",
       "      <td>9</td>\n",
       "      <td>Divorced</td>\n",
       "      <td>Handlers-cleaners</td>\n",
       "      <td>Not-in-family</td>\n",
       "      <td>White</td>\n",
       "      <td>Male</td>\n",
       "      <td>40</td>\n",
       "      <td>United-States</td>\n",
       "    </tr>\n",
       "    <tr>\n",
       "      <th>3</th>\n",
       "      <td>&lt;=50K</td>\n",
       "      <td>53</td>\n",
       "      <td>Private</td>\n",
       "      <td>234721</td>\n",
       "      <td>11th</td>\n",
       "      <td>7</td>\n",
       "      <td>Married-civ-spouse</td>\n",
       "      <td>Handlers-cleaners</td>\n",
       "      <td>Husband</td>\n",
       "      <td>Black</td>\n",
       "      <td>Male</td>\n",
       "      <td>40</td>\n",
       "      <td>United-States</td>\n",
       "    </tr>\n",
       "    <tr>\n",
       "      <th>4</th>\n",
       "      <td>&lt;=50K</td>\n",
       "      <td>28</td>\n",
       "      <td>Private</td>\n",
       "      <td>338409</td>\n",
       "      <td>Bachelors</td>\n",
       "      <td>13</td>\n",
       "      <td>Married-civ-spouse</td>\n",
       "      <td>Prof-specialty</td>\n",
       "      <td>Wife</td>\n",
       "      <td>Black</td>\n",
       "      <td>Female</td>\n",
       "      <td>40</td>\n",
       "      <td>Cuba</td>\n",
       "    </tr>\n",
       "    <tr>\n",
       "      <th>5</th>\n",
       "      <td>&lt;=50K</td>\n",
       "      <td>37</td>\n",
       "      <td>Private</td>\n",
       "      <td>284582</td>\n",
       "      <td>Masters</td>\n",
       "      <td>14</td>\n",
       "      <td>Married-civ-spouse</td>\n",
       "      <td>Exec-managerial</td>\n",
       "      <td>Wife</td>\n",
       "      <td>White</td>\n",
       "      <td>Female</td>\n",
       "      <td>40</td>\n",
       "      <td>United-States</td>\n",
       "    </tr>\n",
       "    <tr>\n",
       "      <th>6</th>\n",
       "      <td>&lt;=50K</td>\n",
       "      <td>49</td>\n",
       "      <td>Private</td>\n",
       "      <td>160187</td>\n",
       "      <td>9th</td>\n",
       "      <td>5</td>\n",
       "      <td>Married-spouse-absent</td>\n",
       "      <td>Other-service</td>\n",
       "      <td>Not-in-family</td>\n",
       "      <td>Black</td>\n",
       "      <td>Female</td>\n",
       "      <td>16</td>\n",
       "      <td>Jamaica</td>\n",
       "    </tr>\n",
       "    <tr>\n",
       "      <th>7</th>\n",
       "      <td>&gt;50K</td>\n",
       "      <td>52</td>\n",
       "      <td>Self-emp-not-inc</td>\n",
       "      <td>209642</td>\n",
       "      <td>HS-grad</td>\n",
       "      <td>9</td>\n",
       "      <td>Married-civ-spouse</td>\n",
       "      <td>Exec-managerial</td>\n",
       "      <td>Husband</td>\n",
       "      <td>White</td>\n",
       "      <td>Male</td>\n",
       "      <td>45</td>\n",
       "      <td>United-States</td>\n",
       "    </tr>\n",
       "    <tr>\n",
       "      <th>8</th>\n",
       "      <td>&gt;50K</td>\n",
       "      <td>31</td>\n",
       "      <td>Private</td>\n",
       "      <td>45781</td>\n",
       "      <td>Masters</td>\n",
       "      <td>14</td>\n",
       "      <td>Never-married</td>\n",
       "      <td>Prof-specialty</td>\n",
       "      <td>Not-in-family</td>\n",
       "      <td>White</td>\n",
       "      <td>Female</td>\n",
       "      <td>50</td>\n",
       "      <td>United-States</td>\n",
       "    </tr>\n",
       "    <tr>\n",
       "      <th>9</th>\n",
       "      <td>&gt;50K</td>\n",
       "      <td>42</td>\n",
       "      <td>Private</td>\n",
       "      <td>159449</td>\n",
       "      <td>Bachelors</td>\n",
       "      <td>13</td>\n",
       "      <td>Married-civ-spouse</td>\n",
       "      <td>Exec-managerial</td>\n",
       "      <td>Husband</td>\n",
       "      <td>White</td>\n",
       "      <td>Male</td>\n",
       "      <td>40</td>\n",
       "      <td>United-States</td>\n",
       "    </tr>\n",
       "  </tbody>\n",
       "</table>\n",
       "</div>"
      ],
      "text/plain": [
       "     50K?  age          workclass  fnlwgt   Education  Education#  \\\n",
       "0   <=50K   39          State-gov   77516   Bachelors          13   \n",
       "1   <=50K   50   Self-emp-not-inc   83311   Bachelors          13   \n",
       "2   <=50K   38            Private  215646     HS-grad           9   \n",
       "3   <=50K   53            Private  234721        11th           7   \n",
       "4   <=50K   28            Private  338409   Bachelors          13   \n",
       "5   <=50K   37            Private  284582     Masters          14   \n",
       "6   <=50K   49            Private  160187         9th           5   \n",
       "7    >50K   52   Self-emp-not-inc  209642     HS-grad           9   \n",
       "8    >50K   31            Private   45781     Masters          14   \n",
       "9    >50K   42            Private  159449   Bachelors          13   \n",
       "\n",
       "           Marital Status          Occupation    Relationship    Race  \\\n",
       "0           Never-married        Adm-clerical   Not-in-family   White   \n",
       "1      Married-civ-spouse     Exec-managerial         Husband   White   \n",
       "2                Divorced   Handlers-cleaners   Not-in-family   White   \n",
       "3      Married-civ-spouse   Handlers-cleaners         Husband   Black   \n",
       "4      Married-civ-spouse      Prof-specialty            Wife   Black   \n",
       "5      Married-civ-spouse     Exec-managerial            Wife   White   \n",
       "6   Married-spouse-absent       Other-service   Not-in-family   Black   \n",
       "7      Married-civ-spouse     Exec-managerial         Husband   White   \n",
       "8           Never-married      Prof-specialty   Not-in-family   White   \n",
       "9      Married-civ-spouse     Exec-managerial         Husband   White   \n",
       "\n",
       "       Sex  Hours per week  Native Country  \n",
       "0     Male              40   United-States  \n",
       "1     Male              13   United-States  \n",
       "2     Male              40   United-States  \n",
       "3     Male              40   United-States  \n",
       "4   Female              40            Cuba  \n",
       "5   Female              40   United-States  \n",
       "6   Female              16         Jamaica  \n",
       "7     Male              45   United-States  \n",
       "8   Female              50   United-States  \n",
       "9     Male              40   United-States  "
      ]
     },
     "execution_count": 10,
     "metadata": {},
     "output_type": "execute_result"
    }
   ],
   "source": [
    "#Designate Target Variable 50K?\n",
    "targetName = '50K?'\n",
    "targetSeries = adult_c_red[targetName]\n",
    "#remove target from current location and insert in column 0\n",
    "del adult_c_red[targetName]\n",
    "adult_c_red.insert(0, targetName, targetSeries)\n",
    "#reprint dataframe and see target is in position 0\n",
    "adult_c_red.head(10)"
   ]
  },
  {
   "cell_type": "code",
   "execution_count": 11,
   "metadata": {},
   "outputs": [
    {
     "data": {
      "text/plain": [
       "(45222, 13)"
      ]
     },
     "execution_count": 11,
     "metadata": {},
     "output_type": "execute_result"
    }
   ],
   "source": [
    "# Replace ? with NA and Remove NA Rows\n",
    "adult_na = adult_c_red.replace({' ?': np.nan})\n",
    "adult_red2 = adult_na.dropna()\n",
    "adult_red2.head(30)\n",
    "##Confirmed Missing Value Rows are Gone\n",
    "adult_red2.shape"
   ]
  },
  {
   "cell_type": "markdown",
   "metadata": {},
   "source": [
    "### 45,222 observations left after munging.  \n"
   ]
  },
  {
   "cell_type": "code",
   "execution_count": 12,
   "metadata": {},
   "outputs": [
    {
     "name": "stdout",
     "output_type": "stream",
     "text": [
      "                     age    fnlwgt  Education#  Hours per week\n",
      "age             1.000000 -0.075792    0.037623        0.101992\n",
      "fnlwgt         -0.075792  1.000000   -0.041993       -0.018679\n",
      "Education#      0.037623 -0.041993    1.000000        0.146206\n",
      "Hours per week  0.101992 -0.018679    0.146206        1.000000\n"
     ]
    },
    {
     "data": {
      "text/plain": [
       "<matplotlib.image.AxesImage at 0x1a14eb0978>"
      ]
     },
     "execution_count": 12,
     "metadata": {},
     "output_type": "execute_result"
    },
    {
     "data": {
      "image/png": "[encoded data removed]",
      "text/plain": [
       "<Figure size 288x288 with 1 Axes>"
      ]
     },
     "metadata": {},
     "output_type": "display_data"
    }
   ],
   "source": [
    "#Correlation Analysis on Numerical Values\n",
    "# Numerical\n",
    "print(adult_red2.corr())\n",
    "# Visual\n",
    "plt.matshow(adult_red2.corr())\n",
    "# None of the variables show particularly high correlation.  "
   ]
  },
  {
   "cell_type": "markdown",
   "metadata": {},
   "source": [
    "### Since Education (Num) and Education (Cat) are essentially duplicates, I just decided to drop Categorical version.  "
   ]
  },
  {
   "cell_type": "code",
   "execution_count": 13,
   "metadata": {},
   "outputs": [
    {
     "name": "stdout",
     "output_type": "stream",
     "text": [
      " HS-grad         14783\n",
      " Some-college     9899\n",
      " Bachelors        7570\n",
      " Masters          2514\n",
      " Assoc-voc        1959\n",
      " 11th             1619\n",
      " Assoc-acdm       1507\n",
      " 10th             1223\n",
      " 7th-8th           823\n",
      " Prof-school       785\n",
      " 9th               676\n",
      " 12th              577\n",
      " Doctorate         544\n",
      " 5th-6th           449\n",
      " 1st-4th           222\n",
      " Preschool          72\n",
      "Name: Education, dtype: int64\n",
      "9     14783\n",
      "10     9899\n",
      "13     7570\n",
      "14     2514\n",
      "11     1959\n",
      "7      1619\n",
      "12     1507\n",
      "6      1223\n",
      "4       823\n",
      "15      785\n",
      "5       676\n",
      "8       577\n",
      "16      544\n",
      "3       449\n",
      "2       222\n",
      "1        72\n",
      "Name: Education#, dtype: int64\n"
     ]
    }
   ],
   "source": [
    "# Validating Contents of Numerical and Categorical Counts in Education Variable are Identical.  \n",
    "print(adult_red2['Education'].value_counts())\n",
    "print(adult_red2['Education#'].value_counts())"
   ]
  },
  {
   "cell_type": "code",
   "execution_count": 93,
   "metadata": {},
   "outputs": [
    {
     "name": "stdout",
     "output_type": "stream",
     "text": [
      "    <=50K   <=50K.   >50K   >50K.\n",
      "0       1        0      0       0\n",
      "1       1        0      0       0\n",
      "2       1        0      0       0\n",
      "3       1        0      0       0\n",
      "4       1        0      0       0\n",
      "5       1        0      0       0\n",
      "6       1        0      0       0\n",
      "7       0        0      1       0\n",
      "8       0        0      1       0\n",
      "9       0        0      1       0\n"
     ]
    }
   ],
   "source": [
    "#Making Dummies\n",
    "Workclass_d = pd.DataFrame(pd.get_dummies(adult_red2['workclass'])) \n",
    "Marital_d = pd.DataFrame(pd.get_dummies(adult_red2['Marital Status']))\n",
    "Occupation_d = pd.DataFrame(pd.get_dummies(adult_red2['Occupation']))\n",
    "Relationship_d = pd.DataFrame(pd.get_dummies(adult_red2['Relationship']))\n",
    "Race_d = pd.DataFrame(pd.get_dummies(adult_red2['Race']))\n",
    "Sex_d = pd.DataFrame(pd.get_dummies(adult_red2['Sex']))\n",
    "NativeCountry_d = pd.DataFrame(pd.get_dummies(adult_red2['Native Country']))\n",
    "fiftyK_d = pd.DataFrame(pd.get_dummies(adult_red2['50K?'])) \n",
    "print(fiftyK_d.head(10))\n"
   ]
  },
  {
   "cell_type": "code",
   "execution_count": 15,
   "metadata": {},
   "outputs": [
    {
     "name": "stdout",
     "output_type": "stream",
     "text": [
      "22654\n",
      "11360\n",
      "7508\n",
      "3700\n"
     ]
    }
   ],
   "source": [
    "f1 = fiftyK_d[' <=50K'].sum()\n",
    "f2 = fiftyK_d[' <=50K.'].sum()\n",
    "f3 = fiftyK_d[' >50K'].sum()\n",
    "f4 = fiftyK_d[' >50K.'].sum()\n",
    "print (f1)\n",
    "print (f2)\n",
    "print (f3)\n",
    "print (f4)"
   ]
  },
  {
   "cell_type": "code",
   "execution_count": 16,
   "metadata": {},
   "outputs": [
    {
     "name": "stdout",
     "output_type": "stream",
     "text": [
      "34014\n",
      "11208\n"
     ]
    }
   ],
   "source": [
    "# Combining Columns\n",
    "fiftyK_d['<=50K'] = fiftyK_d[' <=50K'] + fiftyK_d[' <=50K.']\n",
    "f5 = fiftyK_d['<=50K'].sum()\n",
    "print (f5)\n",
    "fiftyK_d['>50K'] = fiftyK_d[' >50K'] + fiftyK_d[' >50K.']\n",
    "f6 = fiftyK_d['>50K'].sum()\n",
    "print (f6)\n"
   ]
  },
  {
   "cell_type": "markdown",
   "metadata": {},
   "source": [
    "### 75% of target class if biased towards <=50K.  Dataset is unbalanced.  "
   ]
  },
  {
   "cell_type": "code",
   "execution_count": 17,
   "metadata": {},
   "outputs": [],
   "source": [
    "#Create DataFrames of the New Columns\n",
    "LessEq_50 = pd.DataFrame(fiftyK_d['<=50K'])\n",
    "Great_50 = pd.DataFrame(fiftyK_d['>50K'])"
   ]
  },
  {
   "cell_type": "code",
   "execution_count": 18,
   "metadata": {},
   "outputs": [
    {
     "name": "stdout",
     "output_type": "stream",
     "text": [
      "   >50K  age  fnlwgt  Education#  Hours per week   Federal-gov   Local-gov  \\\n",
      "0     0   39   77516          13              40             0           0   \n",
      "1     0   50   83311          13              13             0           0   \n",
      "2     0   38  215646           9              40             0           0   \n",
      "3     0   53  234721           7              40             0           0   \n",
      "4     0   28  338409          13              40             0           0   \n",
      "5     0   37  284582          14              40             0           0   \n",
      "6     0   49  160187           5              16             0           0   \n",
      "7     1   52  209642           9              45             0           0   \n",
      "8     1   31   45781          14              50             0           0   \n",
      "9     1   42  159449          13              40             0           0   \n",
      "\n",
      "    Private   Self-emp-inc   Self-emp-not-inc     ...        Portugal  \\\n",
      "0         0              0                  0     ...               0   \n",
      "1         0              0                  1     ...               0   \n",
      "2         1              0                  0     ...               0   \n",
      "3         1              0                  0     ...               0   \n",
      "4         1              0                  0     ...               0   \n",
      "5         1              0                  0     ...               0   \n",
      "6         1              0                  0     ...               0   \n",
      "7         0              0                  1     ...               0   \n",
      "8         1              0                  0     ...               0   \n",
      "9         1              0                  0     ...               0   \n",
      "\n",
      "    Puerto-Rico   Scotland   South   Taiwan   Thailand   Trinadad&Tobago  \\\n",
      "0             0          0       0        0          0                 0   \n",
      "1             0          0       0        0          0                 0   \n",
      "2             0          0       0        0          0                 0   \n",
      "3             0          0       0        0          0                 0   \n",
      "4             0          0       0        0          0                 0   \n",
      "5             0          0       0        0          0                 0   \n",
      "6             0          0       0        0          0                 0   \n",
      "7             0          0       0        0          0                 0   \n",
      "8             0          0       0        0          0                 0   \n",
      "9             0          0       0        0          0                 0   \n",
      "\n",
      "    United-States   Vietnam   Yugoslavia  \n",
      "0               1         0            0  \n",
      "1               1         0            0  \n",
      "2               1         0            0  \n",
      "3               1         0            0  \n",
      "4               0         0            0  \n",
      "5               1         0            0  \n",
      "6               0         0            0  \n",
      "7               1         0            0  \n",
      "8               1         0            0  \n",
      "9               1         0            0  \n",
      "\n",
      "[10 rows x 87 columns]\n",
      "(45222, 87)\n"
     ]
    }
   ],
   "source": [
    "#Combining Dummies into Dataframe\n",
    "result = pd.concat([Great_50, adult_red2, Workclass_d, Marital_d, Occupation_d, Relationship_d, Race_d, Sex_d, NativeCountry_d], axis=1)\n",
    "#Remove Categorical Columns\n",
    "result_red = result.drop(columns=['50K?','workclass','Marital Status','Occupation','Relationship','Race','Sex','Native Country','Education'])\n",
    "print(result_red.head(10))\n",
    "print(result_red.shape)\n"
   ]
  },
  {
   "cell_type": "code",
   "execution_count": 19,
   "metadata": {},
   "outputs": [
    {
     "data": {
      "text/plain": [
       ">50K                           uint8\n",
       "age                            int64\n",
       "fnlwgt                         int64\n",
       "Education#                     int64\n",
       "Hours per week                 int64\n",
       " Federal-gov                   uint8\n",
       " Local-gov                     uint8\n",
       " Private                       uint8\n",
       " Self-emp-inc                  uint8\n",
       " Self-emp-not-inc              uint8\n",
       " State-gov                     uint8\n",
       " Without-pay                   uint8\n",
       " Divorced                      uint8\n",
       " Married-AF-spouse             uint8\n",
       " Married-civ-spouse            uint8\n",
       " Married-spouse-absent         uint8\n",
       " Never-married                 uint8\n",
       " Separated                     uint8\n",
       " Widowed                       uint8\n",
       " Adm-clerical                  uint8\n",
       " Armed-Forces                  uint8\n",
       " Craft-repair                  uint8\n",
       " Exec-managerial               uint8\n",
       " Farming-fishing               uint8\n",
       " Handlers-cleaners             uint8\n",
       " Machine-op-inspct             uint8\n",
       " Other-service                 uint8\n",
       " Priv-house-serv               uint8\n",
       " Prof-specialty                uint8\n",
       " Protective-serv               uint8\n",
       " Sales                         uint8\n",
       " Tech-support                  uint8\n",
       " Transport-moving              uint8\n",
       " Husband                       uint8\n",
       " Not-in-family                 uint8\n",
       " Other-relative                uint8\n",
       " Own-child                     uint8\n",
       " Unmarried                     uint8\n",
       " Wife                          uint8\n",
       " Amer-Indian-Eskimo            uint8\n",
       " Asian-Pac-Islander            uint8\n",
       " Black                         uint8\n",
       " Other                         uint8\n",
       " White                         uint8\n",
       " Female                        uint8\n",
       " Male                          uint8\n",
       " Cambodia                      uint8\n",
       " Canada                        uint8\n",
       " China                         uint8\n",
       " Columbia                      uint8\n",
       " Cuba                          uint8\n",
       " Dominican-Republic            uint8\n",
       " Ecuador                       uint8\n",
       " El-Salvador                   uint8\n",
       " England                       uint8\n",
       " France                        uint8\n",
       " Germany                       uint8\n",
       " Greece                        uint8\n",
       " Guatemala                     uint8\n",
       " Haiti                         uint8\n",
       " Holand-Netherlands            uint8\n",
       " Honduras                      uint8\n",
       " Hong                          uint8\n",
       " Hungary                       uint8\n",
       " India                         uint8\n",
       " Iran                          uint8\n",
       " Ireland                       uint8\n",
       " Italy                         uint8\n",
       " Jamaica                       uint8\n",
       " Japan                         uint8\n",
       " Laos                          uint8\n",
       " Mexico                        uint8\n",
       " Nicaragua                     uint8\n",
       " Outlying-US(Guam-USVI-etc)    uint8\n",
       " Peru                          uint8\n",
       " Philippines                   uint8\n",
       " Poland                        uint8\n",
       " Portugal                      uint8\n",
       " Puerto-Rico                   uint8\n",
       " Scotland                      uint8\n",
       " South                         uint8\n",
       " Taiwan                        uint8\n",
       " Thailand                      uint8\n",
       " Trinadad&Tobago               uint8\n",
       " United-States                 uint8\n",
       " Vietnam                       uint8\n",
       " Yugoslavia                    uint8\n",
       "dtype: object"
      ]
     },
     "execution_count": 19,
     "metadata": {},
     "output_type": "execute_result"
    }
   ],
   "source": [
    "#Viewing all variables to validate none are duplicates/misnomers. \n",
    "pd.set_option('display.max_rows', 500) #Display all variables\n",
    "result_red.dtypes"
   ]
  },
  {
   "cell_type": "markdown",
   "metadata": {},
   "source": [
    "## Categorical EDA"
   ]
  },
  {
   "cell_type": "code",
   "execution_count": 20,
   "metadata": {},
   "outputs": [
    {
     "data": {
      "image/png": "[encoded data removed]",
      "text/plain": [
       "<Figure size 432x288 with 1 Axes>"
      ]
     },
     "metadata": {},
     "output_type": "display_data"
    }
   ],
   "source": [
    "#weight histogram\n",
    "n, bins, patches = plt.hist(result_red.fnlwgt, 40, facecolor='blue', alpha=0.75)\n",
    "plt.ylim(0, 10000)\n",
    "plt.xlim(0, 500000)\n",
    "plt.title('histogram of Final Weight')\n",
    "plt.xlabel(\"Weight\")\n",
    "plt.ylabel(\"Frequency\")\n",
    "plt.show()"
   ]
  },
  {
   "cell_type": "code",
   "execution_count": 21,
   "metadata": {},
   "outputs": [
    {
     "data": {
      "image/png": "[encoded data removed]",
      "text/plain": [
       "<Figure size 432x288 with 1 Axes>"
      ]
     },
     "metadata": {},
     "output_type": "display_data"
    }
   ],
   "source": [
    "#education histogram\n",
    "Ed = result_red['Education#']\n",
    "n, bins, patches = plt.hist(Ed, 20, facecolor='red', alpha=0.7)\n",
    "plt.ylim(0, 15000)\n",
    "plt.title('histogram of Education')\n",
    "plt.xlabel(\"Education Level\")\n",
    "plt.ylabel(\"Frequency\")\n",
    "plt.show()\n",
    "# Education Shows peaks at HS-Grad, Some College, and Bachelors.  "
   ]
  },
  {
   "cell_type": "code",
   "execution_count": 22,
   "metadata": {},
   "outputs": [
    {
     "data": {
      "image/png": "[encoded data removed]",
      "text/plain": [
       "<Figure size 432x288 with 1 Axes>"
      ]
     },
     "metadata": {},
     "output_type": "display_data"
    }
   ],
   "source": [
    "#Hours per week histogram\n",
    "Hrs = result_red['Hours per week']\n",
    "n, bins, patches = plt.hist(Hrs, 20, facecolor='green', alpha=0.7)\n",
    "plt.ylim(0, 30000)\n",
    "plt.title('histogram of Hours/Week')\n",
    "plt.xlabel(\"Hours/Week\")\n",
    "plt.ylabel(\"Frequency\")\n",
    "plt.show()\n",
    "# Clearly almost everyone entered 40 hrs/week"
   ]
  },
  {
   "cell_type": "code",
   "execution_count": 23,
   "metadata": {},
   "outputs": [
    {
     "data": {
      "image/png": "[encoded data removed]",
      "text/plain": [
       "<Figure size 432x288 with 1 Axes>"
      ]
     },
     "metadata": {},
     "output_type": "display_data"
    }
   ],
   "source": [
    "#age histogram\n",
    "n, bins, patches = plt.hist(result_red.age, 20, facecolor='green', alpha=0.7)\n",
    "plt.ylim(0, 6000)\n",
    "plt.title('histogram of Age')\n",
    "plt.xlabel(\"Age\")\n",
    "plt.ylabel(\"Frequency\")\n",
    "plt.show()"
   ]
  },
  {
   "cell_type": "code",
   "execution_count": 24,
   "metadata": {},
   "outputs": [
    {
     "name": "stdout",
     "output_type": "stream",
     "text": [
      "                         0\n",
      "Race                      \n",
      " Other                 353\n",
      " Amer-Indian-Eskimo    435\n",
      " Asian-Pac-Islander   1303\n",
      " Black                4228\n",
      " White               38903\n",
      "                         0\n",
      "Race                      \n",
      " Other                 353\n",
      " Amer-Indian-Eskimo    435\n",
      " Asian-Pac-Islander   1303\n",
      " Black                4228\n",
      " White               38903\n"
     ]
    },
    {
     "data": {
      "text/plain": [
       "Text(0,0.5,'Frequency')"
      ]
     },
     "execution_count": 24,
     "metadata": {},
     "output_type": "execute_result"
    },
    {
     "data": {
      "image/png": "[encoded data removed]",
      "text/plain": [
       "<Figure size 432x288 with 1 Axes>"
      ]
     },
     "metadata": {},
     "output_type": "display_data"
    }
   ],
   "source": [
    "# Race \n",
    "ra=pd.DataFrame(adult_red2.groupby('Race').size())\n",
    "ra=ra.sort_values(by=[0])\n",
    "print(ra.head(10))\n",
    "print(ra.tail(10))\n",
    "ra.plot(kind='bar')\n",
    "#plt.ylim(0, 1000)\n",
    "plt.ylabel('Frequency')"
   ]
  },
  {
   "cell_type": "code",
   "execution_count": 25,
   "metadata": {},
   "outputs": [
    {
     "name": "stdout",
     "output_type": "stream",
     "text": [
      "             0\n",
      "Sex           \n",
      " Female  14695\n",
      " Male    30527\n"
     ]
    },
    {
     "data": {
      "text/plain": [
       "Text(0,0.5,'Frequency')"
      ]
     },
     "execution_count": 25,
     "metadata": {},
     "output_type": "execute_result"
    },
    {
     "data": {
      "image/png": "[encoded data removed]",
      "text/plain": [
       "<Figure size 432x288 with 1 Axes>"
      ]
     },
     "metadata": {},
     "output_type": "display_data"
    }
   ],
   "source": [
    "# Sex \n",
    "sx=pd.DataFrame(adult_red2.groupby('Sex').size())\n",
    "sx=sx.sort_values(by=[0])\n",
    "print(sx.head(10))\n",
    "sx.plot(kind='bar')\n",
    "#plt.ylim(0, 1000)\n",
    "plt.ylabel('Frequency')"
   ]
  },
  {
   "cell_type": "code",
   "execution_count": 26,
   "metadata": {},
   "outputs": [
    {
     "name": "stdout",
     "output_type": "stream",
     "text": [
      "                     0\n",
      "Relationship          \n",
      " Other-relative   1349\n",
      " Wife             2091\n",
      " Unmarried        4788\n",
      " Own-child        6626\n",
      " Not-in-family   11702\n",
      " Husband         18666\n"
     ]
    },
    {
     "data": {
      "text/plain": [
       "Text(0,0.5,'Frequency')"
      ]
     },
     "execution_count": 26,
     "metadata": {},
     "output_type": "execute_result"
    },
    {
     "data": {
      "image/png": "[encoded data removed]",
      "text/plain": [
       "<Figure size 432x288 with 1 Axes>"
      ]
     },
     "metadata": {},
     "output_type": "display_data"
    }
   ],
   "source": [
    "# Relationship \n",
    "re=pd.DataFrame(adult_red2.groupby('Relationship').size())\n",
    "re=re.sort_values(by=[0])\n",
    "print(re.head(10))\n",
    "re.plot(kind='bar')\n",
    "#plt.ylim(0, 1000)\n",
    "plt.ylabel('Frequency')"
   ]
  },
  {
   "cell_type": "code",
   "execution_count": 27,
   "metadata": {},
   "outputs": [
    {
     "name": "stdout",
     "output_type": "stream",
     "text": [
      "                       0\n",
      "Occupation              \n",
      " Armed-Forces         14\n",
      " Priv-house-serv     232\n",
      " Protective-serv     976\n",
      " Tech-support       1420\n",
      " Farming-fishing    1480\n",
      " Handlers-cleaners  2046\n",
      " Transport-moving   2316\n",
      " Machine-op-inspct  2970\n",
      " Other-service      4808\n",
      " Sales              5408\n",
      "                       0\n",
      "Occupation              \n",
      " Farming-fishing    1480\n",
      " Handlers-cleaners  2046\n",
      " Transport-moving   2316\n",
      " Machine-op-inspct  2970\n",
      " Other-service      4808\n",
      " Sales              5408\n",
      " Adm-clerical       5540\n",
      " Exec-managerial    5984\n",
      " Prof-specialty     6008\n",
      " Craft-repair       6020\n"
     ]
    },
    {
     "data": {
      "text/plain": [
       "Text(0,0.5,'Frequency')"
      ]
     },
     "execution_count": 27,
     "metadata": {},
     "output_type": "execute_result"
    },
    {
     "data": {
      "image/png": "[encoded data removed]",
      "text/plain": [
       "<Figure size 432x288 with 1 Axes>"
      ]
     },
     "metadata": {},
     "output_type": "display_data"
    }
   ],
   "source": [
    "# Occupation\n",
    "oc=pd.DataFrame(adult_red2.groupby('Occupation').size())\n",
    "oc=oc.sort_values(by=[0])\n",
    "print(oc.head(10))\n",
    "print(oc.tail(10))\n",
    "oc.plot(kind='bar')\n",
    "#plt.ylim(0, 1000)\n",
    "plt.ylabel('Frequency')"
   ]
  },
  {
   "cell_type": "code",
   "execution_count": 28,
   "metadata": {},
   "outputs": [
    {
     "name": "stdout",
     "output_type": "stream",
     "text": [
      "                            0\n",
      "Marital Status               \n",
      " Married-AF-spouse         32\n",
      " Married-spouse-absent    552\n",
      " Widowed                 1277\n",
      " Separated               1411\n",
      " Divorced                6297\n",
      " Never-married          14598\n",
      " Married-civ-spouse     21055\n"
     ]
    },
    {
     "data": {
      "text/plain": [
       "Text(0,0.5,'Frequency')"
      ]
     },
     "execution_count": 28,
     "metadata": {},
     "output_type": "execute_result"
    },
    {
     "data": {
      "image/png": "[encoded data removed]",
      "text/plain": [
       "<Figure size 432x288 with 1 Axes>"
      ]
     },
     "metadata": {},
     "output_type": "display_data"
    }
   ],
   "source": [
    "# Marital Status \n",
    "ms=pd.DataFrame(adult_red2.groupby('Marital Status').size())\n",
    "ms=ms.sort_values(by=[0])\n",
    "print(ms.head(10))\n",
    "ms.plot(kind='bar')\n",
    "plt.ylabel('Frequency')"
   ]
  },
  {
   "cell_type": "code",
   "execution_count": 29,
   "metadata": {},
   "outputs": [
    {
     "name": "stdout",
     "output_type": "stream",
     "text": [
      "                       0\n",
      "workclass               \n",
      " Without-pay          21\n",
      " Federal-gov        1406\n",
      " Self-emp-inc       1646\n",
      " State-gov          1946\n",
      " Local-gov          3100\n",
      " Self-emp-not-inc   3796\n",
      " Private           33307\n",
      "                       0\n",
      "workclass               \n",
      " Without-pay          21\n",
      " Federal-gov        1406\n",
      " Self-emp-inc       1646\n",
      " State-gov          1946\n",
      " Local-gov          3100\n",
      " Self-emp-not-inc   3796\n",
      " Private           33307\n"
     ]
    },
    {
     "data": {
      "text/plain": [
       "Text(0,0.5,'Frequency')"
      ]
     },
     "execution_count": 29,
     "metadata": {},
     "output_type": "execute_result"
    },
    {
     "data": {
      "image/png": "[encoded data removed]",
      "text/plain": [
       "<Figure size 432x288 with 1 Axes>"
      ]
     },
     "metadata": {},
     "output_type": "display_data"
    }
   ],
   "source": [
    "#'workclass','Marital Status','Occupation','Relationship','Race','Sex\n",
    "# Workclass \n",
    "wc=pd.DataFrame(adult_red2.groupby('workclass').size())\n",
    "wc=wc.sort_values(by=[0])\n",
    "print(wc.head(10))\n",
    "print(wc.tail(10))\n",
    "wc.plot(kind='bar')\n",
    "#plt.ylim(0, 1000)\n",
    "plt.ylabel('Frequency')"
   ]
  },
  {
   "cell_type": "code",
   "execution_count": 30,
   "metadata": {},
   "outputs": [
    {
     "name": "stdout",
     "output_type": "stream",
     "text": [
      "                              0\n",
      "Native Country                 \n",
      " Holand-Netherlands           1\n",
      " Hungary                     18\n",
      " Honduras                    19\n",
      " Scotland                    20\n",
      " Laos                        21\n",
      " Outlying-US(Guam-USVI-etc)  22\n",
      " Yugoslavia                  23\n",
      " Trinadad&Tobago             26\n",
      " Cambodia                    26\n",
      " Hong                        28\n",
      "                    0\n",
      "Native Country       \n",
      " England          119\n",
      " Cuba             133\n",
      " India            147\n",
      " El-Salvador      147\n",
      " Canada           163\n",
      " Puerto-Rico      175\n",
      " Germany          193\n",
      " Philippines      283\n",
      " Mexico           903\n",
      " United-States  41292\n"
     ]
    },
    {
     "data": {
      "text/plain": [
       "Text(0,0.5,'Frequency')"
      ]
     },
     "execution_count": 30,
     "metadata": {},
     "output_type": "execute_result"
    },
    {
     "data": {
      "image/png": "[encoded data removed]",
      "text/plain": [
       "<Figure size 432x288 with 1 Axes>"
      ]
     },
     "metadata": {},
     "output_type": "display_data"
    }
   ],
   "source": [
    "# Country \n",
    "ctry_income=pd.DataFrame(adult_red2.groupby('Native Country').size())\n",
    "ctry_income=ctry_income.sort_values(by=[0])\n",
    "print(ctry_income.head(10))\n",
    "print(ctry_income.tail(10))\n",
    "ctry_income.plot(kind='bar')\n",
    "plt.ylim(0, 1000)\n",
    "plt.ylabel('Frequency')\n",
    "# Over 90% of Rows come from United States\n",
    "# Limited Y to show countries other than US"
   ]
  },
  {
   "cell_type": "markdown",
   "metadata": {},
   "source": [
    "## Test/Train"
   ]
  },
  {
   "cell_type": "code",
   "execution_count": 133,
   "metadata": {},
   "outputs": [
    {
     "name": "stdout",
     "output_type": "stream",
     "text": [
      "(13567, 86)\n",
      "(31655, 86)\n",
      "(13567,)\n",
      "(31655,)\n"
     ]
    }
   ],
   "source": [
    "#Train/Test Split (70/30 since dataset is large)\n",
    "features_train, features_test, target_train, target_test = train_test_split(\n",
    "    result_red.iloc[:,1:].values, result_red.iloc[:,0].values, test_size=0.30, random_state=0)\n",
    "print(features_test.shape)\n",
    "print(features_train.shape)\n",
    "print(target_test.shape)\n",
    "print(target_train.shape)"
   ]
  },
  {
   "cell_type": "code",
   "execution_count": 75,
   "metadata": {},
   "outputs": [
    {
     "name": "stdout",
     "output_type": "stream",
     "text": [
      "[9.99999972e-01 1.55114324e-08 1.17527539e-08 5.42486826e-10\n",
      " 6.31856722e-11 2.63695434e-11 1.99024064e-11 1.71014749e-11\n",
      " 1.51398349e-11 1.25948156e-11 1.12558943e-11 1.05173265e-11\n",
      " 9.98249800e-12 9.90829993e-12 7.90816323e-12 7.67666354e-12\n",
      " 7.29912064e-12 6.37968933e-12 5.40071511e-12 4.92063383e-12]\n",
      "[7.61296858e+06 9.48156433e+02 8.25322839e+02 1.77316292e+02\n",
      " 6.05150433e+01 3.90935714e+01 3.39630620e+01 3.14826170e+01\n",
      " 2.96220161e+01 2.70177980e+01 2.55413616e+01 2.46891831e+01\n",
      " 2.40532441e+01 2.39636857e+01 2.14087769e+01 2.10930944e+01\n",
      " 2.05678698e+01 1.92288720e+01 1.76921119e+01 1.68874691e+01]\n"
     ]
    }
   ],
   "source": [
    "import numpy as np\n",
    "from sklearn.decomposition import PCA\n",
    "X = ft_red\n",
    "pca = PCA(n_components=20)\n",
    "pca1 = pca.fit(X)\n",
    "pca2 = PCA(copy=True, iterated_power='auto', n_components=20, random_state=None,\n",
    "  svd_solver='auto', tol=0.0, whiten=False)\n",
    "print(pca.explained_variance_ratio_)  \n",
    "print(pca.singular_values_)  \n"
   ]
  },
  {
   "cell_type": "code",
   "execution_count": 77,
   "metadata": {},
   "outputs": [],
   "source": [
    "fit1 = pca.fit_transform(X, y=None)"
   ]
  },
  {
   "cell_type": "code",
   "execution_count": 83,
   "metadata": {},
   "outputs": [],
   "source": [
    "fit_ft_red = pd.DataFrame(fit1)"
   ]
  },
  {
   "cell_type": "markdown",
   "metadata": {},
   "source": [
    "# Models"
   ]
  },
  {
   "cell_type": "markdown",
   "metadata": {},
   "source": [
    "## KNN"
   ]
  },
  {
   "cell_type": "code",
   "execution_count": 153,
   "metadata": {},
   "outputs": [],
   "source": [
    "## KNN\n",
    "from sklearn.neighbors import KNeighborsClassifier\n",
    "neigh = KNeighborsClassifier(n_neighbors=10)\n",
    "neigh_knn = neigh.fit(features_train, target_train) \n",
    "target_predicted_knn = neigh_knn.predict(features_test)"
   ]
  },
  {
   "cell_type": "markdown",
   "metadata": {},
   "source": [
    "### Grid Search KNN = 1-15"
   ]
  },
  {
   "cell_type": "code",
   "execution_count": 150,
   "metadata": {},
   "outputs": [
    {
     "name": "stdout",
     "output_type": "stream",
     "text": [
      "Grid Scores {'mean_fit_time': array([0.39158006, 0.29427896, 0.35398669]), 'std_fit_time': array([0.04444108, 0.01193023, 0.10042431]), 'mean_score_time': array([0.3574573 , 0.29859176, 0.23447514]), 'std_score_time': array([0.03864091, 0.01018427, 0.01991871]), 'param_n_neighbors': masked_array(data=[10, 15, 1],\n",
      "             mask=[False, False, False],\n",
      "       fill_value='?',\n",
      "            dtype=object), 'params': [{'n_neighbors': 10}, {'n_neighbors': 15}, {'n_neighbors': 1}], 'split0_test_score': array([0.7432091 , 0.74115603, 0.68351232]), 'split1_test_score': array([0.73653451, 0.73748223, 0.6765124 ]), 'split2_test_score': array([0.74016743, 0.73606065, 0.67682831]), 'split3_test_score': array([0.74222082, 0.73779814, 0.67619649]), 'split4_test_score': array([0.73680885, 0.73665087, 0.65908373]), 'mean_test_score': array([0.73978834, 0.73782973, 0.67442742]), 'std_test_score': array([0.00272864, 0.00177239, 0.00813856]), 'rank_test_score': array([1, 2, 3], dtype=int32), 'split0_train_score': array([0.76428543, 0.75674288, 0.99984204]), 'split1_train_score': array([0.76512399, 0.75813458, 0.99984205]), 'split2_train_score': array([0.76366293, 0.75655505, 0.99988154]), 'split3_train_score': array([0.7644132 , 0.75631812, 0.99992102]), 'split4_train_score': array([0.76232971, 0.75593287, 0.99988154]), 'mean_train_score': array([0.76396305, 0.7567367 , 0.99987364]), 'std_train_score': array([9.39384778e-04, 7.49458892e-04, 2.95518712e-05])}\n",
      "Best {'n_neighbors': 10}\n"
     ]
    }
   ],
   "source": [
    "# use a full grid over several parameters and cross validate 5 times\n",
    "from sklearn.model_selection import GridSearchCV\n",
    "#param_grid = {\"alpha\": [.01,.1, .5, 1, 2]}\n",
    "param_grid={\"n_neighbors\": [10,15,1]} #this does a range 1 through 10 changes by a factor of 1. \n",
    "#param_grid={\"n_neighbors\": [10,15,1]} #this does a range 1 through 1 changes by a factor of .05\n",
    "\n",
    "# run grid search\n",
    "grid_search = GridSearchCV(neigh, param_grid=param_grid,n_jobs=-1,cv=5)\n",
    "grid_search.fit(features_train, target_train)\n",
    "print(\"Grid Scores\", grid_search.cv_results_)\n",
    "print(\"Best\", grid_search.best_params_)   "
   ]
  },
  {
   "cell_type": "code",
   "execution_count": 154,
   "metadata": {},
   "outputs": [
    {
     "name": "stdout",
     "output_type": "stream",
     "text": [
      "KNN Accuracy Score 0.7444534532321073\n",
      "Classification Report\n",
      "             precision    recall  f1-score   support\n",
      "\n",
      "          0       0.76      0.96      0.85     10258\n",
      "          1       0.39      0.08      0.13      3309\n",
      "\n",
      "avg / total       0.67      0.74      0.68     13567\n",
      "\n",
      "Confusion Matrix\n",
      "[[9835  423]\n",
      " [3044  265]]\n"
     ]
    }
   ],
   "source": [
    "print(\"KNN Accuracy Score\", accuracy_score(target_test, target_predicted_knn))\n",
    "print(\"Classification Report\")\n",
    "print(classification_report(target_test, target_predicted_knn))\n",
    "print(\"Confusion Matrix\")\n",
    "print(confusion_matrix(target_test, target_predicted_knn))"
   ]
  },
  {
   "cell_type": "code",
   "execution_count": 155,
   "metadata": {},
   "outputs": [
    {
     "name": "stdout",
     "output_type": "stream",
     "text": [
      "Cross Validation Score for each K [0.7432091  0.73653451 0.74016743 0.74222082 0.73680885]\n"
     ]
    },
    {
     "data": {
      "text/plain": [
       "0.7397881408861193"
      ]
     },
     "execution_count": 155,
     "metadata": {},
     "output_type": "execute_result"
    }
   ],
   "source": [
    "#verify KNN with Cross Validation for KNN = 10\n",
    "scores = cross_val_score(neigh_knn, features_train, target_train, cv=5)\n",
    "print(\"Cross Validation Score for each K\",scores)\n",
    "scores.mean() "
   ]
  },
  {
   "cell_type": "markdown",
   "metadata": {},
   "source": [
    "### Running KNN through 1-10, and then through 10-15 resulted in most optimized model of KNN=10."
   ]
  },
  {
   "cell_type": "markdown",
   "metadata": {},
   "source": [
    "## Random Forest"
   ]
  },
  {
   "cell_type": "code",
   "execution_count": 185,
   "metadata": {},
   "outputs": [
    {
     "name": "stdout",
     "output_type": "stream",
     "text": [
      "RF Accuracy Score N=10 0.8140340532173657\n",
      "Classification Report\n",
      "             precision    recall  f1-score   support\n",
      "\n",
      "          0       0.82      0.96      0.89     10258\n",
      "          1       0.75      0.36      0.49      3309\n",
      "\n",
      "avg / total       0.80      0.81      0.79     13567\n",
      "\n",
      "Confusion Matrix\n",
      "[[9852  406]\n",
      " [2117 1192]]\n"
     ]
    }
   ],
   "source": [
    "# Random Forest N=10\n",
    "from sklearn.ensemble import RandomForestClassifier\n",
    "from sklearn.datasets import make_classification\n",
    "rf = RandomForestClassifier(max_depth=4, random_state=0, n_estimators = 10)\n",
    "rf_fit = rf.fit(features_train, target_train)\n",
    "target_predicted_rf = rf_fit.predict(features_test)\n",
    "print(\"RF Accuracy Score N=10\", accuracy_score(target_test, target_predicted_rf))\n",
    "print(\"Classification Report\")\n",
    "print(classification_report(target_test, target_predicted_rf))\n",
    "print(\"Confusion Matrix\")\n",
    "print(confusion_matrix(target_test, target_predicted_rf))"
   ]
  },
  {
   "cell_type": "code",
   "execution_count": 182,
   "metadata": {},
   "outputs": [
    {
     "name": "stdout",
     "output_type": "stream",
     "text": [
      "RF Accuracy Score N=100 0.8100538070317682\n",
      "Classification Report\n",
      "             precision    recall  f1-score   support\n",
      "\n",
      "          0       0.81      0.97      0.89     10258\n",
      "          1       0.78      0.31      0.44      3309\n",
      "\n",
      "avg / total       0.80      0.81      0.78     13567\n",
      "\n",
      "Confusion Matrix\n",
      "[[9965  293]\n",
      " [2284 1025]]\n"
     ]
    }
   ],
   "source": [
    "# Random Forest N=100\n",
    "from sklearn.ensemble import RandomForestClassifier\n",
    "from sklearn.datasets import make_classification\n",
    "rf = RandomForestClassifier(max_depth=4, random_state=0, n_estimators = 100)\n",
    "rf_fit = rf.fit(features_train, target_train)\n",
    "target_predicted_rf = rf_fit.predict(features_test)\n",
    "print(\"RF Accuracy Score N=100\", accuracy_score(target_test, target_predicted_rf))\n",
    "print(\"Classification Report\")\n",
    "print(classification_report(target_test, target_predicted_rf))\n",
    "print(\"Confusion Matrix\")\n",
    "print(confusion_matrix(target_test, target_predicted_rf))"
   ]
  },
  {
   "cell_type": "code",
   "execution_count": 183,
   "metadata": {},
   "outputs": [
    {
     "name": "stdout",
     "output_type": "stream",
     "text": [
      "RF Accuracy Score N=500 0.8086533500405395\n",
      "Classification Report\n",
      "             precision    recall  f1-score   support\n",
      "\n",
      "          0       0.81      0.97      0.88     10258\n",
      "          1       0.78      0.30      0.43      3309\n",
      "\n",
      "avg / total       0.80      0.81      0.77     13567\n",
      "\n",
      "Confusion Matrix\n",
      "[[9979  279]\n",
      " [2317  992]]\n"
     ]
    }
   ],
   "source": [
    "# Random Forest N=500\n",
    "from sklearn.ensemble import RandomForestClassifier\n",
    "from sklearn.datasets import make_classification\n",
    "rf = RandomForestClassifier(max_depth=4, random_state=0, n_estimators = 500)\n",
    "rf_fit = rf.fit(features_train, target_train)\n",
    "target_predicted_rf = rf_fit.predict(features_test)\n",
    "print(\"RF Accuracy Score N=500\", accuracy_score(target_test, target_predicted_rf))\n",
    "print(\"Classification Report\")\n",
    "print(classification_report(target_test, target_predicted_rf))\n",
    "print(\"Confusion Matrix\")\n",
    "print(confusion_matrix(target_test, target_predicted_rf))"
   ]
  },
  {
   "cell_type": "code",
   "execution_count": 186,
   "metadata": {},
   "outputs": [
    {
     "name": "stdout",
     "output_type": "stream",
     "text": [
      "Cross Validation Score for each K [0.81238155 0.80666561 0.80808719 0.808719   0.81169036]\n"
     ]
    },
    {
     "data": {
      "text/plain": [
       "0.8095087445524983"
      ]
     },
     "execution_count": 186,
     "metadata": {},
     "output_type": "execute_result"
    }
   ],
   "source": [
    "#verify RF with Cross Validation on N=10\n",
    "scores = cross_val_score(rf_fit, features_train, target_train, cv=5)\n",
    "print(\"Cross Validation Score\",scores)\n",
    "scores.mean() "
   ]
  },
  {
   "cell_type": "markdown",
   "metadata": {},
   "source": [
    "## Decision Tree"
   ]
  },
  {
   "cell_type": "code",
   "execution_count": 187,
   "metadata": {},
   "outputs": [
    {
     "name": "stdout",
     "output_type": "stream",
     "text": [
      "DecisionTreeClassifier(class_weight='balanced', criterion='gini', max_depth=5,\n",
      "            max_features=None, max_leaf_nodes=None,\n",
      "            min_impurity_decrease=0.0, min_impurity_split=None,\n",
      "            min_samples_leaf=1, min_samples_split=2,\n",
      "            min_weight_fraction_leaf=0.0, presort=False, random_state=None,\n",
      "            splitter='best')\n",
      "DT Accuracy Score Max Depth = 5 0.7708410112773642\n",
      "Classification Report\n",
      "             precision    recall  f1-score   support\n",
      "\n",
      "          0       0.94      0.74      0.83     10258\n",
      "          1       0.52      0.86      0.65      3309\n",
      "\n",
      "avg / total       0.84      0.77      0.79     13567\n",
      "\n",
      "Confusion Matrix\n",
      "[[7623 2635]\n",
      " [ 474 2835]]\n"
     ]
    }
   ],
   "source": [
    "## Decision Tree Max Depth = 5\n",
    "from sklearn import tree \n",
    "clf_dt = tree.DecisionTreeClassifier(max_depth=5, class_weight=\"balanced\")\n",
    "#Call up the model to see the parameters you can tune (and their default setting)\n",
    "print(clf_dt)\n",
    "#Fit clf to the training data\n",
    "clf_dt = clf_dt.fit(features_train, target_train)\n",
    "#Predict clf DT model again test data\n",
    "target_predicted_dt = clf_dt.predict(features_test)\n",
    "print(\"DT Accuracy Score Max Depth = 5\", accuracy_score(target_test, target_predicted_dt))\n",
    "print(\"Classification Report\")\n",
    "print(classification_report(target_test, target_predicted_dt))\n",
    "print(\"Confusion Matrix\")\n",
    "print(confusion_matrix(target_test, target_predicted_dt))"
   ]
  },
  {
   "cell_type": "code",
   "execution_count": 190,
   "metadata": {},
   "outputs": [
    {
     "name": "stdout",
     "output_type": "stream",
     "text": [
      "DecisionTreeClassifier(class_weight='balanced', criterion='gini',\n",
      "            max_depth=15, max_features=None, max_leaf_nodes=None,\n",
      "            min_impurity_decrease=0.0, min_impurity_split=None,\n",
      "            min_samples_leaf=1, min_samples_split=2,\n",
      "            min_weight_fraction_leaf=0.0, presort=False, random_state=None,\n",
      "            splitter='best')\n",
      "DT Accuracy Score Max Depth = 15 0.7800545441143952\n",
      "Classification Report\n",
      "             precision    recall  f1-score   support\n",
      "\n",
      "          0       0.92      0.77      0.84     10258\n",
      "          1       0.53      0.80      0.64      3309\n",
      "\n",
      "avg / total       0.83      0.78      0.79     13567\n",
      "\n",
      "Confusion Matrix\n",
      "[[7929 2329]\n",
      " [ 655 2654]]\n"
     ]
    }
   ],
   "source": [
    "## Decision Tree Max Depth = 15\n",
    "from sklearn import tree \n",
    "clf_dt = tree.DecisionTreeClassifier(max_depth=15, class_weight=\"balanced\")\n",
    "#Call up the model to see the parameters you can tune (and their default setting)\n",
    "print(clf_dt)\n",
    "#Fit clf to the training data\n",
    "clf_dt = clf_dt.fit(features_train, target_train)\n",
    "#Predict clf DT model again test data\n",
    "target_predicted_dt = clf_dt.predict(features_test)\n",
    "print(\"DT Accuracy Score Max Depth = 15\", accuracy_score(target_test, target_predicted_dt))\n",
    "print(\"Classification Report\")\n",
    "print(classification_report(target_test, target_predicted_dt))\n",
    "print(\"Confusion Matrix\")\n",
    "print(confusion_matrix(target_test, target_predicted_dt))"
   ]
  },
  {
   "cell_type": "code",
   "execution_count": 189,
   "metadata": {},
   "outputs": [
    {
     "name": "stdout",
     "output_type": "stream",
     "text": [
      "DecisionTreeClassifier(class_weight='balanced', criterion='gini',\n",
      "            max_depth=None, max_features=None, max_leaf_nodes=None,\n",
      "            min_impurity_decrease=0.0, min_impurity_split=None,\n",
      "            min_samples_leaf=1, min_samples_split=2,\n",
      "            min_weight_fraction_leaf=0.0, presort=False, random_state=None,\n",
      "            splitter='best')\n",
      "DT Accuracy Score Max Depth = none 0.7782855458096852\n",
      "Classification Report\n",
      "             precision    recall  f1-score   support\n",
      "\n",
      "          0       0.86      0.85      0.85     10258\n",
      "          1       0.54      0.56      0.55      3309\n",
      "\n",
      "avg / total       0.78      0.78      0.78     13567\n",
      "\n",
      "Confusion Matrix\n",
      "[[8701 1557]\n",
      " [1451 1858]]\n"
     ]
    }
   ],
   "source": [
    "## Decision Tree Max Depth = none\n",
    "from sklearn import tree \n",
    "clf_dt = tree.DecisionTreeClassifier(class_weight=\"balanced\")\n",
    "#Call up the model to see the parameters you can tune (and their default setting)\n",
    "print(clf_dt)\n",
    "#Fit clf to the training data\n",
    "clf_dt = clf_dt.fit(features_train, target_train)\n",
    "#Predict clf DT model again test data\n",
    "target_predicted_dt = clf_dt.predict(features_test)\n",
    "print(\"DT Accuracy Score Max Depth = none\", accuracy_score(target_test, target_predicted_dt))\n",
    "print(\"Classification Report\")\n",
    "print(classification_report(target_test, target_predicted_dt))\n",
    "print(\"Confusion Matrix\")\n",
    "print(confusion_matrix(target_test, target_predicted_dt))"
   ]
  },
  {
   "cell_type": "code",
   "execution_count": 191,
   "metadata": {},
   "outputs": [
    {
     "name": "stdout",
     "output_type": "stream",
     "text": [
      "Cross Validation Score [0.77684776 0.78123519 0.76512399 0.77933976 0.76729858]\n"
     ]
    },
    {
     "data": {
      "text/plain": [
       "0.7739690554674072"
      ]
     },
     "execution_count": 191,
     "metadata": {},
     "output_type": "execute_result"
    }
   ],
   "source": [
    "#verify DT with Cross Validation for Max Depth = 15\n",
    "scores = cross_val_score(clf_dt, features_train, target_train, cv=5)\n",
    "print(\"Cross Validation Score\",scores)\n",
    "scores.mean()  "
   ]
  },
  {
   "cell_type": "markdown",
   "metadata": {},
   "source": [
    "## SVM Linear"
   ]
  },
  {
   "cell_type": "code",
   "execution_count": 141,
   "metadata": {},
   "outputs": [
    {
     "name": "stderr",
     "output_type": "stream",
     "text": [
      "/Users/homerkay/anaconda3/lib/python3.6/site-packages/sklearn/utils/validation.py:475: DataConversionWarning: Data with input dtype int64 was converted to float64 by StandardScaler.\n",
      "  warnings.warn(msg, DataConversionWarning)\n"
     ]
    }
   ],
   "source": [
    "from sklearn.preprocessing import StandardScaler\n",
    "scaler = StandardScaler()\n",
    "# Fit only to the training data\n",
    "scaler.fit(features_train)\n",
    "# Now apply the transformations to the data:\n",
    "X_train = scaler.transform(features_train)\n",
    "X_test = scaler.transform(features_test)\n"
   ]
  },
  {
   "cell_type": "code",
   "execution_count": 142,
   "metadata": {},
   "outputs": [
    {
     "name": "stdout",
     "output_type": "stream",
     "text": [
      "C=0.1\n",
      "             precision    recall  f1-score   support\n",
      "\n",
      "         No       0.93      0.74      0.82     10258\n",
      "        Yes       0.50      0.83      0.63      3309\n",
      "\n",
      "avg / total       0.83      0.76      0.77     13567\n",
      "\n",
      "[[7554 2704]\n",
      " [ 558 2751]]\n",
      "0.7595636470848383\n"
     ]
    }
   ],
   "source": [
    "from sklearn.svm import LinearSVC\n",
    "clf_linSVC=LinearSVC(penalty='l2', loss='hinge', dual=True, tol=0.0001, C=0.1, class_weight='balanced', max_iter = 100)\n",
    "clf_linSVC.fit(X_train, target_train)\n",
    "predicted_SVC=clf_linSVC.predict(X_test)\n",
    "expected = target_test\n",
    "# summarize the fit of the model\n",
    "print('C=0.1')\n",
    "print(classification_report(expected, predicted_SVC,target_names=['No', 'Yes']))\n",
    "print(confusion_matrix(expected, predicted_SVC))\n",
    "print(accuracy_score(expected,predicted_SVC))"
   ]
  },
  {
   "cell_type": "code",
   "execution_count": 145,
   "metadata": {},
   "outputs": [
    {
     "name": "stdout",
     "output_type": "stream",
     "text": [
      "C=0.5\n",
      "             precision    recall  f1-score   support\n",
      "\n",
      "         No       0.93      0.74      0.82     10258\n",
      "        Yes       0.50      0.83      0.63      3309\n",
      "\n",
      "avg / total       0.83      0.76      0.77     13567\n",
      "\n",
      "[[7540 2718]\n",
      " [ 563 2746]]\n",
      "0.7581631900936094\n"
     ]
    }
   ],
   "source": [
    "from sklearn.svm import LinearSVC\n",
    "clf_linSVC=LinearSVC(penalty='l2', loss='hinge', dual=True, tol=0.0001, C=0.5, class_weight='balanced', max_iter = 100)\n",
    "clf_linSVC.fit(X_train, target_train)\n",
    "predicted_SVC=clf_linSVC.predict(X_test)\n",
    "expected = target_test\n",
    "# summarize the fit of the model\n",
    "print('C=0.5')\n",
    "print(classification_report(expected, predicted_SVC,target_names=['No', 'Yes']))\n",
    "print(confusion_matrix(expected, predicted_SVC))\n",
    "print(accuracy_score(expected,predicted_SVC))"
   ]
  },
  {
   "cell_type": "code",
   "execution_count": 144,
   "metadata": {},
   "outputs": [
    {
     "name": "stdout",
     "output_type": "stream",
     "text": [
      "C=1.0\n",
      "             precision    recall  f1-score   support\n",
      "\n",
      "         No       0.93      0.74      0.82     10258\n",
      "        Yes       0.50      0.81      0.62      3309\n",
      "\n",
      "avg / total       0.82      0.76      0.77     13567\n",
      "\n",
      "[[7576 2682]\n",
      " [ 613 2696]]\n",
      "0.757131274415862\n"
     ]
    }
   ],
   "source": [
    "from sklearn.svm import LinearSVC\n",
    "clf_linSVC=LinearSVC(penalty='l2', loss='hinge', dual=True, tol=0.0001, C=1.0, class_weight='balanced', max_iter = 100)\n",
    "clf_linSVC.fit(X_train, target_train)\n",
    "predicted_SVC=clf_linSVC.predict(X_test)\n",
    "expected = target_test\n",
    "# summarize the fit of the model\n",
    "print('C=1.0')\n",
    "print(classification_report(expected, predicted_SVC,target_names=['No', 'Yes']))\n",
    "print(confusion_matrix(expected, predicted_SVC))\n",
    "print(accuracy_score(expected,predicted_SVC))"
   ]
  },
  {
   "cell_type": "code",
   "execution_count": 146,
   "metadata": {},
   "outputs": [
    {
     "name": "stdout",
     "output_type": "stream",
     "text": [
      "Cross Validation Score [0.76595073 0.75584334 0.78300695 0.76247631 0.76089703 0.76531901\n",
      " 0.78041074 0.78167457 0.75481833 0.76011378]\n"
     ]
    },
    {
     "data": {
      "text/plain": [
       "0.7670510780541232"
      ]
     },
     "execution_count": 146,
     "metadata": {},
     "output_type": "execute_result"
    }
   ],
   "source": [
    "#verify SVM Linear with Cross Validation C = 0.5\n",
    "scores = cross_val_score(clf_linSVC, X_train, target_train, cv=10)\n",
    "print(\"Cross Validation Score\",scores)\n",
    "scores.mean()  "
   ]
  },
  {
   "cell_type": "markdown",
   "metadata": {},
   "source": [
    "### SVM Linear, 76% Accuracy, Verified with Cross Validation.  "
   ]
  },
  {
   "cell_type": "markdown",
   "metadata": {},
   "source": [
    "## Extra Trees"
   ]
  },
  {
   "cell_type": "code",
   "execution_count": 213,
   "metadata": {},
   "outputs": [
    {
     "name": "stdout",
     "output_type": "stream",
     "text": [
      "Extra Trees 0.7182870199749392\n",
      "             precision    recall  f1-score   support\n",
      "\n",
      "         No       0.92      0.69      0.79     10258\n",
      "        Yes       0.46      0.81      0.58      3309\n",
      "\n",
      "avg / total       0.81      0.72      0.74     13567\n",
      "\n",
      "[[7059 3199]\n",
      " [ 623 2686]]\n"
     ]
    }
   ],
   "source": [
    "from sklearn.ensemble import ExtraTreesClassifier\n",
    "xdt = ExtraTreesClassifier(max_depth=3,\n",
    "                         n_estimators=10,class_weight='balanced')\n",
    "#print(xdt)\n",
    "xdt2=xdt.fit(features_train, target_train)\n",
    "predicted_xdt=xdt.predict(features_test)\n",
    "expected = target_test\n",
    "print(\"Extra Trees\", accuracy_score(expected,predicted_xdt))\n",
    "print(classification_report(expected, predicted_xdt,target_names=['No', 'Yes']))\n",
    "print(confusion_matrix(expected, predicted_xdt))"
   ]
  },
  {
   "cell_type": "code",
   "execution_count": 214,
   "metadata": {},
   "outputs": [
    {
     "name": "stdout",
     "output_type": "stream",
     "text": [
      "Extra Trees 0.7364929608609125\n",
      "             precision    recall  f1-score   support\n",
      "\n",
      "         No       0.93      0.70      0.80     10258\n",
      "        Yes       0.48      0.84      0.61      3309\n",
      "\n",
      "avg / total       0.82      0.74      0.75     13567\n",
      "\n",
      "[[7198 3060]\n",
      " [ 515 2794]]\n"
     ]
    }
   ],
   "source": [
    "from sklearn.ensemble import ExtraTreesClassifier\n",
    "xdt = ExtraTreesClassifier(max_depth=10,\n",
    "                         n_estimators=10,class_weight='balanced')\n",
    "#print(xdt)\n",
    "xdt2=xdt.fit(features_train, target_train)\n",
    "predicted_xdt=xdt.predict(features_test)\n",
    "expected = target_test\n",
    "print(\"Extra Trees\", accuracy_score(expected,predicted_xdt))\n",
    "print(classification_report(expected, predicted_xdt,target_names=['No', 'Yes']))\n",
    "print(confusion_matrix(expected, predicted_xdt))"
   ]
  },
  {
   "cell_type": "code",
   "execution_count": 215,
   "metadata": {},
   "outputs": [
    {
     "name": "stdout",
     "output_type": "stream",
     "text": [
      "Extra Trees 0.8078425591508808\n",
      "             precision    recall  f1-score   support\n",
      "\n",
      "         No       0.85      0.90      0.88     10258\n",
      "        Yes       0.63      0.52      0.57      3309\n",
      "\n",
      "avg / total       0.80      0.81      0.80     13567\n",
      "\n",
      "[[9233 1025]\n",
      " [1582 1727]]\n"
     ]
    }
   ],
   "source": [
    "from sklearn.ensemble import ExtraTreesClassifier\n",
    "xdt = ExtraTreesClassifier(\n",
    "                         n_estimators=10,class_weight='balanced')\n",
    "#print(xdt)\n",
    "xdt2=xdt.fit(features_train, target_train)\n",
    "predicted_xdt=xdt.predict(features_test)\n",
    "expected = target_test\n",
    "print(\"Extra Trees\", accuracy_score(expected,predicted_xdt))\n",
    "print(classification_report(expected, predicted_xdt,target_names=['No', 'Yes']))\n",
    "print(confusion_matrix(expected, predicted_xdt))"
   ]
  },
  {
   "cell_type": "code",
   "execution_count": 216,
   "metadata": {},
   "outputs": [
    {
     "name": "stdout",
     "output_type": "stream",
     "text": [
      "Extra Trees 0.8145500110562394\n",
      "             precision    recall  f1-score   support\n",
      "\n",
      "         No       0.87      0.89      0.88     10258\n",
      "        Yes       0.63      0.57      0.60      3309\n",
      "\n",
      "avg / total       0.81      0.81      0.81     13567\n",
      "\n",
      "[[9160 1098]\n",
      " [1418 1891]]\n"
     ]
    }
   ],
   "source": [
    "from sklearn.ensemble import ExtraTreesClassifier\n",
    "xdt = ExtraTreesClassifier(\n",
    "                         n_estimators=100,class_weight='balanced')\n",
    "#print(xdt)\n",
    "xdt2=xdt.fit(features_train, target_train)\n",
    "predicted_xdt=xdt.predict(features_test)\n",
    "expected = target_test\n",
    "print(\"Extra Trees\", accuracy_score(expected,predicted_xdt))\n",
    "print(classification_report(expected, predicted_xdt,target_names=['No', 'Yes']))\n",
    "print(confusion_matrix(expected, predicted_xdt))"
   ]
  },
  {
   "cell_type": "code",
   "execution_count": 217,
   "metadata": {},
   "outputs": [
    {
     "name": "stdout",
     "output_type": "stream",
     "text": [
      "Cross Validation Score [0.80511687 0.81711939 0.80732786 0.80101074 0.8041693  0.80953885\n",
      " 0.81042654 0.81105845 0.80600316 0.81068268]\n"
     ]
    },
    {
     "data": {
      "text/plain": [
       "0.8082453838759307"
      ]
     },
     "execution_count": 217,
     "metadata": {},
     "output_type": "execute_result"
    }
   ],
   "source": [
    "#verify Extra Trees with Cross Validation max_depth = none, n_estimators = 100\n",
    "scores = cross_val_score(xdt2, features_train, target_train, cv=10)\n",
    "print(\"Cross Validation Score\",scores)\n",
    "scores.mean()  "
   ]
  },
  {
   "cell_type": "markdown",
   "metadata": {},
   "source": [
    "### Extra Trees improves from 71% to 80% from removing max depth parameter.  Slight improvement ~1% seen from increasing estimators from 10->100.  CV Confirms validity of model.  OK to productionalize.  "
   ]
  },
  {
   "cell_type": "markdown",
   "metadata": {},
   "source": [
    "## Gradient Boosting"
   ]
  },
  {
   "cell_type": "code",
   "execution_count": 51,
   "metadata": {},
   "outputs": [
    {
     "name": "stdout",
     "output_type": "stream",
     "text": [
      "Gradient Boost Accuracy 0.7434215375543598\n",
      "             precision    recall  f1-score   support\n",
      "\n",
      "         No       0.83      0.82      0.83     10258\n",
      "        Yes       0.47      0.49      0.48      3309\n",
      "\n",
      "avg / total       0.75      0.74      0.75     13567\n",
      "\n",
      "[[8453 1805]\n",
      " [1676 1633]]\n"
     ]
    }
   ],
   "source": [
    "from sklearn.ensemble import GradientBoostingClassifier\n",
    "clf_GBC = GradientBoostingClassifier(n_estimators=100, learning_rate=1.7, max_depth=1, random_state=0)\n",
    "clf_GBC.fit(features_train, target_train)\n",
    "predicted_GBC=clf_GBC.predict(features_test)\n",
    "expected = target_test\n",
    "print(\"Gradient Boost Accuracy\", accuracy_score(expected,predicted_GBC))\n",
    "print(classification_report(expected, predicted_GBC,target_names=['No', 'Yes']))\n",
    "print(confusion_matrix(expected, predicted_GBC))"
   ]
  },
  {
   "cell_type": "code",
   "execution_count": 219,
   "metadata": {},
   "outputs": [
    {
     "name": "stdout",
     "output_type": "stream",
     "text": [
      "Gradient Boost Accuracy 0.8213311712242942\n",
      "             precision    recall  f1-score   support\n",
      "\n",
      "         No       0.83      0.95      0.89     10258\n",
      "        Yes       0.74      0.41      0.53      3309\n",
      "\n",
      "avg / total       0.81      0.82      0.80     13567\n",
      "\n",
      "[[9787  471]\n",
      " [1953 1356]]\n"
     ]
    }
   ],
   "source": [
    "from sklearn.ensemble import GradientBoostingClassifier\n",
    "clf_GBC = GradientBoostingClassifier(n_estimators=10, learning_rate=0.5, max_depth=1, random_state=0)\n",
    "clf_GBC.fit(features_train, target_train)\n",
    "predicted_GBC=clf_GBC.predict(features_test)\n",
    "expected = target_test\n",
    "print(\"Gradient Boost Accuracy\", accuracy_score(expected,predicted_GBC))\n",
    "print(classification_report(expected, predicted_GBC,target_names=['No', 'Yes']))\n",
    "print(confusion_matrix(expected, predicted_GBC))"
   ]
  },
  {
   "cell_type": "code",
   "execution_count": 226,
   "metadata": {},
   "outputs": [
    {
     "name": "stdout",
     "output_type": "stream",
     "text": [
      "Gradient Boost Accuracy 0.8245006265202329\n",
      "             precision    recall  f1-score   support\n",
      "\n",
      "         No       0.85      0.93      0.89     10258\n",
      "        Yes       0.69      0.50      0.58      3309\n",
      "\n",
      "avg / total       0.81      0.82      0.81     13567\n",
      "\n",
      "[[9519  739]\n",
      " [1642 1667]]\n"
     ]
    }
   ],
   "source": [
    "from sklearn.ensemble import GradientBoostingClassifier\n",
    "clf_GBC = GradientBoostingClassifier(n_estimators=10, learning_rate=0.6, max_depth=1, random_state=0)\n",
    "clf_GBC.fit(features_train, target_train)\n",
    "predicted_GBC=clf_GBC.predict(features_test)\n",
    "expected = target_test\n",
    "print(\"Gradient Boost Accuracy\", accuracy_score(expected,predicted_GBC))\n",
    "print(classification_report(expected, predicted_GBC,target_names=['No', 'Yes']))\n",
    "print(confusion_matrix(expected, predicted_GBC))"
   ]
  },
  {
   "cell_type": "code",
   "execution_count": 229,
   "metadata": {},
   "outputs": [
    {
     "name": "stdout",
     "output_type": "stream",
     "text": [
      "Gradient Boost Accuracy 0.8337878676199602\n",
      "             precision    recall  f1-score   support\n",
      "\n",
      "         No       0.86      0.93      0.89     10258\n",
      "        Yes       0.71      0.54      0.61      3309\n",
      "\n",
      "avg / total       0.82      0.83      0.83     13567\n",
      "\n",
      "[[9539  719]\n",
      " [1536 1773]]\n"
     ]
    }
   ],
   "source": [
    "from sklearn.ensemble import GradientBoostingClassifier\n",
    "clf_GBC = GradientBoostingClassifier(n_estimators=10, learning_rate=0.6, random_state=0)\n",
    "clf_GBC.fit(features_train, target_train)\n",
    "predicted_GBC=clf_GBC.predict(features_test)\n",
    "expected = target_test\n",
    "print(\"Gradient Boost Accuracy\", accuracy_score(expected,predicted_GBC))\n",
    "print(classification_report(expected, predicted_GBC,target_names=['No', 'Yes']))\n",
    "print(confusion_matrix(expected, predicted_GBC))"
   ]
  },
  {
   "cell_type": "code",
   "execution_count": 230,
   "metadata": {},
   "outputs": [
    {
     "name": "stdout",
     "output_type": "stream",
     "text": [
      "Gradient Boost Accuracy 0.8344512419842264\n",
      "             precision    recall  f1-score   support\n",
      "\n",
      "         No       0.87      0.92      0.89     10258\n",
      "        Yes       0.69      0.58      0.63      3309\n",
      "\n",
      "avg / total       0.83      0.83      0.83     13567\n",
      "\n",
      "[[9387  871]\n",
      " [1375 1934]]\n"
     ]
    }
   ],
   "source": [
    "from sklearn.ensemble import GradientBoostingClassifier\n",
    "clf_GBC = GradientBoostingClassifier(n_estimators=10, learning_rate=0.6, random_state=0, loss='exponential')\n",
    "#loss : {‘deviance’, ‘exponential’}, optional (default=’deviance’)\n",
    "clf_GBC.fit(features_train, target_train)\n",
    "predicted_GBC=clf_GBC.predict(features_test)\n",
    "expected = target_test\n",
    "print(\"Gradient Boost Accuracy\", accuracy_score(expected,predicted_GBC))\n",
    "print(classification_report(expected, predicted_GBC,target_names=['No', 'Yes']))\n",
    "print(confusion_matrix(expected, predicted_GBC))"
   ]
  },
  {
   "cell_type": "code",
   "execution_count": 231,
   "metadata": {},
   "outputs": [
    {
     "name": "stdout",
     "output_type": "stream",
     "text": [
      "Cross Validation Score [0.83607075 0.8335439  0.84017688 0.82596336 0.82943778 0.82943778\n",
      " 0.82338073 0.84960506 0.83064771 0.82553729]\n"
     ]
    },
    {
     "data": {
      "text/plain": [
       "0.8323801234390537"
      ]
     },
     "execution_count": 231,
     "metadata": {},
     "output_type": "execute_result"
    }
   ],
   "source": [
    "#verify Gradient Boosting with Cross Validation \n",
    "scores = cross_val_score(clf_GBC, features_train, target_train, cv=10)\n",
    "print(\"Cross Validation Score\",scores)\n",
    "scores.mean()  "
   ]
  },
  {
   "cell_type": "markdown",
   "metadata": {},
   "source": [
    "### Best Gradient Boosting, Learning Rate 0.6, Exponential Loss, No Max Depth.  High Accuracy.  CV Passes.  Could Productionalize.  "
   ]
  },
  {
   "cell_type": "markdown",
   "metadata": {},
   "source": [
    "## Adaboost"
   ]
  },
  {
   "cell_type": "code",
   "execution_count": 232,
   "metadata": {},
   "outputs": [
    {
     "name": "stdout",
     "output_type": "stream",
     "text": [
      "Adaboost Accuracy 0.8354094493992776\n",
      "             precision    recall  f1-score   support\n",
      "\n",
      "         No       0.88      0.91      0.89     10258\n",
      "        Yes       0.68      0.62      0.65      3309\n",
      "\n",
      "avg / total       0.83      0.84      0.83     13567\n",
      "\n",
      "[[9285  973]\n",
      " [1260 2049]]\n"
     ]
    }
   ],
   "source": [
    "from sklearn.ensemble import AdaBoostClassifier\n",
    "from sklearn.tree import DecisionTreeClassifier\n",
    "bdt = AdaBoostClassifier(DecisionTreeClassifier(max_depth=3),\n",
    "                         algorithm=\"SAMME\",\n",
    "                         n_estimators=200)\n",
    "bdt.fit(features_train, target_train)\n",
    "predicted_bdt=bdt.predict(features_test)\n",
    "expected = target_test\n",
    "print(\"Adaboost Accuracy\", accuracy_score(expected,predicted_bdt))\n",
    "print(classification_report(expected, predicted_bdt,target_names=['No', 'Yes']))\n",
    "print(confusion_matrix(expected, predicted_bdt))"
   ]
  },
  {
   "cell_type": "code",
   "execution_count": 233,
   "metadata": {},
   "outputs": [
    {
     "name": "stdout",
     "output_type": "stream",
     "text": [
      "Adaboost Accuracy 0.8323137023660352\n",
      "             precision    recall  f1-score   support\n",
      "\n",
      "         No       0.88      0.90      0.89     10258\n",
      "        Yes       0.67      0.61      0.64      3309\n",
      "\n",
      "avg / total       0.83      0.83      0.83     13567\n",
      "\n",
      "[[9267  991]\n",
      " [1284 2025]]\n"
     ]
    }
   ],
   "source": [
    "from sklearn.ensemble import AdaBoostClassifier\n",
    "from sklearn.tree import DecisionTreeClassifier\n",
    "bdt = AdaBoostClassifier(DecisionTreeClassifier(max_depth=3),\n",
    "                         algorithm=\"SAMME\",\n",
    "                         n_estimators=20)\n",
    "bdt.fit(features_train, target_train)\n",
    "predicted_bdt=bdt.predict(features_test)\n",
    "expected = target_test\n",
    "print(\"Adaboost Accuracy\", accuracy_score(expected,predicted_bdt))\n",
    "print(classification_report(expected, predicted_bdt,target_names=['No', 'Yes']))\n",
    "print(confusion_matrix(expected, predicted_bdt))"
   ]
  },
  {
   "cell_type": "code",
   "execution_count": 235,
   "metadata": {},
   "outputs": [
    {
     "name": "stdout",
     "output_type": "stream",
     "text": [
      "Adaboost Accuracy 0.8106434731333383\n",
      "             precision    recall  f1-score   support\n",
      "\n",
      "         No       0.86      0.90      0.88     10258\n",
      "        Yes       0.63      0.55      0.58      3309\n",
      "\n",
      "avg / total       0.80      0.81      0.81     13567\n",
      "\n",
      "[[9189 1069]\n",
      " [1500 1809]]\n"
     ]
    }
   ],
   "source": [
    "from sklearn.ensemble import AdaBoostClassifier\n",
    "from sklearn.tree import DecisionTreeClassifier\n",
    "bdt = AdaBoostClassifier(DecisionTreeClassifier(max_depth=20),\n",
    "                         algorithm=\"SAMME\",\n",
    "                         n_estimators=20)\n",
    "bdt.fit(features_train, target_train)\n",
    "predicted_bdt=bdt.predict(features_test)\n",
    "expected = target_test\n",
    "print(\"Adaboost Accuracy\", accuracy_score(expected,predicted_bdt))\n",
    "print(classification_report(expected, predicted_bdt,target_names=['No', 'Yes']))\n",
    "print(confusion_matrix(expected, predicted_bdt))"
   ]
  },
  {
   "cell_type": "code",
   "execution_count": 239,
   "metadata": {},
   "outputs": [
    {
     "name": "stdout",
     "output_type": "stream",
     "text": [
      "Adaboost Accuracy 0.8225842116901305\n",
      "             precision    recall  f1-score   support\n",
      "\n",
      "         No       0.86      0.91      0.89     10258\n",
      "        Yes       0.66      0.55      0.60      3309\n",
      "\n",
      "avg / total       0.81      0.82      0.82     13567\n",
      "\n",
      "[[9329  929]\n",
      " [1478 1831]]\n"
     ]
    }
   ],
   "source": [
    "from sklearn.ensemble import AdaBoostClassifier\n",
    "from sklearn.tree import DecisionTreeClassifier\n",
    "bdt = AdaBoostClassifier(\n",
    "                         algorithm=\"SAMME\",\n",
    "                         n_estimators=20)\n",
    "bdt.fit(features_train, target_train)\n",
    "predicted_bdt=bdt.predict(features_test)\n",
    "expected = target_test\n",
    "print(\"Adaboost Accuracy\", accuracy_score(expected,predicted_bdt))\n",
    "print(classification_report(expected, predicted_bdt,target_names=['No', 'Yes']))\n",
    "print(confusion_matrix(expected, predicted_bdt))"
   ]
  },
  {
   "cell_type": "code",
   "execution_count": 240,
   "metadata": {},
   "outputs": [
    {
     "name": "stdout",
     "output_type": "stream",
     "text": [
      "Adaboost Accuracy 0.8306921205867178\n",
      "             precision    recall  f1-score   support\n",
      "\n",
      "         No       0.86      0.92      0.89     10258\n",
      "        Yes       0.69      0.55      0.61      3309\n",
      "\n",
      "avg / total       0.82      0.83      0.82     13567\n",
      "\n",
      "[[9462  796]\n",
      " [1501 1808]]\n"
     ]
    }
   ],
   "source": [
    "from sklearn.ensemble import AdaBoostClassifier\n",
    "from sklearn.tree import DecisionTreeClassifier\n",
    "bdt = AdaBoostClassifier(\n",
    "                         algorithm=\"SAMME\",\n",
    "                         n_estimators=200)\n",
    "bdt.fit(features_train, target_train)\n",
    "predicted_bdt=bdt.predict(features_test)\n",
    "expected = target_test\n",
    "print(\"Adaboost Accuracy\", accuracy_score(expected,predicted_bdt))\n",
    "print(classification_report(expected, predicted_bdt,target_names=['No', 'Yes']))\n",
    "print(confusion_matrix(expected, predicted_bdt))"
   ]
  },
  {
   "cell_type": "code",
   "execution_count": 241,
   "metadata": {},
   "outputs": [
    {
     "name": "stdout",
     "output_type": "stream",
     "text": [
      "Adaboost Accuracy 0.3903589592393307\n",
      "             precision    recall  f1-score   support\n",
      "\n",
      "         No       0.71      0.32      0.44     10258\n",
      "        Yes       0.22      0.60      0.32      3309\n",
      "\n",
      "avg / total       0.59      0.39      0.42     13567\n",
      "\n",
      "[[3310 6948]\n",
      " [1323 1986]]\n"
     ]
    }
   ],
   "source": [
    "from sklearn.ensemble import AdaBoostClassifier\n",
    "from sklearn.tree import DecisionTreeClassifier\n",
    "bdt = AdaBoostClassifier(DecisionTreeClassifier(max_depth=3),\n",
    "                         algorithm=\"SAMME\",\n",
    "                         n_estimators=20, learning_rate=2)\n",
    "bdt.fit(features_train, target_train)\n",
    "predicted_bdt=bdt.predict(features_test)\n",
    "expected = target_test\n",
    "print(\"Adaboost Accuracy\", accuracy_score(expected,predicted_bdt))\n",
    "print(classification_report(expected, predicted_bdt,target_names=['No', 'Yes']))\n",
    "print(confusion_matrix(expected, predicted_bdt))"
   ]
  },
  {
   "cell_type": "code",
   "execution_count": 242,
   "metadata": {},
   "outputs": [
    {
     "name": "stdout",
     "output_type": "stream",
     "text": [
      "Adaboost Accuracy 0.8323137023660352\n",
      "             precision    recall  f1-score   support\n",
      "\n",
      "         No       0.88      0.90      0.89     10258\n",
      "        Yes       0.67      0.61      0.64      3309\n",
      "\n",
      "avg / total       0.83      0.83      0.83     13567\n",
      "\n",
      "[[9267  991]\n",
      " [1284 2025]]\n"
     ]
    }
   ],
   "source": [
    "from sklearn.ensemble import AdaBoostClassifier\n",
    "from sklearn.tree import DecisionTreeClassifier\n",
    "bdt = AdaBoostClassifier(DecisionTreeClassifier(max_depth=3),\n",
    "                         algorithm=\"SAMME\",\n",
    "                         n_estimators=20, learning_rate=1)\n",
    "bdt.fit(features_train, target_train)\n",
    "predicted_bdt=bdt.predict(features_test)\n",
    "expected = target_test\n",
    "print(\"Adaboost Accuracy\", accuracy_score(expected,predicted_bdt))\n",
    "print(classification_report(expected, predicted_bdt,target_names=['No', 'Yes']))\n",
    "print(confusion_matrix(expected, predicted_bdt))"
   ]
  },
  {
   "cell_type": "code",
   "execution_count": 244,
   "metadata": {},
   "outputs": [
    {
     "name": "stdout",
     "output_type": "stream",
     "text": [
      "Adaboost Accuracy 0.8297339131716666\n",
      "             precision    recall  f1-score   support\n",
      "\n",
      "         No       0.87      0.91      0.89     10258\n",
      "        Yes       0.68      0.57      0.62      3309\n",
      "\n",
      "avg / total       0.82      0.83      0.82     13567\n",
      "\n",
      "[[9356  902]\n",
      " [1408 1901]]\n"
     ]
    }
   ],
   "source": [
    "from sklearn.ensemble import AdaBoostClassifier\n",
    "from sklearn.tree import DecisionTreeClassifier\n",
    "bdt = AdaBoostClassifier(DecisionTreeClassifier(max_depth=3),\n",
    "                         algorithm=\"SAMME\",\n",
    "                         n_estimators=20, learning_rate=0.7)\n",
    "bdt.fit(features_train, target_train)\n",
    "predicted_bdt=bdt.predict(features_test)\n",
    "expected = target_test\n",
    "print(\"Adaboost Accuracy\", accuracy_score(expected,predicted_bdt))\n",
    "print(classification_report(expected, predicted_bdt,target_names=['No', 'Yes']))\n",
    "print(confusion_matrix(expected, predicted_bdt))"
   ]
  },
  {
   "cell_type": "code",
   "execution_count": 252,
   "metadata": {},
   "outputs": [
    {
     "name": "stdout",
     "output_type": "stream",
     "text": [
      "Adaboost Accuracy 0.8301024544851477\n",
      "             precision    recall  f1-score   support\n",
      "\n",
      "         No       0.87      0.91      0.89     10258\n",
      "        Yes       0.68      0.57      0.62      3309\n",
      "\n",
      "avg / total       0.82      0.83      0.82     13567\n",
      "\n",
      "[[9364  894]\n",
      " [1411 1898]]\n"
     ]
    }
   ],
   "source": [
    "from sklearn.ensemble import AdaBoostClassifier\n",
    "from sklearn.ensemble import RandomForestClassifier\n",
    "bdt = AdaBoostClassifier(RandomForestClassifier(max_depth=3),\n",
    "                         algorithm=\"SAMME\",\n",
    "                         n_estimators=20, learning_rate=0.7)\n",
    "bdt.fit(features_train, target_train)\n",
    "predicted_bdt=bdt.predict(features_test)\n",
    "expected = target_test\n",
    "print(\"Adaboost Accuracy\", accuracy_score(expected,predicted_bdt))\n",
    "print(classification_report(expected, predicted_bdt,target_names=['No', 'Yes']))\n",
    "print(confusion_matrix(expected, predicted_bdt))"
   ]
  },
  {
   "cell_type": "code",
   "execution_count": 245,
   "metadata": {},
   "outputs": [
    {
     "name": "stdout",
     "output_type": "stream",
     "text": [
      "Cross Validation Score [0.82154138 0.82691093 0.83196462 0.8199621  0.82375237 0.82185723\n",
      " 0.82180095 0.83096367 0.82685624 0.82648546]\n"
     ]
    },
    {
     "data": {
      "text/plain": [
       "0.8252094943706874"
      ]
     },
     "execution_count": 245,
     "metadata": {},
     "output_type": "execute_result"
    }
   ],
   "source": [
    "#verify AdaBoost with Cross Validation \n",
    "scores = cross_val_score(bdt, features_train, target_train, cv=10)\n",
    "print(\"Cross Validation Score\",scores)\n",
    "scores.mean()  "
   ]
  },
  {
   "cell_type": "markdown",
   "metadata": {},
   "source": [
    "### Best Model, Decision Tree Base Learner, Learning Rate = 1, Estimators = 20, Max Depth = 3\n",
    "\n",
    "#### Little to no difference between Decision Tree and Random Forest."
   ]
  },
  {
   "cell_type": "markdown",
   "metadata": {},
   "source": [
    "# Stacking"
   ]
  },
  {
   "cell_type": "code",
   "execution_count": 180,
   "metadata": {},
   "outputs": [
    {
     "name": "stdout",
     "output_type": "stream",
     "text": [
      "Accuracy: 0.81 (+/- 0.00) [Random Forest]\n",
      "Accuracy: 0.78 (+/- 0.00) [naive Bayes]\n",
      "Accuracy: 0.83 (+/- 0.00) [AdaBoost Decision Tree]\n"
     ]
    },
    {
     "name": "stderr",
     "output_type": "stream",
     "text": [
      "/Users/homerkay/anaconda3/lib/python3.6/site-packages/sklearn/preprocessing/label.py:151: DeprecationWarning: The truth value of an empty array is ambiguous. Returning False, but in future this will result in an error. Use `array.size > 0` to check that an array is not empty.\n",
      "  if diff:\n",
      "/Users/homerkay/anaconda3/lib/python3.6/site-packages/sklearn/preprocessing/label.py:151: DeprecationWarning: The truth value of an empty array is ambiguous. Returning False, but in future this will result in an error. Use `array.size > 0` to check that an array is not empty.\n",
      "  if diff:\n",
      "/Users/homerkay/anaconda3/lib/python3.6/site-packages/sklearn/preprocessing/label.py:151: DeprecationWarning: The truth value of an empty array is ambiguous. Returning False, but in future this will result in an error. Use `array.size > 0` to check that an array is not empty.\n",
      "  if diff:\n",
      "/Users/homerkay/anaconda3/lib/python3.6/site-packages/sklearn/preprocessing/label.py:151: DeprecationWarning: The truth value of an empty array is ambiguous. Returning False, but in future this will result in an error. Use `array.size > 0` to check that an array is not empty.\n",
      "  if diff:\n",
      "/Users/homerkay/anaconda3/lib/python3.6/site-packages/sklearn/preprocessing/label.py:151: DeprecationWarning: The truth value of an empty array is ambiguous. Returning False, but in future this will result in an error. Use `array.size > 0` to check that an array is not empty.\n",
      "  if diff:\n"
     ]
    },
    {
     "name": "stdout",
     "output_type": "stream",
     "text": [
      "Accuracy: 0.82 (+/- 0.00) [Ensemble]\n",
      "Accuracy: 0.75 (+/- 0.00) [Logistic Regression]\n"
     ]
    }
   ],
   "source": [
    "from sklearn.linear_model import LogisticRegression\n",
    "from sklearn.naive_bayes import GaussianNB\n",
    "from sklearn.ensemble import RandomForestClassifier\n",
    "from sklearn.ensemble import VotingClassifier\n",
    "from sklearn.ensemble import AdaBoostClassifier\n",
    "from sklearn.tree import DecisionTreeClassifier\n",
    "#Three Models RF, NB, BDT\n",
    "clf1 = RandomForestClassifier(random_state=1)\n",
    "clf_LR = LogisticRegression()\n",
    "clf2 = GaussianNB()\n",
    "bdt = AdaBoostClassifier(DecisionTreeClassifier(max_depth=3),\n",
    "                         algorithm=\"SAMME\",\n",
    "                         n_estimators=200)\n",
    "eclf2 = VotingClassifier(estimators=[('rf', clf1), ('gnb', clf2), ('bdt', bdt)], voting='hard')\n",
    "for MV, label in zip([clf1, clf2, bdt, eclf2, clf_LR], ['Random Forest', 'naive Bayes', 'AdaBoost Decision Tree', 'Ensemble','Logistic Regression']):\n",
    "\n",
    "    scores2 = cross_val_score(MV, features_train, target_train, cv=5, scoring='accuracy')\n",
    "    print(\"Accuracy: %0.2f (+/- %0.2f) [%s]\" % (scores2.mean(), scores2.std(), label))"
   ]
  },
  {
   "cell_type": "code",
   "execution_count": 182,
   "metadata": {},
   "outputs": [
    {
     "name": "stdout",
     "output_type": "stream",
     "text": [
      "Accuracy 0.831060661900199\n",
      "             precision    recall  f1-score   support\n",
      "\n",
      "          0       0.85      0.94      0.89     10258\n",
      "          1       0.72      0.50      0.59      3309\n",
      "\n",
      "avg / total       0.82      0.83      0.82     13567\n",
      "\n",
      "[[9631  627]\n",
      " [1665 1644]]\n"
     ]
    },
    {
     "name": "stderr",
     "output_type": "stream",
     "text": [
      "/Users/homerkay/anaconda3/lib/python3.6/site-packages/sklearn/preprocessing/label.py:151: DeprecationWarning: The truth value of an empty array is ambiguous. Returning False, but in future this will result in an error. Use `array.size > 0` to check that an array is not empty.\n",
      "  if diff:\n"
     ]
    }
   ],
   "source": [
    "eclf2.fit(features_train, target_train)\n",
    "predictions = eclf2.predict(features_test)\n",
    "from sklearn.metrics import classification_report,confusion_matrix\n",
    "print(\"Accuracy\", accuracy_score(target_test,predictions))\n",
    "print(classification_report(target_test,predictions))\n",
    "print(confusion_matrix(target_test,predictions))"
   ]
  },
  {
   "cell_type": "code",
   "execution_count": 183,
   "metadata": {},
   "outputs": [
    {
     "name": "stderr",
     "output_type": "stream",
     "text": [
      "/Users/homerkay/anaconda3/lib/python3.6/site-packages/sklearn/preprocessing/label.py:151: DeprecationWarning: The truth value of an empty array is ambiguous. Returning False, but in future this will result in an error. Use `array.size > 0` to check that an array is not empty.\n",
      "  if diff:\n",
      "/Users/homerkay/anaconda3/lib/python3.6/site-packages/sklearn/preprocessing/label.py:151: DeprecationWarning: The truth value of an empty array is ambiguous. Returning False, but in future this will result in an error. Use `array.size > 0` to check that an array is not empty.\n",
      "  if diff:\n"
     ]
    },
    {
     "name": "stdout",
     "output_type": "stream",
     "text": [
      "Cross Validation Score [0.82657316 0.82354056 0.82447161]\n"
     ]
    },
    {
     "name": "stderr",
     "output_type": "stream",
     "text": [
      "/Users/homerkay/anaconda3/lib/python3.6/site-packages/sklearn/preprocessing/label.py:151: DeprecationWarning: The truth value of an empty array is ambiguous. Returning False, but in future this will result in an error. Use `array.size > 0` to check that an array is not empty.\n",
      "  if diff:\n"
     ]
    },
    {
     "data": {
      "text/plain": [
       "0.8248617788606919"
      ]
     },
     "execution_count": 183,
     "metadata": {},
     "output_type": "execute_result"
    }
   ],
   "source": [
    "#verify Stacking with Cross Validation \n",
    "scores = cross_val_score(eclf2, features_train, target_train, cv=3)\n",
    "print(\"Cross Validation Score\",scores)\n",
    "scores.mean()  "
   ]
  },
  {
   "cell_type": "markdown",
   "metadata": {},
   "source": [
    "### Stacking 83% Accuracy, CV Verified"
   ]
  },
  {
   "cell_type": "markdown",
   "metadata": {},
   "source": [
    "# Bagging"
   ]
  },
  {
   "cell_type": "code",
   "execution_count": 255,
   "metadata": {},
   "outputs": [
    {
     "name": "stdout",
     "output_type": "stream",
     "text": [
      "BaggingClassifier(base_estimator=KNeighborsClassifier(algorithm='auto', leaf_size=30, metric='minkowski',\n",
      "           metric_params=None, n_jobs=1, n_neighbors=5, p=2,\n",
      "           weights='uniform'),\n",
      "         bootstrap=True, bootstrap_features=False, max_features=0.5,\n",
      "         max_samples=0.5, n_estimators=10, n_jobs=1, oob_score=False,\n",
      "         random_state=None, verbose=0, warm_start=False)\n",
      "Bagging Accuracy 0.7655340163632344\n",
      "             precision    recall  f1-score   support\n",
      "\n",
      "         No       0.77      0.98      0.86     10258\n",
      "        Yes       0.61      0.11      0.19      3309\n",
      "\n",
      "avg / total       0.73      0.77      0.70     13567\n",
      "\n",
      "[[10019   239]\n",
      " [ 2942   367]]\n"
     ]
    }
   ],
   "source": [
    "#Bagging Classifer\n",
    "from sklearn.ensemble import BaggingClassifier # base estimator is base learner algorithm.  \n",
    "from sklearn.neighbors import KNeighborsClassifier\n",
    "clf_bag = BaggingClassifier(KNeighborsClassifier(), max_samples = 0.5, max_features=0.5)\n",
    "print(clf_bag)\n",
    "clf_bag.fit(features_train, target_train)\n",
    "predicted_bag=clf_bag.predict(features_test)\n",
    "expected = target_test\n",
    "print(\"Bagging Accuracy\", accuracy_score(expected,predicted_bag))\n",
    "print(classification_report(expected, predicted_bag,target_names=['No', 'Yes']))\n",
    "print(confusion_matrix(expected, predicted_bag))\n",
    "\n"
   ]
  },
  {
   "cell_type": "code",
   "execution_count": 261,
   "metadata": {},
   "outputs": [
    {
     "name": "stdout",
     "output_type": "stream",
     "text": [
      "BaggingClassifier(base_estimator=None, bootstrap=True,\n",
      "         bootstrap_features=False, max_features=1.0, max_samples=1.0,\n",
      "         n_estimators=10, n_jobs=1, oob_score=False, random_state=0,\n",
      "         verbose=0, warm_start=False)\n",
      "Bagging Accuracy 0.8143288862681507\n",
      "             precision    recall  f1-score   support\n",
      "\n",
      "         No       0.86      0.91      0.88     10258\n",
      "        Yes       0.65      0.53      0.58      3309\n",
      "\n",
      "avg / total       0.80      0.81      0.81     13567\n",
      "\n",
      "[[9300  958]\n",
      " [1561 1748]]\n"
     ]
    }
   ],
   "source": [
    "#Bagging Classifer\n",
    "from sklearn.ensemble import BaggingClassifier # base estimator is base learner algorithm.  I.E. is you say Decision tree you are making a random forest. \n",
    "clf_bag = BaggingClassifier(n_estimators=10, random_state=0)\n",
    "print(clf_bag)\n",
    "clf_bag.fit(features_train, target_train)\n",
    "predicted_bag=clf_bag.predict(features_test)\n",
    "expected = target_test\n",
    "print(\"Bagging Accuracy\", accuracy_score(expected,predicted_bag))\n",
    "print(classification_report(expected, predicted_bag,target_names=['No', 'Yes']))\n",
    "print(confusion_matrix(expected, predicted_bag))"
   ]
  },
  {
   "cell_type": "code",
   "execution_count": 257,
   "metadata": {},
   "outputs": [
    {
     "name": "stdout",
     "output_type": "stream",
     "text": [
      "BaggingClassifier(base_estimator=LogisticRegression(C=1.0, class_weight=None, dual=False, fit_intercept=True,\n",
      "          intercept_scaling=1, max_iter=100, multi_class='ovr', n_jobs=1,\n",
      "          penalty='l2', random_state=None, solver='liblinear', tol=0.0001,\n",
      "          verbose=0, warm_start=False),\n",
      "         bootstrap=True, bootstrap_features=False, max_features=0.5,\n",
      "         max_samples=0.5, n_estimators=10, n_jobs=1, oob_score=False,\n",
      "         random_state=None, verbose=0, warm_start=False)\n",
      "Bagging Accuracy 0.7851404142404363\n",
      "             precision    recall  f1-score   support\n",
      "\n",
      "         No       0.79      0.98      0.87     10258\n",
      "        Yes       0.73      0.19      0.30      3309\n",
      "\n",
      "avg / total       0.77      0.79      0.73     13567\n",
      "\n",
      "[[10018   240]\n",
      " [ 2675   634]]\n"
     ]
    }
   ],
   "source": [
    "#Bagging Classifer\n",
    "from sklearn.ensemble import BaggingClassifier # base estimator is base learner algorithm.  \n",
    "from sklearn.linear_model import LogisticRegression\n",
    "clf_bag = BaggingClassifier(LogisticRegression(), max_samples = 0.5, max_features=0.5)\n",
    "print(clf_bag)\n",
    "clf_bag.fit(features_train, target_train)\n",
    "predicted_bag=clf_bag.predict(features_test)\n",
    "expected = target_test\n",
    "print(\"Bagging Accuracy\", accuracy_score(expected,predicted_bag))\n",
    "print(classification_report(expected, predicted_bag,target_names=['No', 'Yes']))\n",
    "print(confusion_matrix(expected, predicted_bag))"
   ]
  },
  {
   "cell_type": "code",
   "execution_count": 262,
   "metadata": {},
   "outputs": [
    {
     "name": "stdout",
     "output_type": "stream",
     "text": [
      "Cross Validation Score [0.81238155 0.80859128 0.8149084  0.81301327 0.80859128 0.79595704\n",
      " 0.80884676 0.8192733  0.82053712 0.81352718]\n"
     ]
    },
    {
     "data": {
      "text/plain": [
       "0.8115627198846986"
      ]
     },
     "execution_count": 262,
     "metadata": {},
     "output_type": "execute_result"
    }
   ],
   "source": [
    "#verify Bagging with Cross Validation #DT Method\n",
    "scores = cross_val_score(clf_bag, features_train, target_train, cv=10)\n",
    "print(\"Cross Validation Score\",scores)\n",
    "scores.mean()  "
   ]
  },
  {
   "cell_type": "markdown",
   "metadata": {},
   "source": [
    "### Best Bagging method used DT Base Learner, with Default Variables.  CV Verifies it is Ready for Production.  "
   ]
  },
  {
   "cell_type": "markdown",
   "metadata": {},
   "source": [
    "# SVM RBF (Takes a long time to run)"
   ]
  },
  {
   "cell_type": "code",
   "execution_count": 167,
   "metadata": {},
   "outputs": [
    {
     "data": {
      "text/plain": [
       "(5000, 86)"
      ]
     },
     "execution_count": 167,
     "metadata": {},
     "output_type": "execute_result"
    }
   ],
   "source": [
    "# Reducing Rows for RBF\n",
    "ft = pd.DataFrame(features_train)\n",
    "ft_red = ft[:5000]\n",
    "ft_red.shape\n",
    "tt = pd.DataFrame(target_train)\n",
    "tt_red = tt[:5000]\n",
    "tt_red.shape\n",
    "ftest = pd.DataFrame(features_test)\n",
    "ftest_red = ftest[:5000]\n",
    "ftest_red.shape\n",
    "#TIME NOTES\n",
    "# 1000 Rows = 1.7 Sec\n",
    "# 5000 Rows = 8.5 Sec\n",
    "# 20,000 Rows = 198 Sec\n",
    "# Settled on 5000 Rows for the sake of sanity.  \n",
    "# POLY at 5,000 takes..."
   ]
  },
  {
   "cell_type": "code",
   "execution_count": 168,
   "metadata": {},
   "outputs": [],
   "source": [
    "from sklearn.preprocessing import StandardScaler\n",
    "scaler = StandardScaler()\n",
    "# Fit only to the training data\n",
    "scaler.fit(ft_red)\n",
    "# Now apply the transformations to the data:\n",
    "X_train_RBF = scaler.transform(ft_red)\n",
    "X_test_RBF = scaler.transform(ftest_red)"
   ]
  },
  {
   "cell_type": "code",
   "execution_count": 169,
   "metadata": {},
   "outputs": [
    {
     "name": "stderr",
     "output_type": "stream",
     "text": [
      "/Users/homerkay/anaconda3/lib/python3.6/site-packages/sklearn/utils/validation.py:578: DataConversionWarning: A column-vector y was passed when a 1d array was expected. Please change the shape of y to (n_samples, ), for example using ravel().\n",
      "  y = column_or_1d(y, warn=True)\n"
     ]
    },
    {
     "name": "stdout",
     "output_type": "stream",
     "text": [
      "SVM RBF Accuracy 0.6958\n",
      "             precision    recall  f1-score   support\n",
      "\n",
      "         No       0.76      0.87      0.81      3810\n",
      "        Yes       0.24      0.13      0.17      1190\n",
      "\n",
      "avg / total       0.64      0.70      0.66      5000\n",
      "\n",
      "[[3323  487]\n",
      " [1034  156]]\n",
      "5.496807000000047 seconds\n"
     ]
    }
   ],
   "source": [
    "import numpy as np\n",
    "import matplotlib.pyplot as plt\n",
    "%matplotlib inline \n",
    "from sklearn import svm, datasets\n",
    "import time\n",
    "start_time = time.clock()\n",
    "C = 1.0  # SVM regularization parameter\n",
    "rbf_svc = svm.SVC(kernel='rbf', gamma=0.7, C=C).fit(X_train_RBF, tt_red)\n",
    "predicted_svm_rbf = rbf_svc.predict(X_test_RBF)\n",
    "expected = tt_red\n",
    "print(\"SVM RBF Accuracy\", accuracy_score(expected,predicted_svm_rbf))\n",
    "print(classification_report(expected, predicted_svm_rbf,target_names=['No', 'Yes']))\n",
    "print(confusion_matrix(expected, predicted_svm_rbf))\n",
    "print(time.clock() - start_time, \"seconds\")"
   ]
  },
  {
   "cell_type": "code",
   "execution_count": 170,
   "metadata": {},
   "outputs": [
    {
     "name": "stderr",
     "output_type": "stream",
     "text": [
      "/Users/homerkay/anaconda3/lib/python3.6/site-packages/sklearn/utils/validation.py:578: DataConversionWarning: A column-vector y was passed when a 1d array was expected. Please change the shape of y to (n_samples, ), for example using ravel().\n",
      "  y = column_or_1d(y, warn=True)\n"
     ]
    },
    {
     "name": "stdout",
     "output_type": "stream",
     "text": [
      "SVM RBF Accuracy 0.6828\n",
      "             precision    recall  f1-score   support\n",
      "\n",
      "         No       0.76      0.84      0.80      3810\n",
      "        Yes       0.25      0.17      0.20      1190\n",
      "\n",
      "avg / total       0.64      0.68      0.66      5000\n",
      "\n",
      "[[3213  597]\n",
      " [ 989  201]]\n",
      "3.9995079999999916 seconds\n"
     ]
    }
   ],
   "source": [
    "import numpy as np\n",
    "import matplotlib.pyplot as plt\n",
    "%matplotlib inline \n",
    "from sklearn import svm, datasets\n",
    "import time\n",
    "start_time = time.clock()\n",
    "C = 1.0  # SVM regularization parameter\n",
    "rbf_svc = svm.SVC(kernel='rbf', gamma=0.1, C=C).fit(X_train_RBF, tt_red)\n",
    "predicted_svm_rbf = rbf_svc.predict(X_test_RBF)\n",
    "expected = tt_red\n",
    "print(\"SVM RBF Accuracy\", accuracy_score(expected,predicted_svm_rbf))\n",
    "print(classification_report(expected, predicted_svm_rbf,target_names=['No', 'Yes']))\n",
    "print(confusion_matrix(expected, predicted_svm_rbf))\n",
    "print(time.clock() - start_time, \"seconds\")"
   ]
  },
  {
   "cell_type": "code",
   "execution_count": 178,
   "metadata": {},
   "outputs": [
    {
     "name": "stderr",
     "output_type": "stream",
     "text": [
      "/Users/homerkay/anaconda3/lib/python3.6/site-packages/sklearn/utils/validation.py:578: DataConversionWarning: A column-vector y was passed when a 1d array was expected. Please change the shape of y to (n_samples, ), for example using ravel().\n",
      "  y = column_or_1d(y, warn=True)\n"
     ]
    },
    {
     "name": "stdout",
     "output_type": "stream",
     "text": [
      "SVM RBF Accuracy 0.7\n",
      "             precision    recall  f1-score   support\n",
      "\n",
      "         No       0.76      0.88      0.82      3810\n",
      "        Yes       0.24      0.12      0.16      1190\n",
      "\n",
      "avg / total       0.64      0.70      0.66      5000\n",
      "\n",
      "[[3354  456]\n",
      " [1044  146]]\n",
      "4.588366999999948 seconds\n"
     ]
    }
   ],
   "source": [
    "import numpy as np\n",
    "import matplotlib.pyplot as plt\n",
    "%matplotlib inline \n",
    "from sklearn import svm, datasets\n",
    "import time\n",
    "start_time = time.clock()\n",
    "C = 0.5  # SVM regularization parameter\n",
    "rbf_svc = svm.SVC(kernel='rbf', gamma=0.3, C=C).fit(X_train_RBF, tt_red)\n",
    "predicted_svm_rbf = rbf_svc.predict(X_test_RBF)\n",
    "expected = tt_red\n",
    "print(\"SVM RBF Accuracy\", accuracy_score(expected,predicted_svm_rbf))\n",
    "print(classification_report(expected, predicted_svm_rbf,target_names=['No', 'Yes']))\n",
    "print(confusion_matrix(expected, predicted_svm_rbf))\n",
    "print(time.clock() - start_time, \"seconds\")"
   ]
  },
  {
   "cell_type": "code",
   "execution_count": 177,
   "metadata": {},
   "outputs": [
    {
     "name": "stderr",
     "output_type": "stream",
     "text": [
      "/Users/homerkay/anaconda3/lib/python3.6/site-packages/sklearn/utils/validation.py:578: DataConversionWarning: A column-vector y was passed when a 1d array was expected. Please change the shape of y to (n_samples, ), for example using ravel().\n",
      "  y = column_or_1d(y, warn=True)\n",
      "/Users/homerkay/anaconda3/lib/python3.6/site-packages/sklearn/utils/validation.py:578: DataConversionWarning: A column-vector y was passed when a 1d array was expected. Please change the shape of y to (n_samples, ), for example using ravel().\n",
      "  y = column_or_1d(y, warn=True)\n",
      "/Users/homerkay/anaconda3/lib/python3.6/site-packages/sklearn/utils/validation.py:578: DataConversionWarning: A column-vector y was passed when a 1d array was expected. Please change the shape of y to (n_samples, ), for example using ravel().\n",
      "  y = column_or_1d(y, warn=True)\n",
      "/Users/homerkay/anaconda3/lib/python3.6/site-packages/sklearn/utils/validation.py:578: DataConversionWarning: A column-vector y was passed when a 1d array was expected. Please change the shape of y to (n_samples, ), for example using ravel().\n",
      "  y = column_or_1d(y, warn=True)\n",
      "/Users/homerkay/anaconda3/lib/python3.6/site-packages/sklearn/utils/validation.py:578: DataConversionWarning: A column-vector y was passed when a 1d array was expected. Please change the shape of y to (n_samples, ), for example using ravel().\n",
      "  y = column_or_1d(y, warn=True)\n"
     ]
    },
    {
     "name": "stdout",
     "output_type": "stream",
     "text": [
      "Cross Validation Score [0.815 0.808 0.818 0.815 0.821]\n"
     ]
    },
    {
     "data": {
      "text/plain": [
       "0.8154"
      ]
     },
     "execution_count": 177,
     "metadata": {},
     "output_type": "execute_result"
    }
   ],
   "source": [
    "#verify SVM RBF with Cross Validation C=0.5 gamma=0.3\n",
    "scores = cross_val_score(rbf_svc, X_train_RBF, tt_red, cv=5)\n",
    "print(\"Cross Validation Score\",scores)\n",
    "scores.mean()  "
   ]
  },
  {
   "cell_type": "markdown",
   "metadata": {},
   "source": [
    "### SVM RBF - Best accuracy 76%, Verified with CV"
   ]
  },
  {
   "cell_type": "markdown",
   "metadata": {},
   "source": [
    "# Stochastic Gradient Descent"
   ]
  },
  {
   "cell_type": "code",
   "execution_count": 147,
   "metadata": {},
   "outputs": [
    {
     "name": "stderr",
     "output_type": "stream",
     "text": [
      "/Users/homerkay/anaconda3/lib/python3.6/site-packages/sklearn/utils/validation.py:475: DataConversionWarning: Data with input dtype int64 was converted to float64 by StandardScaler.\n",
      "  warnings.warn(msg, DataConversionWarning)\n"
     ]
    }
   ],
   "source": [
    "from sklearn.preprocessing import StandardScaler\n",
    "scaler = StandardScaler()\n",
    "# Fit only to the training data\n",
    "scaler.fit(features_train)\n",
    "# Now apply the transformations to the data:\n",
    "X_train = scaler.transform(features_train)\n",
    "X_test = scaler.transform(features_test)"
   ]
  },
  {
   "cell_type": "code",
   "execution_count": 148,
   "metadata": {},
   "outputs": [
    {
     "name": "stdout",
     "output_type": "stream",
     "text": [
      "SGD Accuracy Score 0.7919215744084912\n",
      "Classification Report\n",
      "             precision    recall  f1-score   support\n",
      "\n",
      "          0       0.88      0.84      0.86     10258\n",
      "          1       0.56      0.65      0.61      3309\n",
      "\n",
      "avg / total       0.80      0.79      0.80     13567\n",
      "\n",
      "Confusion Matrix\n",
      "[[8579 1679]\n",
      " [1144 2165]]\n"
     ]
    },
    {
     "name": "stderr",
     "output_type": "stream",
     "text": [
      "/Users/homerkay/anaconda3/lib/python3.6/site-packages/sklearn/linear_model/stochastic_gradient.py:128: FutureWarning: max_iter and tol parameters have been added in <class 'sklearn.linear_model.stochastic_gradient.SGDClassifier'> in 0.19. If both are left unset, they default to max_iter=5 and tol=None. If tol is not None, max_iter defaults to max_iter=1000. From 0.21, default max_iter will be 1000, and default tol will be 1e-3.\n",
      "  \"and default tol will be 1e-3.\" % type(self), FutureWarning)\n"
     ]
    }
   ],
   "source": [
    "## SGD\n",
    "from sklearn.linear_model import SGDClassifier \n",
    "clf_sgd = SGDClassifier(alpha=0.0001, average=False, class_weight=None, epsilon=0.1,\n",
    "       eta0=0.0, fit_intercept=True, l1_ratio=0.15,\n",
    "       learning_rate='optimal', loss='hinge', max_iter=None, n_iter=None,\n",
    "       n_jobs=1, penalty='l2', power_t=0.5, random_state=None,\n",
    "       shuffle=True, tol=None, verbose=0, warm_start=False)\n",
    "clf_sgd = clf_sgd.fit(X_train, target_train)\n",
    "target_predicted_sgd = clf_sgd.predict(X_test)\n",
    "print(\"SGD Accuracy Score\", accuracy_score(target_test, target_predicted_sgd))\n",
    "print(\"Classification Report\")\n",
    "print(classification_report(target_test, target_predicted_sgd))\n",
    "print(\"Confusion Matrix\")\n",
    "print(confusion_matrix(target_test, target_predicted_sgd))"
   ]
  },
  {
   "cell_type": "code",
   "execution_count": 153,
   "metadata": {},
   "outputs": [
    {
     "name": "stdout",
     "output_type": "stream",
     "text": [
      "SGD Accuracy Score 0.7908159504680474\n",
      "Classification Report\n",
      "             precision    recall  f1-score   support\n",
      "\n",
      "          0       0.84      0.89      0.87     10258\n",
      "          1       0.59      0.49      0.53      3309\n",
      "\n",
      "avg / total       0.78      0.79      0.78     13567\n",
      "\n",
      "Confusion Matrix\n",
      "[[9109 1149]\n",
      " [1689 1620]]\n"
     ]
    },
    {
     "name": "stderr",
     "output_type": "stream",
     "text": [
      "/Users/homerkay/anaconda3/lib/python3.6/site-packages/sklearn/linear_model/stochastic_gradient.py:128: FutureWarning: max_iter and tol parameters have been added in <class 'sklearn.linear_model.stochastic_gradient.SGDClassifier'> in 0.19. If both are left unset, they default to max_iter=5 and tol=None. If tol is not None, max_iter defaults to max_iter=1000. From 0.21, default max_iter will be 1000, and default tol will be 1e-3.\n",
      "  \"and default tol will be 1e-3.\" % type(self), FutureWarning)\n"
     ]
    }
   ],
   "source": [
    "## SGD\n",
    "from sklearn.linear_model import SGDClassifier \n",
    "clf_sgd = SGDClassifier(alpha=0.0001, average=False, class_weight=None, epsilon=0.1,\n",
    "       eta0=0.0, fit_intercept=True, l1_ratio=0.5,\n",
    "       learning_rate='optimal', loss='hinge', max_iter=None, n_iter=None,\n",
    "       n_jobs=1, penalty='l2', power_t=0.5, random_state=None,\n",
    "       shuffle=True, tol=None, verbose=0, warm_start=False)\n",
    "clf_sgd = clf_sgd.fit(X_train, target_train)\n",
    "target_predicted_sgd = clf_sgd.predict(X_test)\n",
    "print(\"SGD Accuracy Score\", accuracy_score(target_test, target_predicted_sgd))\n",
    "print(\"Classification Report\")\n",
    "print(classification_report(target_test, target_predicted_sgd))\n",
    "print(\"Confusion Matrix\")\n",
    "print(confusion_matrix(target_test, target_predicted_sgd))"
   ]
  },
  {
   "cell_type": "code",
   "execution_count": 150,
   "metadata": {},
   "outputs": [
    {
     "name": "stdout",
     "output_type": "stream",
     "text": [
      "SGD Accuracy Score 0.7722414682685929\n",
      "Classification Report\n",
      "             precision    recall  f1-score   support\n",
      "\n",
      "          0       0.90      0.79      0.84     10258\n",
      "          1       0.52      0.73      0.61      3309\n",
      "\n",
      "avg / total       0.81      0.77      0.78     13567\n",
      "\n",
      "Confusion Matrix\n",
      "[[8071 2187]\n",
      " [ 903 2406]]\n"
     ]
    },
    {
     "name": "stderr",
     "output_type": "stream",
     "text": [
      "/Users/homerkay/anaconda3/lib/python3.6/site-packages/sklearn/linear_model/stochastic_gradient.py:128: FutureWarning: max_iter and tol parameters have been added in <class 'sklearn.linear_model.stochastic_gradient.SGDClassifier'> in 0.19. If both are left unset, they default to max_iter=5 and tol=None. If tol is not None, max_iter defaults to max_iter=1000. From 0.21, default max_iter will be 1000, and default tol will be 1e-3.\n",
      "  \"and default tol will be 1e-3.\" % type(self), FutureWarning)\n"
     ]
    }
   ],
   "source": [
    "## SGD\n",
    "from sklearn.linear_model import SGDClassifier \n",
    "clf_sgd = SGDClassifier(alpha=0.0001, average=False, class_weight=None, epsilon=0.1,\n",
    "       eta0=0.0, fit_intercept=True, l1_ratio=0.15,\n",
    "       learning_rate='optimal', loss='hinge', max_iter=None, n_iter=None,\n",
    "       n_jobs=1, penalty='l2', power_t=0.9, random_state=None,\n",
    "       shuffle=True, tol=None, verbose=0, warm_start=False)\n",
    "clf_sgd = clf_sgd.fit(X_train, target_train)\n",
    "target_predicted_sgd = clf_sgd.predict(X_test)\n",
    "print(\"SGD Accuracy Score\", accuracy_score(target_test, target_predicted_sgd))\n",
    "print(\"Classification Report\")\n",
    "print(classification_report(target_test, target_predicted_sgd))\n",
    "print(\"Confusion Matrix\")\n",
    "print(confusion_matrix(target_test, target_predicted_sgd))"
   ]
  },
  {
   "cell_type": "code",
   "execution_count": 155,
   "metadata": {},
   "outputs": [
    {
     "name": "stderr",
     "output_type": "stream",
     "text": [
      "/Users/homerkay/anaconda3/lib/python3.6/site-packages/sklearn/linear_model/stochastic_gradient.py:128: FutureWarning: max_iter and tol parameters have been added in <class 'sklearn.linear_model.stochastic_gradient.SGDClassifier'> in 0.19. If both are left unset, they default to max_iter=5 and tol=None. If tol is not None, max_iter defaults to max_iter=1000. From 0.21, default max_iter will be 1000, and default tol will be 1e-3.\n",
      "  \"and default tol will be 1e-3.\" % type(self), FutureWarning)\n",
      "/Users/homerkay/anaconda3/lib/python3.6/site-packages/sklearn/linear_model/stochastic_gradient.py:128: FutureWarning: max_iter and tol parameters have been added in <class 'sklearn.linear_model.stochastic_gradient.SGDClassifier'> in 0.19. If both are left unset, they default to max_iter=5 and tol=None. If tol is not None, max_iter defaults to max_iter=1000. From 0.21, default max_iter will be 1000, and default tol will be 1e-3.\n",
      "  \"and default tol will be 1e-3.\" % type(self), FutureWarning)\n",
      "/Users/homerkay/anaconda3/lib/python3.6/site-packages/sklearn/linear_model/stochastic_gradient.py:128: FutureWarning: max_iter and tol parameters have been added in <class 'sklearn.linear_model.stochastic_gradient.SGDClassifier'> in 0.19. If both are left unset, they default to max_iter=5 and tol=None. If tol is not None, max_iter defaults to max_iter=1000. From 0.21, default max_iter will be 1000, and default tol will be 1e-3.\n",
      "  \"and default tol will be 1e-3.\" % type(self), FutureWarning)\n",
      "/Users/homerkay/anaconda3/lib/python3.6/site-packages/sklearn/linear_model/stochastic_gradient.py:128: FutureWarning: max_iter and tol parameters have been added in <class 'sklearn.linear_model.stochastic_gradient.SGDClassifier'> in 0.19. If both are left unset, they default to max_iter=5 and tol=None. If tol is not None, max_iter defaults to max_iter=1000. From 0.21, default max_iter will be 1000, and default tol will be 1e-3.\n",
      "  \"and default tol will be 1e-3.\" % type(self), FutureWarning)\n",
      "/Users/homerkay/anaconda3/lib/python3.6/site-packages/sklearn/linear_model/stochastic_gradient.py:128: FutureWarning: max_iter and tol parameters have been added in <class 'sklearn.linear_model.stochastic_gradient.SGDClassifier'> in 0.19. If both are left unset, they default to max_iter=5 and tol=None. If tol is not None, max_iter defaults to max_iter=1000. From 0.21, default max_iter will be 1000, and default tol will be 1e-3.\n",
      "  \"and default tol will be 1e-3.\" % type(self), FutureWarning)\n",
      "/Users/homerkay/anaconda3/lib/python3.6/site-packages/sklearn/linear_model/stochastic_gradient.py:128: FutureWarning: max_iter and tol parameters have been added in <class 'sklearn.linear_model.stochastic_gradient.SGDClassifier'> in 0.19. If both are left unset, they default to max_iter=5 and tol=None. If tol is not None, max_iter defaults to max_iter=1000. From 0.21, default max_iter will be 1000, and default tol will be 1e-3.\n",
      "  \"and default tol will be 1e-3.\" % type(self), FutureWarning)\n",
      "/Users/homerkay/anaconda3/lib/python3.6/site-packages/sklearn/linear_model/stochastic_gradient.py:128: FutureWarning: max_iter and tol parameters have been added in <class 'sklearn.linear_model.stochastic_gradient.SGDClassifier'> in 0.19. If both are left unset, they default to max_iter=5 and tol=None. If tol is not None, max_iter defaults to max_iter=1000. From 0.21, default max_iter will be 1000, and default tol will be 1e-3.\n",
      "  \"and default tol will be 1e-3.\" % type(self), FutureWarning)\n",
      "/Users/homerkay/anaconda3/lib/python3.6/site-packages/sklearn/linear_model/stochastic_gradient.py:128: FutureWarning: max_iter and tol parameters have been added in <class 'sklearn.linear_model.stochastic_gradient.SGDClassifier'> in 0.19. If both are left unset, they default to max_iter=5 and tol=None. If tol is not None, max_iter defaults to max_iter=1000. From 0.21, default max_iter will be 1000, and default tol will be 1e-3.\n",
      "  \"and default tol will be 1e-3.\" % type(self), FutureWarning)\n",
      "/Users/homerkay/anaconda3/lib/python3.6/site-packages/sklearn/linear_model/stochastic_gradient.py:128: FutureWarning: max_iter and tol parameters have been added in <class 'sklearn.linear_model.stochastic_gradient.SGDClassifier'> in 0.19. If both are left unset, they default to max_iter=5 and tol=None. If tol is not None, max_iter defaults to max_iter=1000. From 0.21, default max_iter will be 1000, and default tol will be 1e-3.\n",
      "  \"and default tol will be 1e-3.\" % type(self), FutureWarning)\n"
     ]
    },
    {
     "name": "stdout",
     "output_type": "stream",
     "text": [
      "Cross Validation Score [0.7883765  0.78963992 0.79879975 0.7804801  0.77037271 0.77511055\n",
      " 0.78388626 0.78830964 0.79873618 0.79361568]\n"
     ]
    },
    {
     "name": "stderr",
     "output_type": "stream",
     "text": [
      "/Users/homerkay/anaconda3/lib/python3.6/site-packages/sklearn/linear_model/stochastic_gradient.py:128: FutureWarning: max_iter and tol parameters have been added in <class 'sklearn.linear_model.stochastic_gradient.SGDClassifier'> in 0.19. If both are left unset, they default to max_iter=5 and tol=None. If tol is not None, max_iter defaults to max_iter=1000. From 0.21, default max_iter will be 1000, and default tol will be 1e-3.\n",
      "  \"and default tol will be 1e-3.\" % type(self), FutureWarning)\n"
     ]
    },
    {
     "data": {
      "text/plain": [
       "0.7867327278402472"
      ]
     },
     "execution_count": 155,
     "metadata": {},
     "output_type": "execute_result"
    }
   ],
   "source": [
    "#verify SGD with Cross Validation\n",
    "scores = cross_val_score(clf_sgd, X_train, target_train, cv=10)\n",
    "print(\"Cross Validation Score\",scores)\n",
    "scores.mean()  "
   ]
  },
  {
   "cell_type": "markdown",
   "metadata": {},
   "source": [
    "### SGD 79% Accurate, CV Verified.  "
   ]
  },
  {
   "cell_type": "markdown",
   "metadata": {},
   "source": [
    "# Artificial Neural Network"
   ]
  },
  {
   "cell_type": "code",
   "execution_count": 134,
   "metadata": {},
   "outputs": [
    {
     "name": "stderr",
     "output_type": "stream",
     "text": [
      "/Users/homerkay/anaconda3/lib/python3.6/site-packages/sklearn/utils/validation.py:475: DataConversionWarning: Data with input dtype int64 was converted to float64 by StandardScaler.\n",
      "  warnings.warn(msg, DataConversionWarning)\n"
     ]
    }
   ],
   "source": [
    "from sklearn.preprocessing import StandardScaler\n",
    "scaler = StandardScaler()\n",
    "# Fit only to the training data\n",
    "scaler.fit(features_train)\n",
    "# Now apply the transformations to the data:\n",
    "X_train = scaler.transform(features_train)\n",
    "X_test = scaler.transform(features_test)"
   ]
  },
  {
   "cell_type": "code",
   "execution_count": 138,
   "metadata": {},
   "outputs": [
    {
     "name": "stdout",
     "output_type": "stream",
     "text": [
      "MLPClassifier(activation='relu', alpha=0.0001, batch_size='auto', beta_1=0.9,\n",
      "       beta_2=0.999, early_stopping=False, epsilon=1e-08,\n",
      "       hidden_layer_sizes=(10, 5), learning_rate='constant',\n",
      "       learning_rate_init=0.001, max_iter=200, momentum=0.9,\n",
      "       nesterovs_momentum=True, power_t=0.5, random_state=None,\n",
      "       shuffle=True, solver='adam', tol=0.0001, validation_fraction=0.1,\n",
      "       verbose=False, warm_start=False)\n",
      "Accuracy 0.8359254072381515\n",
      "             precision    recall  f1-score   support\n",
      "\n",
      "          0       0.88      0.91      0.89     10258\n",
      "          1       0.69      0.60      0.64      3309\n",
      "\n",
      "avg / total       0.83      0.84      0.83     13567\n",
      "\n",
      "[[9345  913]\n",
      " [1313 1996]]\n"
     ]
    }
   ],
   "source": [
    "from sklearn.neural_network import MLPClassifier\n",
    "mlp = MLPClassifier(hidden_layer_sizes=(10,5))\n",
    "print(mlp)\n",
    "mlp.fit(X_train,target_train)\n",
    "predictions = mlp.predict(X_test)\n",
    "from sklearn.metrics import classification_report,confusion_matrix\n",
    "print(\"Accuracy\", accuracy_score(target_test,predictions))\n",
    "print(classification_report(target_test,predictions))\n",
    "print(confusion_matrix(target_test,predictions))"
   ]
  },
  {
   "cell_type": "code",
   "execution_count": 136,
   "metadata": {},
   "outputs": [
    {
     "name": "stdout",
     "output_type": "stream",
     "text": [
      "MLPClassifier(activation='relu', alpha=0.0001, batch_size='auto', beta_1=0.9,\n",
      "       beta_2=0.999, early_stopping=False, epsilon=1e-08,\n",
      "       hidden_layer_sizes=(20, 10, 5), learning_rate='constant',\n",
      "       learning_rate_init=0.001, max_iter=200, momentum=0.9,\n",
      "       nesterovs_momentum=True, power_t=0.5, random_state=None,\n",
      "       shuffle=True, solver='adam', tol=0.0001, validation_fraction=0.1,\n",
      "       verbose=False, warm_start=False)\n",
      "Accuracy 0.8359991155008476\n",
      "             precision    recall  f1-score   support\n",
      "\n",
      "          0       0.87      0.92      0.89     10258\n",
      "          1       0.70      0.57      0.63      3309\n",
      "\n",
      "avg / total       0.83      0.84      0.83     13567\n",
      "\n",
      "[[9458  800]\n",
      " [1425 1884]]\n"
     ]
    }
   ],
   "source": [
    "from sklearn.neural_network import MLPClassifier\n",
    "mlp = MLPClassifier(hidden_layer_sizes=(20,10,5))\n",
    "print(mlp)\n",
    "mlp.fit(X_train,target_train)\n",
    "predictions = mlp.predict(X_test)\n",
    "from sklearn.metrics import classification_report,confusion_matrix\n",
    "print(\"Accuracy\", accuracy_score(target_test,predictions))\n",
    "print(classification_report(target_test,predictions))\n",
    "print(confusion_matrix(target_test,predictions))"
   ]
  },
  {
   "cell_type": "code",
   "execution_count": 137,
   "metadata": {},
   "outputs": [
    {
     "name": "stdout",
     "output_type": "stream",
     "text": [
      "MLPClassifier(activation='relu', alpha=0.0001, batch_size='auto', beta_1=0.9,\n",
      "       beta_2=0.999, early_stopping=False, epsilon=1e-08,\n",
      "       hidden_layer_sizes=(30, 10), learning_rate='constant',\n",
      "       learning_rate_init=0.001, max_iter=200, momentum=0.9,\n",
      "       nesterovs_momentum=True, power_t=0.5, random_state=None,\n",
      "       shuffle=True, solver='adam', tol=0.0001, validation_fraction=0.1,\n",
      "       verbose=False, warm_start=False)\n",
      "Accuracy 0.8327559519422127\n",
      "             precision    recall  f1-score   support\n",
      "\n",
      "          0       0.87      0.92      0.89     10258\n",
      "          1       0.69      0.56      0.62      3309\n",
      "\n",
      "avg / total       0.82      0.83      0.83     13567\n",
      "\n",
      "[[9434  824]\n",
      " [1445 1864]]\n"
     ]
    }
   ],
   "source": [
    "from sklearn.neural_network import MLPClassifier\n",
    "mlp = MLPClassifier(hidden_layer_sizes=(30,10))\n",
    "print(mlp)\n",
    "mlp.fit(X_train,target_train)\n",
    "predictions = mlp.predict(X_test)\n",
    "from sklearn.metrics import classification_report,confusion_matrix\n",
    "print(\"Accuracy\", accuracy_score(target_test,predictions))\n",
    "print(classification_report(target_test,predictions))\n",
    "print(confusion_matrix(target_test,predictions))"
   ]
  },
  {
   "cell_type": "code",
   "execution_count": 140,
   "metadata": {},
   "outputs": [
    {
     "name": "stdout",
     "output_type": "stream",
     "text": [
      "Cross Validation Score [0.83686039 0.8302006  0.82640973 0.83446533 0.83096367]\n"
     ]
    },
    {
     "data": {
      "text/plain": [
       "0.8317799432403545"
      ]
     },
     "execution_count": 140,
     "metadata": {},
     "output_type": "execute_result"
    }
   ],
   "source": [
    "#verify ANN with Cross Validation Hidden 10,5 layers\n",
    "scores = cross_val_score(mlp, X_train, target_train, cv=5)\n",
    "print(\"Cross Validation Score\",scores)\n",
    "scores.mean()  "
   ]
  },
  {
   "cell_type": "markdown",
   "metadata": {},
   "source": [
    "### ANN Accuracy 83%, CV Verified"
   ]
  },
  {
   "cell_type": "code",
   "execution_count": null,
   "metadata": {},
   "outputs": [],
   "source": []
  }
 ],
 "metadata": {
  "kernelspec": {
   "display_name": "Python 3",
   "language": "python",
   "name": "python3"
  },
  "language_info": {
   "codemirror_mode": {
    "name": "ipython",
    "version": 3
   },
   "file_extension": ".py",
   "mimetype": "text/x-python",
   "name": "python",
   "nbconvert_exporter": "python",
   "pygments_lexer": "ipython3",
   "version": "3.6.5"
  }
 },
 "nbformat": 4,
 "nbformat_minor": 2
}

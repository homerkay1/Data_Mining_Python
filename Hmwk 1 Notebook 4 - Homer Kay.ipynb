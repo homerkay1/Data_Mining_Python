{
 "cells": [
  {
   "cell_type": "markdown",
   "metadata": {},
   "source": [
    "# Hmwk 1 Part 4 - Homer Kay"
   ]
  },
  {
   "cell_type": "code",
   "execution_count": 1,
   "metadata": {},
   "outputs": [],
   "source": [
    "#Add packages\n",
    "%matplotlib inline \n",
    "import numpy as np\n",
    "import matplotlib.pyplot as plt\n",
    "import pandas as pd\n",
    "#From Scikit Learn\n",
    "from sklearn import preprocessing\n",
    "from sklearn.model_selection  import train_test_split, cross_val_score, KFold\n",
    "from sklearn.model_selection import GridSearchCV\n",
    "from sklearn.metrics import accuracy_score, precision_score, recall_score, f1_score\n",
    "from sklearn.metrics import roc_curve, auc, confusion_matrix, classification_report"
   ]
  },
  {
   "cell_type": "code",
   "execution_count": 2,
   "metadata": {},
   "outputs": [
    {
     "data": {
      "text/plain": [
       "'/Users/homerkay/Desktop/6303 Predictive Models/HMWK 1/Notebooks'"
      ]
     },
     "execution_count": 2,
     "metadata": {},
     "output_type": "execute_result"
    }
   ],
   "source": [
    "# Checking Current Directory\n",
    "%pwd"
   ]
  },
  {
   "cell_type": "code",
   "execution_count": 3,
   "metadata": {},
   "outputs": [
    {
     "name": "stdout",
     "output_type": "stream",
     "text": [
      "/Users/homerkay/Desktop/6303 Predictive Models/HMWK 1\n"
     ]
    }
   ],
   "source": [
    "# Change Directory\n",
    "%cd /Users/homerkay/Desktop/6303 Predictive Models/HMWK 1"
   ]
  },
  {
   "cell_type": "markdown",
   "metadata": {},
   "source": [
    "## Reading in Dataset from URL"
   ]
  },
  {
   "cell_type": "code",
   "execution_count": 4,
   "metadata": {},
   "outputs": [
    {
     "data": {
      "text/html": [
       "<div>\n",
       "<style scoped>\n",
       "    .dataframe tbody tr th:only-of-type {\n",
       "        vertical-align: middle;\n",
       "    }\n",
       "\n",
       "    .dataframe tbody tr th {\n",
       "        vertical-align: top;\n",
       "    }\n",
       "\n",
       "    .dataframe thead th {\n",
       "        text-align: right;\n",
       "    }\n",
       "</style>\n",
       "<table border=\"1\" class=\"dataframe\">\n",
       "  <thead>\n",
       "    <tr style=\"text-align: right;\">\n",
       "      <th></th>\n",
       "      <th>Obs</th>\n",
       "      <th>lcavol</th>\n",
       "      <th>lweight</th>\n",
       "      <th>age</th>\n",
       "      <th>lbph</th>\n",
       "      <th>svi</th>\n",
       "      <th>lcp</th>\n",
       "      <th>gleason</th>\n",
       "      <th>pgg45</th>\n",
       "      <th>lpsa</th>\n",
       "    </tr>\n",
       "  </thead>\n",
       "  <tbody>\n",
       "    <tr>\n",
       "      <th>0</th>\n",
       "      <td>1</td>\n",
       "      <td>-0.579818</td>\n",
       "      <td>2.769459</td>\n",
       "      <td>50</td>\n",
       "      <td>-1.386294</td>\n",
       "      <td>0</td>\n",
       "      <td>-1.386294</td>\n",
       "      <td>6</td>\n",
       "      <td>0</td>\n",
       "      <td>-0.430783</td>\n",
       "    </tr>\n",
       "    <tr>\n",
       "      <th>1</th>\n",
       "      <td>2</td>\n",
       "      <td>-0.994252</td>\n",
       "      <td>3.319626</td>\n",
       "      <td>58</td>\n",
       "      <td>-1.386294</td>\n",
       "      <td>0</td>\n",
       "      <td>-1.386294</td>\n",
       "      <td>6</td>\n",
       "      <td>0</td>\n",
       "      <td>-0.162519</td>\n",
       "    </tr>\n",
       "    <tr>\n",
       "      <th>2</th>\n",
       "      <td>3</td>\n",
       "      <td>-0.510826</td>\n",
       "      <td>2.691243</td>\n",
       "      <td>74</td>\n",
       "      <td>-1.386294</td>\n",
       "      <td>0</td>\n",
       "      <td>-1.386294</td>\n",
       "      <td>7</td>\n",
       "      <td>20</td>\n",
       "      <td>-0.162519</td>\n",
       "    </tr>\n",
       "    <tr>\n",
       "      <th>3</th>\n",
       "      <td>4</td>\n",
       "      <td>-1.203973</td>\n",
       "      <td>3.282789</td>\n",
       "      <td>58</td>\n",
       "      <td>-1.386294</td>\n",
       "      <td>0</td>\n",
       "      <td>-1.386294</td>\n",
       "      <td>6</td>\n",
       "      <td>0</td>\n",
       "      <td>-0.162519</td>\n",
       "    </tr>\n",
       "    <tr>\n",
       "      <th>4</th>\n",
       "      <td>5</td>\n",
       "      <td>0.751416</td>\n",
       "      <td>3.432373</td>\n",
       "      <td>62</td>\n",
       "      <td>-1.386294</td>\n",
       "      <td>0</td>\n",
       "      <td>-1.386294</td>\n",
       "      <td>6</td>\n",
       "      <td>0</td>\n",
       "      <td>0.371564</td>\n",
       "    </tr>\n",
       "    <tr>\n",
       "      <th>5</th>\n",
       "      <td>6</td>\n",
       "      <td>-1.049822</td>\n",
       "      <td>3.228826</td>\n",
       "      <td>50</td>\n",
       "      <td>-1.386294</td>\n",
       "      <td>0</td>\n",
       "      <td>-1.386294</td>\n",
       "      <td>6</td>\n",
       "      <td>0</td>\n",
       "      <td>0.765468</td>\n",
       "    </tr>\n",
       "    <tr>\n",
       "      <th>6</th>\n",
       "      <td>7</td>\n",
       "      <td>0.737164</td>\n",
       "      <td>3.473518</td>\n",
       "      <td>64</td>\n",
       "      <td>0.615186</td>\n",
       "      <td>0</td>\n",
       "      <td>-1.386294</td>\n",
       "      <td>6</td>\n",
       "      <td>0</td>\n",
       "      <td>0.765468</td>\n",
       "    </tr>\n",
       "    <tr>\n",
       "      <th>7</th>\n",
       "      <td>8</td>\n",
       "      <td>0.693147</td>\n",
       "      <td>3.539509</td>\n",
       "      <td>58</td>\n",
       "      <td>1.536867</td>\n",
       "      <td>0</td>\n",
       "      <td>-1.386294</td>\n",
       "      <td>6</td>\n",
       "      <td>0</td>\n",
       "      <td>0.854415</td>\n",
       "    </tr>\n",
       "    <tr>\n",
       "      <th>8</th>\n",
       "      <td>9</td>\n",
       "      <td>-0.776529</td>\n",
       "      <td>3.539509</td>\n",
       "      <td>47</td>\n",
       "      <td>-1.386294</td>\n",
       "      <td>0</td>\n",
       "      <td>-1.386294</td>\n",
       "      <td>6</td>\n",
       "      <td>0</td>\n",
       "      <td>1.047319</td>\n",
       "    </tr>\n",
       "    <tr>\n",
       "      <th>9</th>\n",
       "      <td>10</td>\n",
       "      <td>0.223144</td>\n",
       "      <td>3.244544</td>\n",
       "      <td>63</td>\n",
       "      <td>-1.386294</td>\n",
       "      <td>0</td>\n",
       "      <td>-1.386294</td>\n",
       "      <td>6</td>\n",
       "      <td>0</td>\n",
       "      <td>1.047319</td>\n",
       "    </tr>\n",
       "  </tbody>\n",
       "</table>\n",
       "</div>"
      ],
      "text/plain": [
       "   Obs    lcavol   lweight  age      lbph  svi       lcp  gleason  pgg45  \\\n",
       "0    1 -0.579818  2.769459   50 -1.386294    0 -1.386294        6      0   \n",
       "1    2 -0.994252  3.319626   58 -1.386294    0 -1.386294        6      0   \n",
       "2    3 -0.510826  2.691243   74 -1.386294    0 -1.386294        7     20   \n",
       "3    4 -1.203973  3.282789   58 -1.386294    0 -1.386294        6      0   \n",
       "4    5  0.751416  3.432373   62 -1.386294    0 -1.386294        6      0   \n",
       "5    6 -1.049822  3.228826   50 -1.386294    0 -1.386294        6      0   \n",
       "6    7  0.737164  3.473518   64  0.615186    0 -1.386294        6      0   \n",
       "7    8  0.693147  3.539509   58  1.536867    0 -1.386294        6      0   \n",
       "8    9 -0.776529  3.539509   47 -1.386294    0 -1.386294        6      0   \n",
       "9   10  0.223144  3.244544   63 -1.386294    0 -1.386294        6      0   \n",
       "\n",
       "       lpsa  \n",
       "0 -0.430783  \n",
       "1 -0.162519  \n",
       "2 -0.162519  \n",
       "3 -0.162519  \n",
       "4  0.371564  \n",
       "5  0.765468  \n",
       "6  0.765468  \n",
       "7  0.854415  \n",
       "8  1.047319  \n",
       "9  1.047319  "
      ]
     },
     "execution_count": 4,
     "metadata": {},
     "output_type": "execute_result"
    }
   ],
   "source": [
    "## Pt 1\n",
    "pst=pd.read_csv(\"prostate.csv\", sep=\",\")\n",
    "## Use Enconding argument, Latin-1, iso... etc to read in files properly\n",
    "#Had to remove \"NA\" from dataset native file to get to read properly\n",
    "pst.head(10)\n"
   ]
  },
  {
   "cell_type": "markdown",
   "metadata": {},
   "source": [
    "## Prostate Target Variable"
   ]
  },
  {
   "cell_type": "code",
   "execution_count": 5,
   "metadata": {},
   "outputs": [
    {
     "data": {
      "text/html": [
       "<div>\n",
       "<style scoped>\n",
       "    .dataframe tbody tr th:only-of-type {\n",
       "        vertical-align: middle;\n",
       "    }\n",
       "\n",
       "    .dataframe tbody tr th {\n",
       "        vertical-align: top;\n",
       "    }\n",
       "\n",
       "    .dataframe thead th {\n",
       "        text-align: right;\n",
       "    }\n",
       "</style>\n",
       "<table border=\"1\" class=\"dataframe\">\n",
       "  <thead>\n",
       "    <tr style=\"text-align: right;\">\n",
       "      <th></th>\n",
       "      <th>lpsa</th>\n",
       "      <th>Obs</th>\n",
       "      <th>lcavol</th>\n",
       "      <th>lweight</th>\n",
       "      <th>age</th>\n",
       "      <th>lbph</th>\n",
       "      <th>svi</th>\n",
       "      <th>lcp</th>\n",
       "      <th>gleason</th>\n",
       "      <th>pgg45</th>\n",
       "    </tr>\n",
       "  </thead>\n",
       "  <tbody>\n",
       "    <tr>\n",
       "      <th>0</th>\n",
       "      <td>-0.430783</td>\n",
       "      <td>1</td>\n",
       "      <td>-0.579818</td>\n",
       "      <td>2.769459</td>\n",
       "      <td>50</td>\n",
       "      <td>-1.386294</td>\n",
       "      <td>0</td>\n",
       "      <td>-1.386294</td>\n",
       "      <td>6</td>\n",
       "      <td>0</td>\n",
       "    </tr>\n",
       "    <tr>\n",
       "      <th>1</th>\n",
       "      <td>-0.162519</td>\n",
       "      <td>2</td>\n",
       "      <td>-0.994252</td>\n",
       "      <td>3.319626</td>\n",
       "      <td>58</td>\n",
       "      <td>-1.386294</td>\n",
       "      <td>0</td>\n",
       "      <td>-1.386294</td>\n",
       "      <td>6</td>\n",
       "      <td>0</td>\n",
       "    </tr>\n",
       "    <tr>\n",
       "      <th>2</th>\n",
       "      <td>-0.162519</td>\n",
       "      <td>3</td>\n",
       "      <td>-0.510826</td>\n",
       "      <td>2.691243</td>\n",
       "      <td>74</td>\n",
       "      <td>-1.386294</td>\n",
       "      <td>0</td>\n",
       "      <td>-1.386294</td>\n",
       "      <td>7</td>\n",
       "      <td>20</td>\n",
       "    </tr>\n",
       "    <tr>\n",
       "      <th>3</th>\n",
       "      <td>-0.162519</td>\n",
       "      <td>4</td>\n",
       "      <td>-1.203973</td>\n",
       "      <td>3.282789</td>\n",
       "      <td>58</td>\n",
       "      <td>-1.386294</td>\n",
       "      <td>0</td>\n",
       "      <td>-1.386294</td>\n",
       "      <td>6</td>\n",
       "      <td>0</td>\n",
       "    </tr>\n",
       "    <tr>\n",
       "      <th>4</th>\n",
       "      <td>0.371564</td>\n",
       "      <td>5</td>\n",
       "      <td>0.751416</td>\n",
       "      <td>3.432373</td>\n",
       "      <td>62</td>\n",
       "      <td>-1.386294</td>\n",
       "      <td>0</td>\n",
       "      <td>-1.386294</td>\n",
       "      <td>6</td>\n",
       "      <td>0</td>\n",
       "    </tr>\n",
       "    <tr>\n",
       "      <th>5</th>\n",
       "      <td>0.765468</td>\n",
       "      <td>6</td>\n",
       "      <td>-1.049822</td>\n",
       "      <td>3.228826</td>\n",
       "      <td>50</td>\n",
       "      <td>-1.386294</td>\n",
       "      <td>0</td>\n",
       "      <td>-1.386294</td>\n",
       "      <td>6</td>\n",
       "      <td>0</td>\n",
       "    </tr>\n",
       "    <tr>\n",
       "      <th>6</th>\n",
       "      <td>0.765468</td>\n",
       "      <td>7</td>\n",
       "      <td>0.737164</td>\n",
       "      <td>3.473518</td>\n",
       "      <td>64</td>\n",
       "      <td>0.615186</td>\n",
       "      <td>0</td>\n",
       "      <td>-1.386294</td>\n",
       "      <td>6</td>\n",
       "      <td>0</td>\n",
       "    </tr>\n",
       "    <tr>\n",
       "      <th>7</th>\n",
       "      <td>0.854415</td>\n",
       "      <td>8</td>\n",
       "      <td>0.693147</td>\n",
       "      <td>3.539509</td>\n",
       "      <td>58</td>\n",
       "      <td>1.536867</td>\n",
       "      <td>0</td>\n",
       "      <td>-1.386294</td>\n",
       "      <td>6</td>\n",
       "      <td>0</td>\n",
       "    </tr>\n",
       "    <tr>\n",
       "      <th>8</th>\n",
       "      <td>1.047319</td>\n",
       "      <td>9</td>\n",
       "      <td>-0.776529</td>\n",
       "      <td>3.539509</td>\n",
       "      <td>47</td>\n",
       "      <td>-1.386294</td>\n",
       "      <td>0</td>\n",
       "      <td>-1.386294</td>\n",
       "      <td>6</td>\n",
       "      <td>0</td>\n",
       "    </tr>\n",
       "    <tr>\n",
       "      <th>9</th>\n",
       "      <td>1.047319</td>\n",
       "      <td>10</td>\n",
       "      <td>0.223144</td>\n",
       "      <td>3.244544</td>\n",
       "      <td>63</td>\n",
       "      <td>-1.386294</td>\n",
       "      <td>0</td>\n",
       "      <td>-1.386294</td>\n",
       "      <td>6</td>\n",
       "      <td>0</td>\n",
       "    </tr>\n",
       "  </tbody>\n",
       "</table>\n",
       "</div>"
      ],
      "text/plain": [
       "       lpsa  Obs    lcavol   lweight  age      lbph  svi       lcp  gleason  \\\n",
       "0 -0.430783    1 -0.579818  2.769459   50 -1.386294    0 -1.386294        6   \n",
       "1 -0.162519    2 -0.994252  3.319626   58 -1.386294    0 -1.386294        6   \n",
       "2 -0.162519    3 -0.510826  2.691243   74 -1.386294    0 -1.386294        7   \n",
       "3 -0.162519    4 -1.203973  3.282789   58 -1.386294    0 -1.386294        6   \n",
       "4  0.371564    5  0.751416  3.432373   62 -1.386294    0 -1.386294        6   \n",
       "5  0.765468    6 -1.049822  3.228826   50 -1.386294    0 -1.386294        6   \n",
       "6  0.765468    7  0.737164  3.473518   64  0.615186    0 -1.386294        6   \n",
       "7  0.854415    8  0.693147  3.539509   58  1.536867    0 -1.386294        6   \n",
       "8  1.047319    9 -0.776529  3.539509   47 -1.386294    0 -1.386294        6   \n",
       "9  1.047319   10  0.223144  3.244544   63 -1.386294    0 -1.386294        6   \n",
       "\n",
       "   pgg45  \n",
       "0      0  \n",
       "1      0  \n",
       "2     20  \n",
       "3      0  \n",
       "4      0  \n",
       "5      0  \n",
       "6      0  \n",
       "7      0  \n",
       "8      0  \n",
       "9      0  "
      ]
     },
     "execution_count": 5,
     "metadata": {},
     "output_type": "execute_result"
    }
   ],
   "source": [
    "# Move Prostate column.\n",
    "# designate target variable name\n",
    "targetName = 'lpsa'\n",
    "targetSeries = pst[targetName]\n",
    "#remove target from current location and insert in collum 0\n",
    "del pst[targetName]\n",
    "pst.insert(0, targetName, targetSeries)\n",
    "#reprint dataframe and see target is in position 0\n",
    "pst.head(10)"
   ]
  },
  {
   "cell_type": "markdown",
   "metadata": {},
   "source": [
    "## EDA"
   ]
  },
  {
   "cell_type": "code",
   "execution_count": 6,
   "metadata": {
    "scrolled": true
   },
   "outputs": [
    {
     "name": "stdout",
     "output_type": "stream",
     "text": [
      "(97, 10)\n",
      "lpsa       float64\n",
      "Obs          int64\n",
      "lcavol     float64\n",
      "lweight    float64\n",
      "age          int64\n",
      "lbph       float64\n",
      "svi          int64\n",
      "lcp        float64\n",
      "gleason      int64\n",
      "pgg45        int64\n",
      "dtype: object\n",
      "lpsa        2.478387\n",
      "Obs        49.000000\n",
      "lcavol      1.350010\n",
      "lweight     3.628943\n",
      "age        63.865979\n",
      "lbph        0.100356\n",
      "svi         0.216495\n",
      "lcp        -0.179366\n",
      "gleason     6.752577\n",
      "pgg45      24.381443\n",
      "dtype: float64\n",
      "\n",
      "lpsa        1.154329\n",
      "Obs        28.145456\n",
      "lcavol      1.178625\n",
      "lweight     0.428411\n",
      "age         7.445117\n",
      "lbph        1.450807\n",
      "svi         0.413995\n",
      "lcp         1.398250\n",
      "gleason     0.722134\n",
      "pgg45      28.204035\n",
      "dtype: float64\n"
     ]
    }
   ],
   "source": [
    "print(pst.shape)\n",
    "print(pst.dtypes)\n",
    "print(pst.mean())\n",
    "print()\n",
    "print(pst.std())\n",
    "\n",
    "\n"
   ]
  },
  {
   "cell_type": "markdown",
   "metadata": {},
   "source": [
    "## Test/Train 70/30"
   ]
  },
  {
   "cell_type": "code",
   "execution_count": 7,
   "metadata": {},
   "outputs": [],
   "source": [
    "features_train, features_test, target_train, target_test = train_test_split(\n",
    "    pst.iloc[:,1:].values, pst.iloc[:,0].values, test_size=0.30, random_state=0)"
   ]
  },
  {
   "cell_type": "code",
   "execution_count": 8,
   "metadata": {},
   "outputs": [
    {
     "name": "stdout",
     "output_type": "stream",
     "text": [
      "(30, 9)\n",
      "(67, 9)\n",
      "(30,)\n",
      "(67,)\n"
     ]
    }
   ],
   "source": [
    "print(features_test.shape)\n",
    "print(features_train.shape)\n",
    "print(target_test.shape)\n",
    "print(target_train.shape)"
   ]
  },
  {
   "cell_type": "markdown",
   "metadata": {},
   "source": [
    "## Ridge"
   ]
  },
  {
   "cell_type": "code",
   "execution_count": 9,
   "metadata": {},
   "outputs": [],
   "source": [
    "from sklearn.linear_model import Ridge\n",
    "ridge_reg = Ridge(alpha=0, normalize=True)\n",
    "ridge_reg.fit(features_train, target_train)\n",
    "target_predicted_ridge = ridge_reg.predict(features_test)\n"
   ]
  },
  {
   "cell_type": "markdown",
   "metadata": {},
   "source": [
    "## Print Coefficients/Metrics"
   ]
  },
  {
   "cell_type": "code",
   "execution_count": 10,
   "metadata": {
    "scrolled": false
   },
   "outputs": [
    {
     "name": "stdout",
     "output_type": "stream",
     "text": [
      "[ 0.03699324  0.10517099 -0.11260045 -0.00413638  0.04626408 -0.05959463\n",
      "  0.02000217 -0.07985978  0.00122541]\n",
      "mse\n",
      "0.1339312410276445\n",
      "explained variance score\n",
      "0.9141793444812155\n",
      "mean absolute error\n",
      "0.2791496668675404\n"
     ]
    }
   ],
   "source": [
    "print(ridge_reg.coef_)\n",
    "mse = np.mean((target_predicted_ridge-target_test)**2)\n",
    "print('mse')\n",
    "print(mse)\n",
    "## Explained Variance Score\n",
    "from sklearn.metrics import explained_variance_score\n",
    "print('explained variance score')\n",
    "print(explained_variance_score(target_test, target_predicted_ridge))  \n",
    "\n",
    "from sklearn.metrics import mean_absolute_error\n",
    "print('mean absolute error')\n",
    "print(mean_absolute_error(target_test, target_predicted_ridge))\n"
   ]
  },
  {
   "cell_type": "markdown",
   "metadata": {},
   "source": [
    "## LASSO Regression"
   ]
  },
  {
   "cell_type": "code",
   "execution_count": 27,
   "metadata": {},
   "outputs": [],
   "source": [
    "from sklearn.linear_model import Lasso\n",
    "lassoreg = Lasso(alpha=0.1)\n",
    "lassoreg.fit(features_train, target_train)\n",
    "target_predicted_lasso = lassoreg.predict(features_test)\n"
   ]
  },
  {
   "cell_type": "code",
   "execution_count": 28,
   "metadata": {},
   "outputs": [
    {
     "name": "stdout",
     "output_type": "stream",
     "text": [
      "[ 0.03847472  0.         -0.         -0.          0.          0.\n",
      "  0.         -0.          0.00053672]\n",
      "mse\n",
      "0.1388089804888271\n",
      "explained variance score\n",
      "0.911012035962331\n",
      "mean absolute error\n",
      "0.2541667102470429\n"
     ]
    }
   ],
   "source": [
    "print(lassoreg.coef_)\n",
    "mse = np.mean((target_predicted_lasso-target_test)**2)\n",
    "print('mse')\n",
    "print(mse)\n",
    "## Explained Variance Score\n",
    "from sklearn.metrics import explained_variance_score\n",
    "print('explained variance score')\n",
    "print(explained_variance_score(target_test, target_predicted_lasso))  \n",
    "\n",
    "from sklearn.metrics import mean_absolute_error\n",
    "print('mean absolute error')\n",
    "print(mean_absolute_error(target_test, target_predicted_lasso))"
   ]
  },
  {
   "cell_type": "markdown",
   "metadata": {},
   "source": [
    "## Elastic Net Regression"
   ]
  },
  {
   "cell_type": "code",
   "execution_count": 29,
   "metadata": {},
   "outputs": [
    {
     "name": "stdout",
     "output_type": "stream",
     "text": [
      "ElasticNet(alpha=0.1, copy_X=True, fit_intercept=True, l1_ratio=0.5,\n",
      "      max_iter=1000, normalize=False, positive=False, precompute=False,\n",
      "      random_state=None, selection='cyclic', tol=0.0001, warm_start=False)\n"
     ]
    }
   ],
   "source": [
    "from sklearn.linear_model import ElasticNet\n",
    "en = ElasticNet(alpha=0.1)\n",
    "en.fit(features_train, target_train)\n",
    "print(en)\n",
    "target_predicted_en = en.predict(features_test)\n"
   ]
  },
  {
   "cell_type": "code",
   "execution_count": 30,
   "metadata": {},
   "outputs": [
    {
     "name": "stdout",
     "output_type": "stream",
     "text": [
      "[ 0.03823749  0.01140537 -0.         -0.00072161  0.          0.\n",
      "  0.         -0.          0.00054233]\n",
      "mse\n",
      "0.13582239924427414\n",
      "explained variance score\n",
      "0.9128079407046956\n",
      "mean absolute error\n",
      "0.25312295839349835\n"
     ]
    }
   ],
   "source": [
    "print(en.coef_)\n",
    "mse = np.mean((target_predicted_en-target_test)**2)\n",
    "print('mse')\n",
    "print(mse)\n",
    "## Explained Variance Score\n",
    "from sklearn.metrics import explained_variance_score\n",
    "print('explained variance score')\n",
    "print(explained_variance_score(target_test, target_predicted_en))  \n",
    "\n",
    "from sklearn.metrics import mean_absolute_error\n",
    "print('mean absolute error')\n",
    "print(mean_absolute_error(target_test, target_predicted_en))"
   ]
  },
  {
   "cell_type": "markdown",
   "metadata": {},
   "source": [
    "## Ordinary Least Squares"
   ]
  },
  {
   "cell_type": "code",
   "execution_count": 31,
   "metadata": {},
   "outputs": [],
   "source": [
    "from sklearn import linear_model\n",
    "reg = linear_model.LinearRegression()\n",
    "ols = reg.fit (features_train, target_train)\n",
    "target_predicted_reg = reg.predict(features_test)"
   ]
  },
  {
   "cell_type": "code",
   "execution_count": 32,
   "metadata": {},
   "outputs": [
    {
     "name": "stdout",
     "output_type": "stream",
     "text": [
      "[ 0.03699324  0.10517099 -0.11260045 -0.00413638  0.04626408 -0.05959463\n",
      "  0.02000217 -0.07985978  0.00122541]\n",
      "mse\n",
      "0.13393124102764437\n",
      "explained variance score\n",
      "0.9141793444812156\n",
      "mean absolute error\n",
      "0.2791496668675403\n"
     ]
    }
   ],
   "source": [
    "print(reg.coef_)\n",
    "mse = np.mean((target_predicted_reg-target_test)**2)\n",
    "print('mse')\n",
    "print(mse)\n",
    "## Explained Variance Score\n",
    "from sklearn.metrics import explained_variance_score\n",
    "print('explained variance score')\n",
    "print(explained_variance_score(target_test, target_predicted_reg))  \n",
    "\n",
    "from sklearn.metrics import mean_absolute_error\n",
    "print('mean absolute error')\n",
    "print(mean_absolute_error(target_test, target_predicted_reg))"
   ]
  },
  {
   "cell_type": "markdown",
   "metadata": {},
   "source": [
    "## Part B - Grid Search"
   ]
  },
  {
   "cell_type": "code",
   "execution_count": 49,
   "metadata": {},
   "outputs": [
    {
     "name": "stdout",
     "output_type": "stream",
     "text": [
      "Grid Scores {'mean_fit_time': array([0.01380525, 0.00197511, 0.00077386]), 'std_fit_time': array([6.43333332e-03, 9.57701446e-04, 3.19033637e-05]), 'mean_score_time': array([0.00097399, 0.00046082, 0.00035415]), 'std_score_time': array([3.20745371e-04, 1.35377622e-04, 4.38665825e-05]), 'param_alpha': masked_array(data=[0.01, 1, 0.05],\n",
      "             mask=[False, False, False],\n",
      "       fill_value='?',\n",
      "            dtype=object), 'params': [{'alpha': 0.01}, {'alpha': 1}, {'alpha': 0.05}], 'split0_test_score': array([0.88615009, 0.79149991, 0.88713693]), 'split1_test_score': array([0.86381108, 0.57445349, 0.84609634]), 'split2_test_score': array([0.94497562, 0.83255372, 0.95988892]), 'split3_test_score': array([0.79320425, 0.47699615, 0.76610143]), 'split4_test_score': array([0.94899956, 0.83095519, 0.95970145]), 'mean_test_score': array([0.88705655, 0.70074497, 0.88327253]), 'std_test_score': array([0.0567232 , 0.14638414, 0.07230582]), 'rank_test_score': array([1, 3, 2], dtype=int32), 'split0_train_score': array([0.9352614 , 0.77971538, 0.9311151 ]), 'split1_train_score': array([0.93088247, 0.77784664, 0.92710348]), 'split2_train_score': array([0.92712569, 0.7744007 , 0.92291165]), 'split3_train_score': array([0.94541341, 0.80100098, 0.9417076 ]), 'split4_train_score': array([0.92607559, 0.76526686, 0.92197663]), 'mean_train_score': array([0.93295171, 0.77964611, 0.92896289]), 'std_train_score': array([0.00701618, 0.01177753, 0.00715461])}\n",
      "Best {'alpha': 0.01}\n"
     ]
    }
   ],
   "source": [
    "# use a full grid over several parameters and cross validate 5 times\n",
    "from sklearn.model_selection import GridSearchCV\n",
    "#param_grid = {\"alpha\": [.01,.1, .5, 1, 2]}\n",
    "#param_grid={\"alpha\": [1,10,1]} #this does a range 1 through 10 changes by a factor of 1. \n",
    "param_grid={\"alpha\": [.01,1,.05]} #this does a range 1 through 1 changes by a factor of .05\n",
    "\n",
    "# run grid search\n",
    "grid_search = GridSearchCV(ridge_reg, param_grid=param_grid,n_jobs=-1,cv=5)\n",
    "grid_search.fit(features_train, target_train)\n",
    "print(\"Grid Scores\", grid_search.cv_results_)\n",
    "print(\"Best\", grid_search.best_params_)    "
   ]
  },
  {
   "cell_type": "code",
   "execution_count": 45,
   "metadata": {},
   "outputs": [
    {
     "name": "stdout",
     "output_type": "stream",
     "text": [
      "Grid Scores {'mean_fit_time': array([0.00605569, 0.00106015, 0.00079679, 0.00080757, 0.00087118]), 'std_fit_time': array([0.0030463 , 0.00065755, 0.00016081, 0.00027032, 0.00040787]), 'mean_score_time': array([0.00147605, 0.00065145, 0.00064468, 0.00062218, 0.00058947]), 'std_score_time': array([0.000329  , 0.00018447, 0.00037098, 0.00026164, 0.00024844]), 'param_alpha': masked_array(data=[0.01, 0.1, 0.5, 1, 2],\n",
      "             mask=[False, False, False, False, False],\n",
      "       fill_value='?',\n",
      "            dtype=object), 'params': [{'alpha': 0.01}, {'alpha': 0.1}, {'alpha': 0.5}, {'alpha': 1}, {'alpha': 2}], 'split0_test_score': array([0.89728328, 0.90609794, 0.9097718 , 0.91197415, 0.91208025]), 'split1_test_score': array([0.87841618, 0.88007422, 0.88792682, 0.88071235, 0.86330882]), 'split2_test_score': array([0.94247163, 0.93775297, 0.94500014, 0.95356464, 0.96861698]), 'split3_test_score': array([0.8301912 , 0.82733732, 0.82405083, 0.81699191, 0.801157  ]), 'split4_test_score': array([0.9470537 , 0.93315463, 0.93656094, 0.94029326, 0.94587262]), 'mean_test_score': array([0.89874787, 0.89677006, 0.90060799, 0.90057699, 0.89789333]), 'std_test_score': array([0.04269038, 0.03993223, 0.04267941, 0.04812499, 0.05937057]), 'rank_test_score': array([3, 5, 1, 2, 4], dtype=int32), 'split0_train_score': array([0.93382104, 0.92374024, 0.92307423, 0.9219263 , 0.91782505]), 'split1_train_score': array([0.92883594, 0.91744611, 0.91441562, 0.91341371, 0.90940604]), 'split2_train_score': array([0.92515783, 0.91814747, 0.9178318 , 0.91700617, 0.91403685]), 'split3_train_score': array([0.94336806, 0.93762333, 0.93703786, 0.93612587, 0.9324779 ]), 'split4_train_score': array([0.92432598, 0.91884824, 0.91852376, 0.91764908, 0.91455179]), 'mean_train_score': array([0.93110177, 0.92316108, 0.92217665, 0.92122423, 0.91765953]), 'std_train_score': array([0.00698902, 0.00756161, 0.00792611, 0.00792628, 0.00788053])}\n",
      "Best {'alpha': 0.5}\n"
     ]
    }
   ],
   "source": [
    "# use a full grid over several parameters and cross validate 5 times\n",
    "from sklearn.model_selection import GridSearchCV\n",
    "param_grid = {\"alpha\": [.01,.1, .5, 1, 2]}\n",
    "#param_grid={\"alpha\": [1,10,1]} #this does a range 1 through 10 changes by a factor of 1. \n",
    "#param_grid={\"alpha\": [.01,1,.05]} #this does a range 1 through 1 changes by a factor of .05\n",
    "\n",
    "# run grid search\n",
    "grid_search = GridSearchCV(lassoreg, param_grid=param_grid,n_jobs=-1,cv=5)\n",
    "grid_search.fit(features_train, target_train)\n",
    "print(\"Grid Scores\", grid_search.cv_results_)\n",
    "print(\"Best\", grid_search.best_params_)   "
   ]
  },
  {
   "cell_type": "code",
   "execution_count": 46,
   "metadata": {},
   "outputs": [
    {
     "name": "stdout",
     "output_type": "stream",
     "text": [
      "Grid Scores {'mean_fit_time': array([0.0027638 , 0.00070815, 0.00029507]), 'std_fit_time': array([1.07895461e-03, 4.87605466e-04, 5.14365637e-06]), 'mean_score_time': array([0.00089121, 0.00053406, 0.00020156]), 'std_score_time': array([2.69022169e-04, 4.72494930e-04, 5.33674307e-06]), 'param_alpha': masked_array(data=[0.01, 1, 0.05],\n",
      "             mask=[False, False, False],\n",
      "       fill_value='?',\n",
      "            dtype=object), 'params': [{'alpha': 0.01}, {'alpha': 1}, {'alpha': 0.05}], 'split0_test_score': array([0.89223793, 0.90972197, 0.90333872]), 'split1_test_score': array([0.87468355, 0.88768833, 0.88280911]), 'split2_test_score': array([0.94281548, 0.94537835, 0.93982291]), 'split3_test_score': array([0.81755441, 0.82380176, 0.83211439]), 'split4_test_score': array([0.94664952, 0.93673207, 0.94112402]), 'mean_test_score': array([0.89445004, 0.90060601, 0.8996398 ]), 'std_test_score': array([0.04703741, 0.04288316, 0.03992461]), 'rank_test_score': array([3, 1, 2], dtype=int32), 'split0_train_score': array([0.93500208, 0.92305932, 0.92946757]), 'split1_train_score': array([0.93044478, 0.91439373, 0.92464625]), 'split2_train_score': array([0.92638164, 0.91781765, 0.92327328]), 'split3_train_score': array([0.94497217, 0.93701513, 0.94129975]), 'split4_train_score': array([0.92549865, 0.91850844, 0.92129673]), 'mean_train_score': array([0.93245986, 0.92215885, 0.92799672]), 'std_train_score': array([0.00710612, 0.0079245 , 0.00717719])}\n",
      "Best {'alpha': 1}\n"
     ]
    }
   ],
   "source": [
    "# use a full grid over several parameters and cross validate 5 times\n",
    "from sklearn.model_selection import GridSearchCV\n",
    "#param_grid = {\"alpha\": [.01,.1, .5, 1, 2]}\n",
    "#param_grid={\"alpha\": [1,10,1]} #this does a range 1 through 10 changes by a factor of 1. \n",
    "param_grid={\"alpha\": [.01,1,.05]} #this does a range 1 through 1 changes by a factor of .05\n",
    "\n",
    "# run grid search\n",
    "grid_search = GridSearchCV(en, param_grid=param_grid,n_jobs=-1,cv=5)\n",
    "grid_search.fit(features_train, target_train)\n",
    "print(\"Grid Scores\", grid_search.cv_results_)\n",
    "print(\"Best\", grid_search.best_params_)   "
   ]
  },
  {
   "cell_type": "markdown",
   "metadata": {},
   "source": [
    "## Re-Run Lasso and EN with optimized Alpha"
   ]
  },
  {
   "cell_type": "code",
   "execution_count": 34,
   "metadata": {},
   "outputs": [],
   "source": [
    "from sklearn.linear_model import Lasso\n",
    "lassoreg = Lasso(alpha=1)\n",
    "lassoreg.fit(features_train, target_train)\n",
    "target_predicted_lasso = lassoreg.predict(features_test)\n"
   ]
  },
  {
   "cell_type": "code",
   "execution_count": 35,
   "metadata": {},
   "outputs": [
    {
     "name": "stdout",
     "output_type": "stream",
     "text": [
      "[ 0.03751218  0.         -0.         -0.          0.          0.\n",
      "  0.          0.          0.        ]\n",
      "mse\n",
      "0.14100615636069663\n",
      "explained variance score\n",
      "0.909603134312027\n",
      "mean absolute error\n",
      "0.23862730611581603\n"
     ]
    }
   ],
   "source": [
    "print(lassoreg.coef_)\n",
    "mse = np.mean((target_predicted_lasso-target_test)**2)\n",
    "print('mse')\n",
    "print(mse)\n",
    "## Explained Variance Score\n",
    "from sklearn.metrics import explained_variance_score\n",
    "print('explained variance score')\n",
    "print(explained_variance_score(target_test, target_predicted_lasso))  \n",
    "\n",
    "from sklearn.metrics import mean_absolute_error\n",
    "print('mean absolute error')\n",
    "print(mean_absolute_error(target_test, target_predicted_lasso))"
   ]
  },
  {
   "cell_type": "code",
   "execution_count": 36,
   "metadata": {},
   "outputs": [
    {
     "name": "stdout",
     "output_type": "stream",
     "text": [
      "ElasticNet(alpha=1, copy_X=True, fit_intercept=True, l1_ratio=0.5,\n",
      "      max_iter=1000, normalize=False, positive=False, precompute=False,\n",
      "      random_state=None, selection='cyclic', tol=0.0001, warm_start=False)\n"
     ]
    }
   ],
   "source": [
    "from sklearn.linear_model import ElasticNet\n",
    "en = ElasticNet(alpha=1)\n",
    "en.fit(features_train, target_train)\n",
    "print(en)\n",
    "target_predicted_en = en.predict(features_test)\n"
   ]
  },
  {
   "cell_type": "code",
   "execution_count": 37,
   "metadata": {},
   "outputs": [
    {
     "name": "stdout",
     "output_type": "stream",
     "text": [
      "[ 0.03806647  0.         -0.         -0.          0.          0.\n",
      "  0.         -0.          0.00019737]\n",
      "mse\n",
      "0.1391287322114935\n",
      "explained variance score\n",
      "0.9108142390386148\n",
      "mean absolute error\n",
      "0.24628887305286906\n"
     ]
    }
   ],
   "source": [
    "print(en.coef_)\n",
    "mse = np.mean((target_predicted_en-target_test)**2)\n",
    "print('mse')\n",
    "print(mse)\n",
    "## Explained Variance Score\n",
    "from sklearn.metrics import explained_variance_score\n",
    "print('explained variance score')\n",
    "print(explained_variance_score(target_test, target_predicted_en))  \n",
    "\n",
    "from sklearn.metrics import mean_absolute_error\n",
    "print('mean absolute error')\n",
    "print(mean_absolute_error(target_test, target_predicted_en))"
   ]
  },
  {
   "cell_type": "markdown",
   "metadata": {},
   "source": [
    "## Results LASSO/EN\n",
    "Once again, both Lasso and Elastic Net had almost identical results throughout.  I believe this is because EN is a function of Ridge and Lasso, and Lasso must dominate that function.  Although the difference between Alpha = 0.1 and (optimized thorugh grid search) Alpha = 1 was not as significant on this dataset.  MSE was 14%, Explained Variance 90%, and MAE 24%.  This model is very accurate compared to the Prostate dataset.  "
   ]
  },
  {
   "cell_type": "markdown",
   "metadata": {},
   "source": [
    "## Part C Cross Validation OLS\n",
    "Cross Validation suggests the OLS model is not close to optimized and that the variance is not captured well in the model training.  \n",
    "\n",
    "## Results OLS\n",
    "Since Alpha = 0 for Ridge Regression is equivalent to OLS there is no difference between the initial Ridge model and this OLS model.  The Cross Validation suggests the model is not stable enough across the dataset to be production ready.  "
   ]
  },
  {
   "cell_type": "code",
   "execution_count": 38,
   "metadata": {},
   "outputs": [
    {
     "name": "stdout",
     "output_type": "stream",
     "text": [
      "Cross Validation Score for each K [0.89429521 0.83005612 0.95197232 0.77815274 0.94589605 0.93673892\n",
      " 0.72400751 0.79753743 0.92571727 0.94612212]\n"
     ]
    },
    {
     "data": {
      "text/plain": [
       "0.8730495693172788"
      ]
     },
     "execution_count": 38,
     "metadata": {},
     "output_type": "execute_result"
    }
   ],
   "source": [
    "#verify OLS with Cross Validation\n",
    "scores = cross_val_score(ols, features_train, target_train, cv=10)\n",
    "print(\"Cross Validation Score for each K\",scores)\n",
    "scores.mean()   "
   ]
  },
  {
   "cell_type": "markdown",
   "metadata": {},
   "source": [
    "## Cross Validation RIDGE"
   ]
  },
  {
   "cell_type": "code",
   "execution_count": 39,
   "metadata": {},
   "outputs": [
    {
     "name": "stdout",
     "output_type": "stream",
     "text": [
      "Cross Validation Score for each K [0.89429521 0.83005612 0.95197232 0.77815274 0.94589605 0.93673892\n",
      " 0.72400751 0.79753743 0.92571727 0.94612212]\n"
     ]
    },
    {
     "data": {
      "text/plain": [
       "0.873049569317279"
      ]
     },
     "execution_count": 39,
     "metadata": {},
     "output_type": "execute_result"
    }
   ],
   "source": [
    "#verify Ridge with Cross Validation\n",
    "scores = cross_val_score(ridge_reg, features_train, target_train, cv=10)\n",
    "print(\"Cross Validation Score for each K\",scores)\n",
    "scores.mean()   "
   ]
  },
  {
   "cell_type": "markdown",
   "metadata": {},
   "source": [
    "## Optimized RIDGE"
   ]
  },
  {
   "cell_type": "code",
   "execution_count": 50,
   "metadata": {},
   "outputs": [],
   "source": [
    "from sklearn.linear_model import Ridge\n",
    "ridge_reg = Ridge(alpha=0.01, normalize=True)\n",
    "ridge_reg.fit(features_train, target_train)\n",
    "target_predicted_ridge = ridge_reg.predict(features_test)\n"
   ]
  },
  {
   "cell_type": "code",
   "execution_count": 51,
   "metadata": {},
   "outputs": [
    {
     "name": "stdout",
     "output_type": "stream",
     "text": [
      "[ 0.03587394  0.11752058 -0.08737111 -0.00476521  0.04615647 -0.03048378\n",
      "  0.01331575 -0.07018886  0.00122656]\n",
      "mse\n",
      "0.12954080005862953\n",
      "explained variance score\n",
      "0.9165333596032441\n",
      "mean absolute error\n",
      "0.27105321797768966\n"
     ]
    }
   ],
   "source": [
    "print(ridge_reg.coef_)\n",
    "mse = np.mean((target_predicted_ridge-target_test)**2)\n",
    "print('mse')\n",
    "print(mse)\n",
    "## Explained Variance Score\n",
    "from sklearn.metrics import explained_variance_score\n",
    "print('explained variance score')\n",
    "print(explained_variance_score(target_test, target_predicted_ridge))  \n",
    "\n",
    "from sklearn.metrics import mean_absolute_error\n",
    "print('mean absolute error')\n",
    "print(mean_absolute_error(target_test, target_predicted_ridge))\n"
   ]
  },
  {
   "cell_type": "code",
   "execution_count": 52,
   "metadata": {},
   "outputs": [
    {
     "name": "stdout",
     "output_type": "stream",
     "text": [
      "Cross Validation Score for each K [0.90163356 0.82815781 0.94835285 0.77540377 0.95336509 0.9428201\n",
      " 0.71650533 0.7970091  0.93226855 0.95013041]\n"
     ]
    },
    {
     "data": {
      "text/plain": [
       "0.874564656363874"
      ]
     },
     "execution_count": 52,
     "metadata": {},
     "output_type": "execute_result"
    }
   ],
   "source": [
    "#verify Ridge with Cross Validation\n",
    "scores = cross_val_score(ridge_reg, features_train, target_train, cv=10)\n",
    "print(\"Cross Validation Score for each K\",scores)\n",
    "scores.mean()   "
   ]
  },
  {
   "cell_type": "markdown",
   "metadata": {},
   "source": [
    "## Results/Conclusions RIDGE (Optimized Model)\n",
    "Initial Results:\n",
    "Ridge Alpha = 0 \n",
    "- MSE - .13\n",
    "- EVS - .91\n",
    "- MAE - .28\n",
    "Grid Search Results \n",
    "- Alpha = 0.01\n",
    "Ridge Alpha = 0.05\n",
    "- MSE - .13\n",
    "- EVS - .92\n",
    "- MAE - .27\n",
    "\n",
    "During CV I found there were considerable outliers suggesting the full variance of the dataset is not captured during training.  \n",
    "\n",
    "From Alpha = 0 to Alpha = 0.01 the MSE, EVS, and MAE improved very minimally, suggesting that the penalty method may not be necessary in this solution.  The MAE evaluates the absolute difference in error of the means.  It is easily interpretable.  The explained variance score states how well the variance describes the prediction results.  In this case 92% is very good, but not terrible.  Relating the Variance score to CV you can see that there may be some case of overfitting since the accuracy is getting very good while the CV is showing instability.  "
   ]
  }
 ],
 "metadata": {
  "kernelspec": {
   "display_name": "Python 3",
   "language": "python",
   "name": "python3"
  },
  "language_info": {
   "codemirror_mode": {
    "name": "ipython",
    "version": 3
   },
   "file_extension": ".py",
   "mimetype": "text/x-python",
   "name": "python",
   "nbconvert_exporter": "python",
   "pygments_lexer": "ipython3",
   "version": "3.6.5"
  }
 },
 "nbformat": 4,
 "nbformat_minor": 2
}
